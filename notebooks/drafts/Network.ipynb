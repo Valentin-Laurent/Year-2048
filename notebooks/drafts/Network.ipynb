{
 "cells": [
  {
   "cell_type": "markdown",
   "id": "b184a774",
   "metadata": {
    "ExecuteTime": {
     "end_time": "2021-05-25T13:22:42.227452Z",
     "start_time": "2021-05-25T13:22:42.222872Z"
    }
   },
   "source": [
    "# Imports"
   ]
  },
  {
   "cell_type": "code",
   "execution_count": 1,
   "id": "7c400da7",
   "metadata": {
    "ExecuteTime": {
     "end_time": "2021-05-31T14:49:00.890190Z",
     "start_time": "2021-05-31T14:48:54.021484Z"
    }
   },
   "outputs": [],
   "source": [
    "import time\n",
    "import gym_2048\n",
    "from tensorforce import Agent, Environment\n",
    "import numpy as np\n",
    "import seaborn as sns\n",
    "import matplotlib.pyplot as plt\n",
    "import pandas as pd\n",
    "import json\n",
    "from scipy.ndimage.filters import uniform_filter1d\n",
    "%load_ext tensorboard\n",
    "\n",
    "# import pour visualiser les parties\n",
    "from IPython.display import display, HTML\n",
    "from IPython.display import clear_output"
   ]
  },
  {
   "cell_type": "markdown",
   "id": "3f834cc8",
   "metadata": {},
   "source": [
    "# Plotting utils"
   ]
  },
  {
   "cell_type": "code",
   "execution_count": 25,
   "id": "6d9f9f8f",
   "metadata": {
    "ExecuteTime": {
     "end_time": "2021-05-31T15:30:08.155200Z",
     "start_time": "2021-05-31T15:30:08.149297Z"
    }
   },
   "outputs": [],
   "source": [
    "# fonction pour ranger en ordre croissant un dico dans le but de le plotter avec plt\n",
    "def sort_dico(dico):\n",
    "    dico_sorted={}\n",
    "    for k,v in dict(sorted(dico.items())).items():\n",
    "        k_str = str(k)\n",
    "        dico_sorted[k_str] = v\n",
    "\n",
    "    return dico_sorted"
   ]
  },
  {
   "cell_type": "code",
   "execution_count": 23,
   "id": "1a065b63",
   "metadata": {
    "ExecuteTime": {
     "end_time": "2021-05-31T15:30:00.532835Z",
     "start_time": "2021-05-31T15:30:00.524994Z"
    }
   },
   "outputs": [],
   "source": [
    "# fonction pour plotter la distribution des scores et des max tiles\n",
    "# à utiliser avec la fonction de test 'test_agent' et ce qu'elle retourne\n",
    "# dico_sorted = sort_dico(dico_max_tiles_distribution)\n",
    "# rewards = liste_score\n",
    "\n",
    "def plot_metrics(dico_sorted,rewards):\n",
    "    plt.figure(figsize=(14, 4))\n",
    "\n",
    "    plt.subplot(1, 2, 1)\n",
    "    plt.title('Max tile distribution')\n",
    "    plt.bar(*zip(*dico_sorted.items()))\n",
    "\n",
    "    plt.subplot(1, 2, 2)\n",
    "    plt.title('Score distribution')\n",
    "    sns.histplot(rewards, kde=True)\n",
    "\n",
    "    print(f'Mean score over the test: {np.mean(rewards)}')\n",
    "    print(f'Median score over the test: {np.median(rewards)}')\n",
    "    print(f'Std score over the test: {np.std(rewards)}')\n",
    "    print(f'Max tile over the test: {max([int(bins) for bins in dico_sorted.keys()])}')"
   ]
  },
  {
   "cell_type": "code",
   "execution_count": null,
   "id": "895fc5e7",
   "metadata": {
    "ExecuteTime": {
     "end_time": "2021-05-31T07:13:56.819540Z",
     "start_time": "2021-05-31T07:13:56.811029Z"
    }
   },
   "outputs": [],
   "source": [
    "# fonction pour imprimer les parties avec un visuel proche de celui du jeu 2048\n",
    "\n",
    "def pretty_print(layout):\n",
    "    from math import log2\n",
    "    def parse_color(cell_value):\n",
    "        if cell_value>0:\n",
    "            colors = [\"#EEE4DA\", \"#ECE0CA\", \"#F2B179\", \"#F59565\", \"#F57C5F\", \"#F65D3B\", \"#EDCE71\", \"#EDCC63\", \"#EDC850\", \"#EDC53F\", \"#EEC22E\", \"#3E3933\"]\n",
    "            return colors[int(log2(cell_value))-1]\n",
    "        else:\n",
    "            return \"#CDC0B4\"\n",
    "\n",
    "    def cell_block(cell_value):\n",
    "        return '''\n",
    "        <td style=font-size:{}px;background-color:#BBADA0;text-align:center;width:100%>\n",
    "            <div style=color:#776E65;background-color:{};width:60px;height:60px;margin:auto;display:flex;align-items:center;justify-content:center;border-radius:6px;font-family:serif;font-size:medium><strong>{}</strong>\n",
    "            </div>\n",
    "        </td>'''.format('1', parse_color(cell_value), cell_value if cell_value>0 else '')\n",
    "    return '''\n",
    "            <div style=background-color:#BBADA0;width:300px;height:300px>\n",
    "            <table style=width:100%;height:100%>\n",
    "              <tr>\n",
    "                {}\n",
    "                </tr>\n",
    "              <tr>\n",
    "              {}\n",
    "              </tr>\n",
    "              <tr>\n",
    "              {}\n",
    "              </tr>\n",
    "              <tr>\n",
    "              {}\n",
    "              </tr>\n",
    "            </table>\n",
    "            </div>\n",
    "            '''.format('\\n'.join([cell_block(val) for val in layout[0,:]]),\n",
    "                      '\\n'.join([cell_block(val) for val in layout[1,:]]),\n",
    "                       '\\n'.join([cell_block(val) for val in layout[2,:]]),\n",
    "                       '\\n'.join([cell_block(val) for val in layout[3,:]]))\n"
   ]
  },
  {
   "cell_type": "markdown",
   "id": "a8f7ad4f",
   "metadata": {
    "ExecuteTime": {
     "end_time": "2021-05-25T13:23:07.931146Z",
     "start_time": "2021-05-25T13:23:07.926389Z"
    }
   },
   "source": [
    "# Useful code snippets"
   ]
  },
  {
   "cell_type": "markdown",
   "id": "83046448",
   "metadata": {},
   "source": [
    "Render \"beautiful\" 2048 grid:\n",
    "\n",
    "`plt.imshow(environment._environment.environment.render(mode=\"rgb_array\"))`\n",
    "\n",
    "Illegal move reward:\n",
    "\n",
    "`environment._environment.environment.set_illegal_move_reward(-10)`\n",
    "\n",
    "Log2 reward:\n",
    "\n",
    "`log2_reward = reward if reward <= 0 else np.log2(reward)`\n",
    "\n",
    "Show TensorBoard graphs:\n",
    "\n",
    "`%tensorboard --logdir summaries` (with parameter `summarizer=dict(directory='summaries')` in the `Agent.create()` method)"
   ]
  },
  {
   "cell_type": "markdown",
   "id": "e7e12eea",
   "metadata": {
    "heading_collapsed": true
   },
   "source": [
    "# Training functions"
   ]
  },
  {
   "cell_type": "code",
   "execution_count": null,
   "id": "14278ee5",
   "metadata": {
    "ExecuteTime": {
     "end_time": "2021-05-29T20:30:58.536107Z",
     "start_time": "2021-05-29T20:30:58.529989Z"
    },
    "hidden": true
   },
   "outputs": [],
   "source": [
    "def create_agent_and_env(env_params, agent_params):\n",
    "    agent_name = agent_params[\"agent_name\"]\n",
    "    agent_params_ = dict(agent_params)\n",
    "    del agent_params_[\"agent_name\"] # A TensorForce agent doesn't take name as a parameter\n",
    "    \n",
    "    \n",
    "    # create a 2048 environment\n",
    "    environment = Environment.create(\n",
    "        environment = 'gym'\n",
    "        , level = '2048-v0'\n",
    "    )\n",
    "\n",
    "    # create an agent\n",
    "    agent = Agent.create(\n",
    "        agent = 'dqn',\n",
    "        environment = environment,\n",
    "        **agent_params_,\n",
    "        summarizer = dict(directory=f'training_logs/{agent_params[\"agent_name\"]}/TensorBoard',\n",
    "                          summaries=[\"episode-reward\"])\n",
    "    )\n",
    "    return (environment, agent)"
   ]
  },
  {
   "cell_type": "code",
   "execution_count": null,
   "id": "3b0ac30e",
   "metadata": {
    "ExecuteTime": {
     "end_time": "2021-05-29T20:31:01.355244Z",
     "start_time": "2021-05-29T20:31:01.332717Z"
    },
    "hidden": true
   },
   "outputs": [],
   "source": [
    "def train_agent(environment, agent, num_episodes, print_freq, agent_name, training_round = 0):\n",
    "\n",
    "    # instantiate lists to record global training metrics\n",
    "    max_tiles = []\n",
    "    scores = []\n",
    "    updates = []\n",
    "    valid_moves = []\n",
    "    run_time = []\n",
    "    start_training_time = time.time()\n",
    "\n",
    "    for episode in range(num_episodes):\n",
    "        state = environment.reset()\n",
    "        terminal = False\n",
    "\n",
    "        #Checking metrics while training\n",
    "        state_freeze = state.copy()\n",
    "        num_updates = 0\n",
    "        num_moves = 0\n",
    "        invalid_moves = 0\n",
    "        start_episode_time = time.time()\n",
    "\n",
    "        while not terminal:\n",
    "            #Core\n",
    "            action = agent.act(states=dict(state=state,  action_mask=environment._environment.environment.get_invalid_moves()))\n",
    "            state, terminal, reward = environment.execute(actions=action)\n",
    "            log2_reward = reward if reward <= 0 else np.log2(reward)\n",
    "            num_updates += agent.observe(terminal=terminal, reward=log2_reward)\n",
    "\n",
    "            #Number of moves\n",
    "            num_moves += 1\n",
    "\n",
    "            #Number of invalid moves\n",
    "            if (state == state_freeze).all():\n",
    "                invalid_moves += 1\n",
    "            state_freeze = state.copy()\n",
    "\n",
    "        # Storing score and max tile\n",
    "        max_tiles.append(environment._environment.environment.Matrix.max())\n",
    "        scores.append(environment._environment.environment.score)\n",
    "        updates.append(num_updates)\n",
    "        valid_moves.append(num_moves)\n",
    "        run_time.append(round(time.time() - start_episode_time,2))\n",
    "\n",
    "        if episode % print_freq == 0:\n",
    "            print('Episode {}: score = {}, terminal = {}, updates={}, max_tile={}, valid_moves={}, invalid_moves={}, seconds={}'\\\n",
    "                  .format(episode, environment._environment.environment.score , terminal, num_updates, max_tiles[-1], num_moves-invalid_moves, invalid_moves, round(time.time() - start_episode_time,2)))\n",
    "    \n",
    "    # Saving agent\n",
    "    agent.save(f'training_logs/{agent_name}/agent_round{training_round}', filename=agent_name)\n",
    "    \n",
    "    # Saving metrics\n",
    "    metrics_dict = {\n",
    "        'max_tiles': max_tiles\n",
    "        , 'scores': scores\n",
    "        , 'updates': updates\n",
    "        , 'valid_moves': valid_moves\n",
    "        , 'run_time' : run_time\n",
    "    }\n",
    "    metrics_df = pd.DataFrame(metrics_dict)\n",
    "    metrics_path = f'training_logs/{agent_name}/metrics_round{training_round}_({episode+1}episodes).csv'\n",
    "    metrics_df.to_csv(metrics_path)\n",
    "    \n",
    "    return (metrics_df, agent)"
   ]
  },
  {
   "cell_type": "code",
   "execution_count": null,
   "id": "27ede69a",
   "metadata": {
    "ExecuteTime": {
     "end_time": "2021-05-29T20:31:03.288568Z",
     "start_time": "2021-05-29T20:31:03.281734Z"
    },
    "hidden": true
   },
   "outputs": [],
   "source": [
    "def save_params(agent_params, env_params):\n",
    "    all_params = {\n",
    "        \"agent_params\": agent_params,\n",
    "        \"env_params\": env_params,\n",
    "    }\n",
    "    \n",
    "    directory_path = f'training_logs/{agent_params[\"agent_name\"]}'\n",
    "    !mkdir -p $directory_path\n",
    "    \n",
    "    file_name = f'training_logs/{agent_params[\"agent_name\"]}/params.json'\n",
    "    with open(file_name, 'w') as fp:\n",
    "            json.dump(all_params, fp)"
   ]
  },
  {
   "cell_type": "markdown",
   "id": "56791076",
   "metadata": {},
   "source": [
    "# Example of loading an agent (useful for training or testing)"
   ]
  },
  {
   "cell_type": "markdown",
   "id": "74147bf7",
   "metadata": {},
   "source": [
    "```python\n",
    "# An env needs to be created first\n",
    "environment_load = Environment.create(\n",
    "        environment = 'gym'\n",
    "        , level = '2048-v0'\n",
    "    )\n",
    "\n",
    "# Then we load the agent\n",
    "APG_20K = Agent.load(directory=\"training_logs/APG_20K/agent_round0\", filename=\"APG_20K\", environment=environment_load)\n",
    "```"
   ]
  },
  {
   "cell_type": "markdown",
   "id": "d0255aac",
   "metadata": {
    "heading_collapsed": true
   },
   "source": [
    "# Training"
   ]
  },
  {
   "cell_type": "markdown",
   "id": "c49dd500",
   "metadata": {
    "hidden": true
   },
   "source": [
    "Variable parameter example:\n",
    "\n",
    "```python\n",
    "exploration = dict(\n",
    "    type = 'exponential',\n",
    "    unit ='episodes',\n",
    "    num_steps = 10000,\n",
    "    initial_value = 0.2,\n",
    "    decay_rate = 0.0005\n",
    ")\n",
    "````"
   ]
  },
  {
   "cell_type": "code",
   "execution_count": null,
   "id": "38790d3a",
   "metadata": {
    "ExecuteTime": {
     "end_time": "2021-05-29T22:17:26.361125Z",
     "start_time": "2021-05-29T22:17:24.185337Z"
    },
    "hidden": true,
    "scrolled": false
   },
   "outputs": [],
   "source": [
    "agent_params = {\n",
    "    \"agent_name\": input(\"Agent name (only letter, digits and underscores). NO SPACE: \"),\n",
    "    'batch_size': 16,\n",
    "    'update_frequency': 4,\n",
    "    'learning_rate': 0.0001,\n",
    "    'discount': 0.99,\n",
    "    'memory': 10000,\n",
    "    'exploration': 0.05,\n",
    "    'target_sync_frequency': 4,\n",
    "    'horizon': 1\n",
    "}\n",
    "\n",
    "env_params = {\n",
    "    'max_episode_timesteps': 10000\n",
    "}\n",
    "\n",
    "if (not agent_params[\"agent_name\"]) or (\" \" in agent_params[\"agent_name\"]):\n",
    "    print (\"NO SPACE\")\n",
    "    agent_params = 0"
   ]
  },
  {
   "cell_type": "code",
   "execution_count": null,
   "id": "08d5eeda",
   "metadata": {
    "ExecuteTime": {
     "end_time": "2021-05-29T20:31:19.802617Z",
     "start_time": "2021-05-29T20:31:19.661149Z"
    },
    "hidden": true
   },
   "outputs": [],
   "source": [
    "# Saving params to .json in training_logs folder\n",
    "save_params(agent_params, env_params)"
   ]
  },
  {
   "cell_type": "code",
   "execution_count": null,
   "id": "fc554896",
   "metadata": {
    "ExecuteTime": {
     "end_time": "2021-05-29T20:31:21.652669Z",
     "start_time": "2021-05-29T20:31:21.183870Z"
    },
    "hidden": true
   },
   "outputs": [],
   "source": [
    "# Creating agent and environnement\n",
    "environment, agent = create_agent_and_env(env_params, agent_params)"
   ]
  },
  {
   "cell_type": "code",
   "execution_count": null,
   "id": "70628737",
   "metadata": {
    "ExecuteTime": {
     "end_time": "2021-05-29T20:33:33.704260Z",
     "start_time": "2021-05-29T20:31:32.552431Z"
    },
    "hidden": true
   },
   "outputs": [],
   "source": [
    "# Train ! Increment training round for several round of trainings\n",
    "\n",
    "training_params = {\n",
    "    \"num_episodes\": 10,\n",
    "    \"print_freq\": 1,\n",
    "    \"agent_name\": agent_params[\"agent_name\"],\n",
    "    \"training_round\": input(\"Training round? \")\n",
    "}\n",
    "\n",
    "metrics_df, agent = train_agent(environment, agent, **training_params)"
   ]
  },
  {
   "cell_type": "markdown",
   "id": "a1625aa1",
   "metadata": {
    "heading_collapsed": true
   },
   "source": [
    "# Plotting training data"
   ]
  },
  {
   "cell_type": "code",
   "execution_count": null,
   "id": "dcd72bf0",
   "metadata": {
    "ExecuteTime": {
     "end_time": "2021-05-29T21:40:18.775110Z",
     "start_time": "2021-05-29T21:40:18.761807Z"
    },
    "hidden": true
   },
   "outputs": [],
   "source": [
    "# Reading from CSV, but works also with the metrics_df variable created above\n",
    "df1 = pd.read_csv(\"training_logs/yoyoyo/metrics_round0_(99episodes).csv\")\n",
    "scores1 = df1[\"scores\"]\n",
    "df2 = pd.read_csv(\"training_logs/agent_2/metrics0.csv\")\n",
    "scores2 = df2[\"scores\"]"
   ]
  },
  {
   "cell_type": "code",
   "execution_count": null,
   "id": "4302af1b",
   "metadata": {
    "ExecuteTime": {
     "end_time": "2021-05-29T21:42:37.570209Z",
     "start_time": "2021-05-29T21:42:37.305215Z"
    },
    "hidden": true
   },
   "outputs": [],
   "source": [
    "# Raw training data\n",
    "sns.lineplot(data=scores1, label = \"agent_1\");\n",
    "sns.lineplot(data=scores2, label = \"agent_2\");"
   ]
  },
  {
   "cell_type": "code",
   "execution_count": null,
   "id": "39065a0c",
   "metadata": {
    "ExecuteTime": {
     "end_time": "2021-05-29T21:51:47.900864Z",
     "start_time": "2021-05-29T21:51:47.657761Z"
    },
    "hidden": true
   },
   "outputs": [],
   "source": [
    "# Smoothed curves (moving average on N points)\n",
    "N = 5\n",
    "print(\"Training time agent_1:\", round(df1[\"run_time\"].sum()/60), \"minutes\")\n",
    "print(\"Training time agent_2:\", round(df2[\"run_time\"].sum()/60), \"minutes\")\n",
    "plt.figure().suptitle(f\"Moving average on {N} points\")\n",
    "sns.lineplot(data = uniform_filter1d(scores1, size=N, mode = \"reflect\"), label = \"Score agent_1\");\n",
    "sns.lineplot(data = uniform_filter1d(scores2, size=N, mode = \"reflect\"), label = \"Score agent_2\");"
   ]
  },
  {
   "cell_type": "code",
   "execution_count": null,
   "id": "88cc7b38",
   "metadata": {
    "ExecuteTime": {
     "end_time": "2021-05-28T12:55:10.942248Z",
     "start_time": "2021-05-28T12:49:31.721Z"
    },
    "hidden": true
   },
   "outputs": [],
   "source": [
    "%tensorboard --logdir \"training_logs\""
   ]
  },
  {
   "cell_type": "markdown",
   "id": "a294eb62",
   "metadata": {},
   "source": [
    "# Testing"
   ]
  },
  {
   "cell_type": "code",
   "execution_count": 18,
   "id": "6424ccf5",
   "metadata": {
    "ExecuteTime": {
     "end_time": "2021-05-31T15:21:51.677332Z",
     "start_time": "2021-05-31T15:21:51.661306Z"
    }
   },
   "outputs": [],
   "source": [
    "# Evaluate for n episodes\n",
    "def test_agent(agent,n_episode,visualization,pause=0.01):\n",
    "    #definir l'env\n",
    "    environment = Environment.create(environment = 'gym', level = '2048-v0', \n",
    "    max_episode_timesteps = 10_000\n",
    "    )\n",
    "    n_episode = n_episode\n",
    "    #dictionnaire pour obtenir la distribution des max tiles de chaque episode\n",
    "    dico_max_tiles_distribution = {}\n",
    "    # liste des score par episode\n",
    "    liste_score=[]\n",
    "    # dictionnaire pour récupérer la meilleure et la pire partie du test\n",
    "    dico_best_worst_episode = {'Worst':[],'Best':[], 'Episode # Worst':[], 'Episode # Best':[]}\n",
    "\n",
    "    for episode in range(n_episode):\n",
    "        sum_rewards = 0.0\n",
    "        states = environment.reset()\n",
    "        list_states=[]\n",
    "        internals = agent.initial_internals()\n",
    "        terminal = False\n",
    "        if visualization == 'yes':\n",
    "            clear_output(wait=True)\n",
    "            print(f'Game #: {episode+1}')\n",
    "            time.sleep(3)\n",
    "\n",
    "        while not terminal:\n",
    "            actions, internals = agent.act(\n",
    "                states= {\n",
    "                    \"state\":states,\n",
    "                    \"action_mask\":environment._environment.environment.get_invalid_moves()},\n",
    "                internals=internals,\n",
    "                independent=True, deterministic=True\n",
    "            )\n",
    "            states, terminal, reward = environment.execute(actions=actions)\n",
    "            matrix = environment._environment.environment.Matrix\n",
    "            list_states.append(matrix.copy())\n",
    "            sum_rewards += reward\n",
    "            if visualization == 'yes':\n",
    "                clear_output(wait=True)\n",
    "                display(HTML(pretty_print(matrix)))\n",
    "                time.sleep(pause)\n",
    "\n",
    "        liste_score.append(sum_rewards)\n",
    "\n",
    "        if sum_rewards >= max(liste_score):\n",
    "            dico_best_worst_episode['Best'] = list_states\n",
    "            dico_best_worst_episode['Episode # Best'] = episode\n",
    "        elif sum_rewards <= min(liste_score):\n",
    "            dico_best_worst_episode['Worst'] = list_states\n",
    "            dico_best_worst_episode['Episode # Worst'] = episode\n",
    "\n",
    "        dico_max_tiles_distribution.setdefault(environment._environment.environment.Matrix.max(),0)\n",
    "        dico_max_tiles_distribution[environment._environment.environment.Matrix.max()] += 1\n",
    "        if visualization == 'yes':\n",
    "            if environment._environment.environment.Matrix.max() < 2048:\n",
    "                print(f\"My final score is {environment._environment.environment.score} with a max tile at {environment._environment.environment.Matrix.max()}. Let's try again!\")\n",
    "            else:\n",
    "                print(f\"My final score is {environment._environment.environment.score} with a max tile at {environment._environment.environment.Matrix.max()}. I mastered this game!\")\n",
    "            time.sleep(3)\n",
    "        \n",
    "    return dico_best_worst_episode, liste_score, dico_max_tiles_distribution\n"
   ]
  },
  {
   "cell_type": "code",
   "execution_count": null,
   "id": "d91b77c5",
   "metadata": {
    "ExecuteTime": {
     "end_time": "2021-05-31T07:16:37.263534Z",
     "start_time": "2021-05-31T07:16:11.282316Z"
    }
   },
   "outputs": [],
   "source": [
    "results = test_agent(agent, 3, 'yes')"
   ]
  },
  {
   "cell_type": "code",
   "execution_count": null,
   "id": "7b29e2d5",
   "metadata": {
    "ExecuteTime": {
     "end_time": "2021-05-31T07:16:40.712896Z",
     "start_time": "2021-05-31T07:16:40.426554Z"
    }
   },
   "outputs": [],
   "source": [
    "plot_metrics(sort_dico(results[2]), results[1])"
   ]
  },
  {
   "cell_type": "markdown",
   "id": "7235f4c5",
   "metadata": {},
   "source": [
    "# Creating custom network"
   ]
  },
  {
   "cell_type": "code",
   "execution_count": 31,
   "id": "229ff74f",
   "metadata": {
    "ExecuteTime": {
     "end_time": "2021-06-01T09:13:43.143151Z",
     "start_time": "2021-06-01T09:13:43.039909Z"
    }
   },
   "outputs": [],
   "source": [
    "# create a 2048 environment\n",
    "environment = Environment.create(\n",
    "    environment = 'gym'\n",
    "    , level = '2048-v0'\n",
    ")"
   ]
  },
  {
   "cell_type": "code",
   "execution_count": 9,
   "id": "35cead88",
   "metadata": {
    "ExecuteTime": {
     "end_time": "2021-05-31T14:53:58.931676Z",
     "start_time": "2021-05-31T14:53:58.924429Z"
    }
   },
   "outputs": [
    {
     "name": "stdout",
     "output_type": "stream",
     "text": [
      "{'agent': 'dqn', 'states': {'type': 'float', 'shape': [4, 4, 16], 'min_value': 0.0, 'max_value': 1.0}, 'actions': {'type': 'int', 'shape': [], 'num_values': 4}, 'memory': 10000, 'batch_size': 16, 'max_episode_timesteps': None, 'network': 'auto', 'update_frequency': 4, 'start_updating': None, 'learning_rate': 0.0001, 'huber_loss': None, 'horizon': 1, 'discount': 0.99, 'predict_terminal_values': False, 'target_update_weight': 1.0, 'target_sync_frequency': 4, 'state_preprocessing': 'linear_normalization', 'reward_preprocessing': None, 'exploration': {'type': 'exponential', 'unit': 'episodes', 'num_steps': 10000, 'initial_value': 0.07, 'decay_rate': 0.0001}, 'variable_noise': 0.0, 'l2_regularization': 0.0, 'entropy_regularization': 0.0, 'parallel_interactions': 1, 'config': None, 'saver': None, 'summarizer': {'directory': 'training_logs/APG_explo_decay/TensorBoard', 'summaries': ['episode-reward']}, 'recorder': None, 'internals': {}, 'initial_internals': {'policy': {}, 'baseline': {}}}\n"
     ]
    }
   ],
   "source": [
    "\n",
    "import json\n",
    "\n",
    "with open(\"../saved_agents/marco_polo_40K/APG_explo_decay.json\") as f:\n",
    "  data = json.load(f)\n",
    "\n",
    "# Output: {'name': 'Bob', 'languages': ['English', 'Fench']}\n",
    "print(data)"
   ]
  },
  {
   "cell_type": "code",
   "execution_count": 32,
   "id": "8f5d0bd0",
   "metadata": {
    "ExecuteTime": {
     "end_time": "2021-06-01T09:13:48.251534Z",
     "start_time": "2021-06-01T09:13:47.482759Z"
    }
   },
   "outputs": [],
   "source": [
    "# Then we load the agent\n",
    "marco_polo = Agent.load(directory=\"../saved_agents/marco_polo_40K/\", environment=environment, filename=\"APG_explo_decay-2\")"
   ]
  },
  {
   "cell_type": "code",
   "execution_count": null,
   "id": "f71055d2",
   "metadata": {},
   "outputs": [],
   "source": []
  },
  {
   "cell_type": "code",
   "execution_count": 17,
   "id": "6adcd45d",
   "metadata": {
    "ExecuteTime": {
     "end_time": "2021-05-31T15:03:05.281406Z",
     "start_time": "2021-05-31T15:03:05.016134Z"
    },
    "scrolled": true
   },
   "outputs": [
    {
     "data": {
      "image/png": "[encoded data removed]",
      "text/plain": [
       "<Figure size 432x288 with 1 Axes>"
      ]
     },
     "metadata": {
      "needs_background": "light"
     },
     "output_type": "display_data"
    }
   ],
   "source": [
    "import matplotlib.pyplot as plt\n",
    "import numpy as np\n",
    "x = np.array(list(range(10_000)))\n",
    "for num_step in [10_000, 100_000]:\n",
    "    plt.plot(0.07*1e-4**(x/num_step))\n",
    "plt.legend([10000, 100000])\n",
    "plt.show()"
   ]
  },
  {
   "cell_type": "code",
   "execution_count": null,
   "id": "3dcefd63",
   "metadata": {
    "ExecuteTime": {
     "end_time": "2021-05-31T13:23:17.525001Z",
     "start_time": "2021-05-31T13:23:17.521326Z"
    }
   },
   "outputs": [],
   "source": [
    "import matplotlib.pyplot as plt"
   ]
  },
  {
   "cell_type": "code",
   "execution_count": 41,
   "id": "13e913b6",
   "metadata": {
    "ExecuteTime": {
     "end_time": "2021-06-01T09:33:25.144458Z",
     "start_time": "2021-06-01T09:33:25.134674Z"
    }
   },
   "outputs": [
    {
     "data": {
      "text/plain": [
       "{'_name': 'activation',\n",
       " '_name_scope': <tensorflow.python.framework.ops.name_scope_v2 at 0x151c2a730>,\n",
       " 'checkpoint': None,\n",
       " 'is_trainable': True,\n",
       " 'is_saved': True,\n",
       " 'is_initialized': True,\n",
       " '_self_setattr_tracking': True,\n",
       " '_self_unconditional_checkpoint_dependencies': [TrackableReference(name='parent', ref=<tensorforce.core.layers.convolution.Conv2d object at 0x151c2a490>),\n",
       "  TrackableReference(name='summary_steps', ref=VariableDict()),\n",
       "  TrackableReference(name='tracking_variables', ref=VariableDict())],\n",
       " '_self_unconditional_dependency_names': {'parent': <tensorforce.core.layers.convolution.Conv2d at 0x151c2a490>,\n",
       "  'summary_steps': VariableDict(),\n",
       "  'tracking_variables': VariableDict()},\n",
       " '_self_unconditional_deferred_dependencies': {'_apply_graphs': [],\n",
       "  '_regularize_graphs': []},\n",
       " '_self_update_uid': 2905954,\n",
       " '_self_name_based_restores': set(),\n",
       " '_self_saveable_object_factories': {},\n",
       " 'parent': <tensorforce.core.layers.convolution.Conv2d at 0x151c2a490>,\n",
       " 'device': <tensorforce.util.NullContext at 0x14fc836a0>,\n",
       " 'l2_regularization': None,\n",
       " 'input_spec': TensorSpec(type=float, shape=(4, 4, 64)),\n",
       " 'nonlinearity': 'relu',\n",
       " '_proper_name_scope': <tensorflow.python.framework.ops.name_scope_v2 at 0x151d5c5b0>,\n",
       " 'summary_steps': VariableDict(),\n",
       " 'tracking_variables': VariableDict()}"
      ]
     },
     "execution_count": 41,
     "metadata": {},
     "output_type": "execute_result"
    }
   ],
   "source": [
    "marco_polo.model.policy.network.layers[1].activation.__dict__"
   ]
  },
  {
   "cell_type": "code",
   "execution_count": null,
   "id": "da089018",
   "metadata": {
    "ExecuteTime": {
     "end_time": "2021-05-31T13:27:15.740100Z",
     "start_time": "2021-05-31T13:27:15.726606Z"
    }
   },
   "outputs": [],
   "source": [
    "agent.model.policy.network.layers[0].weights[:,:,0,0]"
   ]
  },
  {
   "cell_type": "code",
   "execution_count": null,
   "id": "1ddb1a57",
   "metadata": {
    "ExecuteTime": {
     "end_time": "2021-05-31T14:36:57.341864Z",
     "start_time": "2021-05-31T14:36:57.081694Z"
    }
   },
   "outputs": [],
   "source": [
    "plt.subplot(1,2,1) # Plot an element on the index 1 of a grid of size [1,2]\n",
    "plt.imshow(agent.model.policy.network.layers[0].weights[:,:,0,0], cmap=\"gray\");\n",
    "plt.subplot(1,2,2) # index 2\n",
    "plt.imshow(agent.model.policy.network.layers[0].weights[:,:,0,2], cmap=\"gray\");"
   ]
  },
  {
   "cell_type": "code",
   "execution_count": 29,
   "id": "4322cc46",
   "metadata": {
    "ExecuteTime": {
     "end_time": "2021-05-31T16:02:10.301254Z",
     "start_time": "2021-05-31T15:33:13.644602Z"
    }
   },
   "outputs": [],
   "source": [
    "results = test_agent(marco_polo, 1000, 'no')"
   ]
  },
  {
   "cell_type": "code",
   "execution_count": 30,
   "id": "91b7e32c",
   "metadata": {
    "ExecuteTime": {
     "end_time": "2021-05-31T16:02:54.916175Z",
     "start_time": "2021-05-31T16:02:54.493438Z"
    }
   },
   "outputs": [
    {
     "name": "stdout",
     "output_type": "stream",
     "text": [
      "Mean score over the test: 11389.508\n",
      "Median score over the test: 9838.0\n",
      "Std score over the test: 5650.682234025905\n",
      "Max tile over the test: 2048\n"
     ]
    },
    {
     "data": {
      "image/png": "[encoded data removed]",
      "text/plain": [
       "<Figure size 1008x288 with 2 Axes>"
      ]
     },
     "metadata": {
      "needs_background": "light"
     },
     "output_type": "display_data"
    }
   ],
   "source": [
    "plot_metrics(sort_dico(results[2]), results[1])"
   ]
  },
  {
   "cell_type": "code",
   "execution_count": 43,
   "id": "909f667e",
   "metadata": {
    "ExecuteTime": {
     "end_time": "2021-06-01T14:41:59.612536Z",
     "start_time": "2021-06-01T14:41:59.561423Z"
    }
   },
   "outputs": [],
   "source": [
    "df0 = pd.read_csv(\"/Users/valentinlaurent/Downloads/Agents/marco_polo_40K/metrics_round0_(19999episodes).csv\")"
   ]
  },
  {
   "cell_type": "code",
   "execution_count": 44,
   "id": "1aa798b5",
   "metadata": {
    "ExecuteTime": {
     "end_time": "2021-06-01T14:42:17.113260Z",
     "start_time": "2021-06-01T14:42:17.089909Z"
    }
   },
   "outputs": [],
   "source": [
    "df1 = pd.read_csv(\"/Users/valentinlaurent/Downloads/Agents/marco_polo_40K/metrics_round1_(19999episodes).csv\")"
   ]
  },
  {
   "cell_type": "code",
   "execution_count": 47,
   "id": "a87172bd",
   "metadata": {
    "ExecuteTime": {
     "end_time": "2021-06-01T14:42:54.775070Z",
     "start_time": "2021-06-01T14:42:54.764759Z"
    }
   },
   "outputs": [
    {
     "data": {
      "text/plain": [
       "26.76039444444444"
      ]
     },
     "execution_count": 47,
     "metadata": {},
     "output_type": "execute_result"
    }
   ],
   "source": [
    "(df0.run_time.sum() + df1.run_time.sum())/3600"
   ]
  },
  {
   "cell_type": "code",
   "execution_count": 51,
   "id": "458cb69c",
   "metadata": {
    "ExecuteTime": {
     "end_time": "2021-06-01T14:44:41.788818Z",
     "start_time": "2021-06-01T14:44:41.780732Z"
    }
   },
   "outputs": [
    {
     "data": {
      "text/plain": [
       "8.967351466049383"
      ]
     },
     "execution_count": 51,
     "metadata": {},
     "output_type": "execute_result"
    }
   ],
   "source": [
    "(df0.valid_moves.sum() + df1.valid_moves.sum())/(3600*24*30)"
   ]
  },
  {
   "cell_type": "code",
   "execution_count": null,
   "id": "a7438d73",
   "metadata": {},
   "outputs": [],
   "source": []
  }
 ],
 "metadata": {
  "kernelspec": {
   "display_name": "Python 3",
   "language": "python",
   "name": "python3"
  },
  "language_info": {
   "codemirror_mode": {
    "name": "ipython",
    "version": 3
   },
   "file_extension": ".py",
   "mimetype": "text/x-python",
   "name": "python",
   "nbconvert_exporter": "python",
   "pygments_lexer": "ipython3",
   "version": "3.8.6"
  },
  "toc": {
   "base_numbering": 1,
   "nav_menu": {},
   "number_sections": true,
   "sideBar": true,
   "skip_h1_title": false,
   "title_cell": "Table of Contents",
   "title_sidebar": "Contents",
   "toc_cell": false,
   "toc_position": {},
   "toc_section_display": true,
   "toc_window_display": false
  }
 },
 "nbformat": 4,
 "nbformat_minor": 5
}
