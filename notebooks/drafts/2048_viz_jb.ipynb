{
 "cells": [
  {
   "cell_type": "code",
   "execution_count": 4,
   "id": "2e5859e0",
   "metadata": {
    "ExecuteTime": {
     "end_time": "2021-05-28T09:56:24.451224Z",
     "start_time": "2021-05-28T09:56:24.442356Z"
    }
   },
   "outputs": [],
   "source": [
    "def pretty_print(layout):\n",
    "    from math import log2\n",
    "    def parse_color(cell_value):\n",
    "        if cell_value>0:\n",
    "            colors = [\"#EEE4DA\", \"#ECE0CA\", \"#F2B179\", \"#F59565\", \"#F57C5F\", \"#F65D3B\", \"#EDCE71\", \"#EDCC63\", \"#EDC850\", \"#EDC53F\", \"#EEC22E\", \"#3E3933\"]\n",
    "            return colors[int(log2(cell_value))-1]\n",
    "        else:\n",
    "            return \"#CDC0B4\"\n",
    "\n",
    "    def cell_block(cell_value):\n",
    "        return '''\n",
    "        <td style=font-size:{}px;background-color:#BBADA0;text-align:center;width:100%>\n",
    "            <div style=color:#776E65;background-color:{};width:60px;height:60px;text-align:center><strong>{}</strong>\n",
    "            </div>\n",
    "        </td>'''.format('14', parse_color(cell_value), cell_value if cell_value>0 else '')\n",
    "    return '''\n",
    "            <div style=background-color:#BBADA0;width:300px;height:300px>\n",
    "            <table style=width:100%;height:100%>\n",
    "              <tr>\n",
    "                {}\n",
    "                </tr>\n",
    "              <tr>\n",
    "              {}\n",
    "              </tr>\n",
    "              <tr>\n",
    "              {}\n",
    "              </tr>\n",
    "              <tr>\n",
    "              {}\n",
    "              </tr>\n",
    "            </table>\n",
    "            </div>\n",
    "            '''.format('\\n'.join([cell_block(val) for val in layout[0,:]]),\n",
    "                      '\\n'.join([cell_block(val) for val in layout[1,:]]),\n",
    "                       '\\n'.join([cell_block(val) for val in layout[2,:]]),\n",
    "                       '\\n'.join([cell_block(val) for val in layout[3,:]]))\n"
   ]
  },
  {
   "cell_type": "code",
   "execution_count": 16,
   "id": "9b7dba5e",
   "metadata": {
    "ExecuteTime": {
     "end_time": "2021-05-28T10:04:15.570419Z",
     "start_time": "2021-05-28T10:04:15.565184Z"
    }
   },
   "outputs": [
    {
     "data": {
      "text/html": [
       "\n",
       "            <div style=background-color:#BBADA0;width:300px;height:300px>\n",
       "            <table style=width:100%;height:100%>\n",
       "              <tr>\n",
       "                \n",
       "        <td style=font-size:14px;background-color:#BBADA0;text-align:center;width:100%>\n",
       "            <div style=color:#776E65;background-color:#CDC0B4;width:60px;height:60px;text-align:center><strong></strong>\n",
       "            </div>\n",
       "        </td>\n",
       "\n",
       "        <td style=font-size:14px;background-color:#BBADA0;text-align:center;width:100%>\n",
       "            <div style=color:#776E65;background-color:#CDC0B4;width:60px;height:60px;text-align:center><strong></strong>\n",
       "            </div>\n",
       "        </td>\n",
       "\n",
       "        <td style=font-size:14px;background-color:#BBADA0;text-align:center;width:100%>\n",
       "            <div style=color:#776E65;background-color:#CDC0B4;width:60px;height:60px;text-align:center><strong></strong>\n",
       "            </div>\n",
       "        </td>\n",
       "\n",
       "        <td style=font-size:14px;background-color:#BBADA0;text-align:center;width:100%>\n",
       "            <div style=color:#776E65;background-color:#CDC0B4;width:60px;height:60px;text-align:center><strong></strong>\n",
       "            </div>\n",
       "        </td>\n",
       "                </tr>\n",
       "              <tr>\n",
       "              \n",
       "        <td style=font-size:14px;background-color:#BBADA0;text-align:center;width:100%>\n",
       "            <div style=color:#776E65;background-color:#EEE4DA;width:60px;height:60px;text-align:center><strong>2</strong>\n",
       "            </div>\n",
       "        </td>\n",
       "\n",
       "        <td style=font-size:14px;background-color:#BBADA0;text-align:center;width:100%>\n",
       "            <div style=color:#776E65;background-color:#CDC0B4;width:60px;height:60px;text-align:center><strong></strong>\n",
       "            </div>\n",
       "        </td>\n",
       "\n",
       "        <td style=font-size:14px;background-color:#BBADA0;text-align:center;width:100%>\n",
       "            <div style=color:#776E65;background-color:#CDC0B4;width:60px;height:60px;text-align:center><strong></strong>\n",
       "            </div>\n",
       "        </td>\n",
       "\n",
       "        <td style=font-size:14px;background-color:#BBADA0;text-align:center;width:100%>\n",
       "            <div style=color:#776E65;background-color:#EEE4DA;width:60px;height:60px;text-align:center><strong>2</strong>\n",
       "            </div>\n",
       "        </td>\n",
       "              </tr>\n",
       "              <tr>\n",
       "              \n",
       "        <td style=font-size:14px;background-color:#BBADA0;text-align:center;width:100%>\n",
       "            <div style=color:#776E65;background-color:#EEE4DA;width:60px;height:60px;text-align:center><strong>2</strong>\n",
       "            </div>\n",
       "        </td>\n",
       "\n",
       "        <td style=font-size:14px;background-color:#BBADA0;text-align:center;width:100%>\n",
       "            <div style=color:#776E65;background-color:#CDC0B4;width:60px;height:60px;text-align:center><strong></strong>\n",
       "            </div>\n",
       "        </td>\n",
       "\n",
       "        <td style=font-size:14px;background-color:#BBADA0;text-align:center;width:100%>\n",
       "            <div style=color:#776E65;background-color:#F2B179;width:60px;height:60px;text-align:center><strong>8</strong>\n",
       "            </div>\n",
       "        </td>\n",
       "\n",
       "        <td style=font-size:14px;background-color:#BBADA0;text-align:center;width:100%>\n",
       "            <div style=color:#776E65;background-color:#ECE0CA;width:60px;height:60px;text-align:center><strong>4</strong>\n",
       "            </div>\n",
       "        </td>\n",
       "              </tr>\n",
       "              <tr>\n",
       "              \n",
       "        <td style=font-size:14px;background-color:#BBADA0;text-align:center;width:100%>\n",
       "            <div style=color:#776E65;background-color:#ECE0CA;width:60px;height:60px;text-align:center><strong>4</strong>\n",
       "            </div>\n",
       "        </td>\n",
       "\n",
       "        <td style=font-size:14px;background-color:#BBADA0;text-align:center;width:100%>\n",
       "            <div style=color:#776E65;background-color:#F65D3B;width:60px;height:60px;text-align:center><strong>64</strong>\n",
       "            </div>\n",
       "        </td>\n",
       "\n",
       "        <td style=font-size:14px;background-color:#BBADA0;text-align:center;width:100%>\n",
       "            <div style=color:#776E65;background-color:#F59565;width:60px;height:60px;text-align:center><strong>16</strong>\n",
       "            </div>\n",
       "        </td>\n",
       "\n",
       "        <td style=font-size:14px;background-color:#BBADA0;text-align:center;width:100%>\n",
       "            <div style=color:#776E65;background-color:#ECE0CA;width:60px;height:60px;text-align:center><strong>4</strong>\n",
       "            </div>\n",
       "        </td>\n",
       "              </tr>\n",
       "            </table>\n",
       "            </div>\n",
       "            "
      ],
      "text/plain": [
       "<IPython.core.display.HTML object>"
      ]
     },
     "execution_count": 16,
     "metadata": {},
     "output_type": "execute_result"
    }
   ],
   "source": [
    "HTML(pretty_print(np.array([[ 0,  0,  0,  0],\n",
    "         [ 2,  0,  0,  2],\n",
    "         [ 2,  0,  8,  4],\n",
    "         [ 4, 64, 16,  4]])))"
   ]
  },
  {
   "cell_type": "code",
   "execution_count": 10,
   "id": "fe57227e",
   "metadata": {
    "ExecuteTime": {
     "end_time": "2021-05-28T10:01:54.260831Z",
     "start_time": "2021-05-28T10:01:54.251131Z"
    }
   },
   "outputs": [
    {
     "data": {
      "text/plain": [
       "array([[0, 0, 0, 0],\n",
       "       [0, 0, 0, 0],\n",
       "       [0, 0, 0, 0],\n",
       "       [0, 0, 0, 0]])"
      ]
     },
     "execution_count": 10,
     "metadata": {},
     "output_type": "execute_result"
    }
   ],
   "source": [
    "np.zeros((4,4), dtype=np.int)"
   ]
  },
  {
   "cell_type": "code",
   "execution_count": 15,
   "id": "186b4576",
   "metadata": {
    "ExecuteTime": {
     "end_time": "2021-05-28T10:04:02.081559Z",
     "start_time": "2021-05-28T10:04:02.074407Z"
    }
   },
   "outputs": [
    {
     "data": {
      "text/plain": [
       "array([[ 0,  0,  0,  0],\n",
       "       [ 2,  0,  0,  2],\n",
       "       [ 2,  0,  8,  4],\n",
       "       [ 4, 64, 16,  4]])"
      ]
     },
     "execution_count": 15,
     "metadata": {},
     "output_type": "execute_result"
    }
   ],
   "source": [
    "np.array([[ 0,  0,  0,  0],\n",
    "         [ 2,  0,  0,  2],\n",
    "         [ 2,  0,  8,  4],\n",
    "         [ 4, 64, 16,  4]])"
   ]
  }
 ],
 "metadata": {
  "kernelspec": {
   "display_name": "Python 3",
   "language": "python",
   "name": "python3"
  },
  "language_info": {
   "codemirror_mode": {
    "name": "ipython",
    "version": 3
   },
   "file_extension": ".py",
   "mimetype": "text/x-python",
   "name": "python",
   "nbconvert_exporter": "python",
   "pygments_lexer": "ipython3",
   "version": "3.8.6"
  },
  "toc": {
   "base_numbering": 1,
   "nav_menu": {},
   "number_sections": true,
   "sideBar": true,
   "skip_h1_title": false,
   "title_cell": "Table of Contents",
   "title_sidebar": "Contents",
   "toc_cell": false,
   "toc_position": {},
   "toc_section_display": true,
   "toc_window_display": false
  }
 },
 "nbformat": 4,
 "nbformat_minor": 5
}
