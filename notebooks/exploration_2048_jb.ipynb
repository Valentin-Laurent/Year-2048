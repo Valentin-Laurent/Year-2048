{
 "cells": [
  {
   "cell_type": "code",
   "execution_count": 1,
   "id": "8d9315a7",
   "metadata": {
    "ExecuteTime": {
     "end_time": "2021-05-27T10:20:37.374798Z",
     "start_time": "2021-05-27T10:20:32.341187Z"
    }
   },
   "outputs": [],
   "source": [
    "import time\n",
    "import gym_2048\n",
    "from tensorforce import Agent, Environment\n",
    "import numpy as np\n",
    "from matplotlib.pyplot import imshow\n",
    "%load_ext tensorboard"
   ]
  },
  {
   "cell_type": "code",
   "execution_count": 2,
   "id": "2769b294",
   "metadata": {
    "ExecuteTime": {
     "end_time": "2021-05-27T10:20:37.382118Z",
     "start_time": "2021-05-27T10:20:37.377744Z"
    }
   },
   "outputs": [],
   "source": [
    "def invalide_moves_activation(state):\n",
    "    #retourne mask\n",
    "    mask_per_coup = []\n",
    "    for k in range(4):\n",
    "        try:\n",
    "            reward = environment._environment.environment.move(k, trial=True)\n",
    "            mask_per_coup.append(True)\n",
    "        except:\n",
    "            mask_per_coup.append(False)\n",
    "\n",
    "    # liste de coups sans invalid move\n",
    "    state_mask = dict(state=state,  action_mask=mask_per_coup)\n",
    "    return state_mask"
   ]
  },
  {
   "cell_type": "code",
   "execution_count": 3,
   "id": "4e96b1ef",
   "metadata": {
    "ExecuteTime": {
     "end_time": "2021-05-27T10:20:37.797077Z",
     "start_time": "2021-05-27T10:20:37.385882Z"
    }
   },
   "outputs": [],
   "source": [
    "agent = Agent.load(directory='/Users/jean-bricetonin/code/Valentin_laurent/Year-2048',filename='/Users/jean-bricetonin/code/Valentin_laurent/Year-2048/first save test-2')"
   ]
  },
  {
   "cell_type": "code",
   "execution_count": 4,
   "id": "15be800d",
   "metadata": {
    "ExecuteTime": {
     "end_time": "2021-05-27T10:21:18.501009Z",
     "start_time": "2021-05-27T10:20:37.799232Z"
    }
   },
   "outputs": [
    {
     "name": "stdout",
     "output_type": "stream",
     "text": [
      "Last 100 episodes mean score:  1267.68\n",
      "Max tile on last 100 episodes:  256\n",
      "Total training time (minutes):  0.67\n"
     ]
    }
   ],
   "source": [
    "environment = Environment.create(\n",
    "    environment='gym', level='2048-v0', max_episode_timesteps=1000\n",
    ")\n",
    "\n",
    "# Defaut hyperparams\n",
    "agent = Agent.create(\n",
    "    agent='dqn',\n",
    "    batch_size=16, # Required by Tensorforce\n",
    "    update_frequency=4, # Update frequency, TensorForce default : batch_size * 0.25\n",
    "    environment=environment,\n",
    "    learning_rate = 0.0001, # (TensorForce default)\n",
    "    discount = 0.99, # (TensorForce default)\n",
    "    memory=20000,\n",
    "    exploration=0.05, # (0 is the TensorForce default)\n",
    "    target_sync_frequency=4, # (1 is the TensorForce default)\n",
    "    #summarizer=dict(directory=logs_directory)\n",
    ")\n",
    "\n",
    "max_tiles = []\n",
    "scores = []\n",
    "start_training_time = time.time()\n",
    "\n",
    "for episode in range(25):\n",
    "    state = environment.reset()\n",
    "    terminal = False\n",
    "    \n",
    "    #Checking metrics while training\n",
    "    state_freeze = state.copy()\n",
    "    num_updates = 0\n",
    "    num_moves = 0\n",
    "    invalid_moves = 0\n",
    "    start_episode_time = time.time()\n",
    "    \n",
    "    while not terminal:\n",
    "        #mask invalid move\n",
    "        state = invalide_moves_activation(state)\n",
    "        #Core\n",
    "        action = agent.act(states=state)\n",
    "        state, terminal, reward = environment.execute(actions=action)\n",
    "        log2_reward = reward if reward <= 0 else np.log2(reward)\n",
    "        num_updates += agent.observe(terminal=terminal, reward=log2_reward)\n",
    "\n",
    "        #Number of moves\n",
    "        num_moves += 1\n",
    "        \n",
    "        #Number of invalid moves\n",
    "        if (state == state_freeze).all():\n",
    "            invalid_moves += 1\n",
    "        state_freeze = state.copy()\n",
    "    \n",
    "    # Storing score and max tile\n",
    "    max_tiles.append(environment._environment.environment.Matrix.max())\n",
    "    scores.append(environment._environment.environment.score)\n",
    "    if isinstance(episode/10, int):\n",
    "        print('Episode {}: terminal = {}, updates={}, max_tile={}, valid_moves={}, invalid_moves={}, seconds={}'\\\n",
    "              .format(episode, terminal, num_updates, max_tiles[-1], num_moves-invalid_moves, invalid_moves, round(time.time() - start_episode_time,2)))\n",
    "\n",
    "#agent.close()\n",
    "#environment.close()\n",
    "print(\"Last 100 episodes mean score: \", np.mean(scores[-100:]))\n",
    "print(\"Max tile on last 100 episodes: \", max(max_tiles[-100:]))\n",
    "print(\"Total training time (minutes): \", round((time.time() - start_training_time)/60,2))"
   ]
  },
  {
   "cell_type": "code",
   "execution_count": 5,
   "id": "2e642a01",
   "metadata": {
    "ExecuteTime": {
     "end_time": "2021-05-27T10:21:18.506595Z",
     "start_time": "2021-05-27T10:21:18.503052Z"
    }
   },
   "outputs": [
    {
     "name": "stdout",
     "output_type": "stream",
     "text": [
      "no\n"
     ]
    }
   ],
   "source": [
    "episode = 25\n",
    "if episode%50 == 0:\n",
    "    print('yes')\n",
    "else:\n",
    "    print('no')\n"
   ]
  },
  {
   "cell_type": "code",
   "execution_count": 52,
   "id": "0ce57fc7",
   "metadata": {
    "ExecuteTime": {
     "end_time": "2021-05-27T12:11:58.789368Z",
     "start_time": "2021-05-27T12:11:58.774101Z"
    }
   },
   "outputs": [],
   "source": [
    "import time"
   ]
  },
  {
   "cell_type": "code",
   "execution_count": 116,
   "id": "177ebb1a",
   "metadata": {
    "ExecuteTime": {
     "end_time": "2021-05-27T13:15:45.353377Z",
     "start_time": "2021-05-27T13:15:45.344612Z"
    }
   },
   "outputs": [],
   "source": [
    "# Evaluate for 100 episodes\n",
    "def test_agent(agent,n_episode):\n",
    "    \n",
    "    n_episode = n_episode\n",
    "    dico_max_tiles_distribution = {}\n",
    "    liste_score=[]\n",
    "    dico_best_worst_episode = {'Worst':[],'Best':[], 'Episode # Worst':[], 'Episode # Best':[]}\n",
    "\n",
    "    for episode in range(n_episode):\n",
    "        sum_rewards = 0.0\n",
    "        states = environment.reset()\n",
    "        list_states=[]\n",
    "        internals = agent.initial_internals()\n",
    "        terminal = False\n",
    "\n",
    "        while not terminal:\n",
    "            states = invalide_moves_activation(states)\n",
    "            actions, internals = agent.act(\n",
    "                states=states, internals=internals,\n",
    "                independent=True, deterministic=True\n",
    "            )\n",
    "            states, terminal, reward = environment.execute(actions=actions)\n",
    "            matrix = environment._environment.environment.Matrix\n",
    "            list_states.append(matrix.copy())\n",
    "            sum_rewards += reward\n",
    "\n",
    "        liste_score.append(sum_rewards)\n",
    "\n",
    "        if sum_rewards >= max(liste_score):\n",
    "            dico_best_worst_episode['Best'] = list_states\n",
    "            dico_best_worst_episode['Episode # Best'] = episode\n",
    "        elif sum_rewards <= min(liste_score):\n",
    "            dico_best_worst_episode['Worst'] = list_states\n",
    "            dico_best_worst_episode['Episode # Worst'] = episode\n",
    "\n",
    "        dico_max_tiles_distribution.setdefault(environment._environment.environment.Matrix.max(),0)\n",
    "        dico_max_tiles_distribution[environment._environment.environment.Matrix.max()] += 1\n",
    "\n",
    "    return dico_best_worst_episode, liste_score, dico_max_tiles_distribution\n"
   ]
  },
  {
   "cell_type": "code",
   "execution_count": 121,
   "id": "2c5fdfb1",
   "metadata": {
    "ExecuteTime": {
     "end_time": "2021-05-27T13:22:01.938068Z",
     "start_time": "2021-05-27T13:22:01.921697Z"
    }
   },
   "outputs": [],
   "source": [
    "def sort_dico(dico):\n",
    "    dico_sorted={}\n",
    "    for k,v in dict(sorted(dico.items())).items():\n",
    "        k_str = str(k)\n",
    "        dico_sorted[k_str] = v\n",
    "\n",
    "    return dico_sorted\n",
    "\n",
    "def plot_metrics(dico_sorted,rewards):\n",
    "    plt.figure(figsize=(14, 4))\n",
    "\n",
    "    plt.subplot(1, 2, 1)\n",
    "    plt.title('Max tile distribution')\n",
    "    plt.bar(*zip(*dico_sorted.items()))\n",
    "\n",
    "    plt.subplot(1, 2, 2)\n",
    "    plt.title('Score distribution')\n",
    "    sns.histplot(rewards, kde=True)\n",
    "\n",
    "    print(f'Mean score over the test: {np.mean(rewards)}')\n",
    "    print(f'Median score over the test: {np.median(rewards)}')\n",
    "    print(f'Std score over the test: {np.std(rewards)}')\n",
    "    print(f'Max tile over the test: {max([int(bins) for bins in dico_sorted.keys()])}')"
   ]
  },
  {
   "cell_type": "code",
   "execution_count": 118,
   "id": "f9e8e470",
   "metadata": {
    "ExecuteTime": {
     "end_time": "2021-05-27T13:17:46.346897Z",
     "start_time": "2021-05-27T13:17:44.064246Z"
    }
   },
   "outputs": [],
   "source": [
    "dico_test_BestWorst, dsitrib_score, dico_distrib_tile = test_agent(agent,5)"
   ]
  },
  {
   "cell_type": "code",
   "execution_count": 122,
   "id": "aa8801ea",
   "metadata": {
    "ExecuteTime": {
     "end_time": "2021-05-27T13:22:04.398237Z",
     "start_time": "2021-05-27T13:22:04.101823Z"
    }
   },
   "outputs": [
    {
     "name": "stdout",
     "output_type": "stream",
     "text": [
      "Mean score over the test: 2785.6\n",
      "Median score over the test: 2552.0\n",
      "Std score over the test: 779.0398192647151\n",
      "Max tile over the test: 256\n"
     ]
    },
    {
     "data": {
      "image/png": "[encoded data removed]",
      "text/plain": [
       "<Figure size 1008x288 with 2 Axes>"
      ]
     },
     "metadata": {
      "needs_background": "light"
     },
     "output_type": "display_data"
    }
   ],
   "source": [
    "plot_metrics(sort_dico(dico_distrib_tile),dsitrib_score)"
   ]
  },
  {
   "cell_type": "code",
   "execution_count": 8,
   "id": "90e97fa7",
   "metadata": {
    "ExecuteTime": {
     "end_time": "2021-05-27T10:21:34.119108Z",
     "start_time": "2021-05-27T10:21:33.711252Z"
    }
   },
   "outputs": [],
   "source": [
    "import seaborn as sns\n",
    "import matplotlib.pyplot as plt"
   ]
  }
 ],
 "metadata": {
  "kernelspec": {
   "display_name": "Python 3",
   "language": "python",
   "name": "python3"
  },
  "language_info": {
   "codemirror_mode": {
    "name": "ipython",
    "version": 3
   },
   "file_extension": ".py",
   "mimetype": "text/x-python",
   "name": "python",
   "nbconvert_exporter": "python",
   "pygments_lexer": "ipython3",
   "version": "3.8.6"
  },
  "toc": {
   "base_numbering": 1,
   "nav_menu": {},
   "number_sections": true,
   "sideBar": true,
   "skip_h1_title": false,
   "title_cell": "Table of Contents",
   "title_sidebar": "Contents",
   "toc_cell": false,
   "toc_position": {},
   "toc_section_display": true,
   "toc_window_display": false
  }
 },
 "nbformat": 4,
 "nbformat_minor": 5
}
