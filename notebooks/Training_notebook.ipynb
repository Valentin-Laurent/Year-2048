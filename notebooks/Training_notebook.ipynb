{
 "cells": [
  {
   "cell_type": "markdown",
   "id": "2056fa53",
   "metadata": {},
   "source": [
    "# Running colab?"
   ]
  },
  {
   "cell_type": "code",
   "execution_count": 1,
   "id": "349888b6",
   "metadata": {
    "ExecuteTime": {
     "end_time": "2021-07-23T15:25:57.979948Z",
     "start_time": "2021-07-23T15:25:57.974509Z"
    }
   },
   "outputs": [],
   "source": [
    "running_colab = False"
   ]
  },
  {
   "cell_type": "code",
   "execution_count": 2,
   "id": "74196cbe",
   "metadata": {
    "ExecuteTime": {
     "end_time": "2021-07-23T15:25:58.377477Z",
     "start_time": "2021-07-23T15:25:58.368757Z"
    }
   },
   "outputs": [],
   "source": [
    "if running_colab:\n",
    "    from google.colab import drive\n",
    "    drive.mount('/content/drive')\n",
    "    colab_parent_directory = 'drive/MyDrive/ColabData/'\n",
    "    !pip install -r \"drive/MyDrive/ColabData/requirements.txt\"\n",
    "else:\n",
    "    colab_parent_directory = ''"
   ]
  },
  {
   "cell_type": "markdown",
   "id": "bc1fc104",
   "metadata": {},
   "source": [
    "# Setting up directories/files"
   ]
  },
  {
   "cell_type": "code",
   "execution_count": 3,
   "id": "a8e635f6",
   "metadata": {
    "ExecuteTime": {
     "end_time": "2021-07-23T22:32:01.178609Z",
     "start_time": "2021-07-23T22:32:01.017407Z"
    }
   },
   "outputs": [],
   "source": [
    "data_directory = \"data\"\n",
    "!mkdir -p $f'{colab_parent_directory}{data_directory}'\n",
    "\n",
    "params_path = f'{colab_parent_directory}{data_directory}/agents_params.csv'\n",
    "metrics_path = f'{colab_parent_directory}{data_directory}/agents_metrics.csv'"
   ]
  },
  {
   "cell_type": "markdown",
   "id": "b184a774",
   "metadata": {
    "ExecuteTime": {
     "end_time": "2021-05-25T13:22:42.227452Z",
     "start_time": "2021-05-25T13:22:42.222872Z"
    }
   },
   "source": [
    "# Imports"
   ]
  },
  {
   "cell_type": "code",
   "execution_count": 4,
   "id": "7c400da7",
   "metadata": {
    "ExecuteTime": {
     "end_time": "2021-07-23T15:26:08.141337Z",
     "start_time": "2021-07-23T15:26:02.136045Z"
    }
   },
   "outputs": [],
   "source": [
    "import time\n",
    "from tensorforce import Agent, Environment\n",
    "import numpy as np\n",
    "import seaborn as sns\n",
    "import matplotlib.pyplot as plt\n",
    "import pandas as pd\n",
    "from scipy.ndimage.filters import uniform_filter1d\n",
    "%load_ext tensorboard\n",
    "\n",
    "# import pour visualiser les parties\n",
    "from IPython.display import display, HTML\n",
    "from IPython.display import clear_output"
   ]
  },
  {
   "cell_type": "markdown",
   "id": "3f834cc8",
   "metadata": {},
   "source": [
    "# Plotting utils"
   ]
  },
  {
   "cell_type": "code",
   "execution_count": 5,
   "id": "6d9f9f8f",
   "metadata": {
    "ExecuteTime": {
     "end_time": "2021-07-23T15:26:08.168554Z",
     "start_time": "2021-07-23T15:26:08.144274Z"
    }
   },
   "outputs": [],
   "source": [
    "# fonction pour ranger en ordre croissant un dico dans le but de le plotter avec plt\n",
    "def sort_dico(dico):\n",
    "    dico_sorted={}\n",
    "    for k,v in dict(sorted(dico.items())).items():\n",
    "        k_str = str(k)\n",
    "        dico_sorted[k_str] = v\n",
    "\n",
    "    return dico_sorted"
   ]
  },
  {
   "cell_type": "code",
   "execution_count": 6,
   "id": "1a065b63",
   "metadata": {
    "ExecuteTime": {
     "end_time": "2021-07-23T15:26:08.184976Z",
     "start_time": "2021-07-23T15:26:08.179243Z"
    }
   },
   "outputs": [],
   "source": [
    "# fonction pour plotter la distribution des scores et des max tiles\n",
    "# à utiliser avec la fonction de test 'test_agent' et ce qu'elle retourne\n",
    "# dico_sorted = sort_dico(dico_max_tiles_distribution)\n",
    "# rewards = liste_score\n",
    "\n",
    "def plot_metrics(dico_sorted,rewards):\n",
    "    plt.figure(figsize=(14, 4))\n",
    "\n",
    "    plt.subplot(1, 2, 1)\n",
    "    plt.title('Max tile distribution')\n",
    "    plt.bar(*zip(*dico_sorted.items()))\n",
    "\n",
    "    plt.subplot(1, 2, 2)\n",
    "    plt.title('Score distribution')\n",
    "    sns.histplot(rewards, kde=True)\n",
    "\n",
    "    print(f'Mean score over the test: {np.mean(rewards)}')\n",
    "    print(f'Median score over the test: {np.median(rewards)}')\n",
    "    print(f'Std score over the test: {np.std(rewards)}')\n",
    "    print(f'Max tile over the test: {max([int(bins) for bins in dico_sorted.keys()])}')"
   ]
  },
  {
   "cell_type": "code",
   "execution_count": 7,
   "id": "895fc5e7",
   "metadata": {
    "ExecuteTime": {
     "end_time": "2021-07-23T15:26:08.213218Z",
     "start_time": "2021-07-23T15:26:08.198113Z"
    }
   },
   "outputs": [],
   "source": [
    "# fonction pour imprimer les parties avec un visuel proche de celui du jeu 2048\n",
    "\n",
    "def pretty_print(layout):\n",
    "    from math import log2\n",
    "    def parse_color(cell_value):\n",
    "        if cell_value>0:\n",
    "            colors = [\"#EEE4DA\", \"#ECE0CA\", \"#F2B179\", \"#F59565\", \"#F57C5F\", \"#F65D3B\", \"#EDCE71\", \"#EDCC63\", \"#EDC850\", \"#EDC53F\", \"#EEC22E\", \"#3E3933\"]\n",
    "            return colors[int(log2(cell_value))-1]\n",
    "        else:\n",
    "            return \"#CDC0B4\"\n",
    "\n",
    "    def cell_block(cell_value):\n",
    "        return '''\n",
    "        <td style=font-size:{}px;background-color:#BBADA0;text-align:center;width:100%>\n",
    "            <div style=color:#776E65;background-color:{};width:60px;height:60px;margin:auto;display:flex;align-items:center;justify-content:center;border-radius:6px;font-family:serif;font-size:medium><strong>{}</strong>\n",
    "            </div>\n",
    "        </td>'''.format('1', parse_color(cell_value), cell_value if cell_value>0 else '')\n",
    "    return '''\n",
    "            <div style=background-color:#BBADA0;width:300px;height:300px>\n",
    "            <table style=width:100%;height:100%>\n",
    "              <tr>\n",
    "                {}\n",
    "                </tr>\n",
    "              <tr>\n",
    "              {}\n",
    "              </tr>\n",
    "              <tr>\n",
    "              {}\n",
    "              </tr>\n",
    "              <tr>\n",
    "              {}\n",
    "              </tr>\n",
    "            </table>\n",
    "            </div>\n",
    "            '''.format('\\n'.join([cell_block(val) for val in layout[0,:]]),\n",
    "                      '\\n'.join([cell_block(val) for val in layout[1,:]]),\n",
    "                       '\\n'.join([cell_block(val) for val in layout[2,:]]),\n",
    "                       '\\n'.join([cell_block(val) for val in layout[3,:]]))\n"
   ]
  },
  {
   "cell_type": "markdown",
   "id": "a8f7ad4f",
   "metadata": {
    "ExecuteTime": {
     "end_time": "2021-05-25T13:23:07.931146Z",
     "start_time": "2021-05-25T13:23:07.926389Z"
    }
   },
   "source": [
    "# Useful code snippets"
   ]
  },
  {
   "cell_type": "markdown",
   "id": "83046448",
   "metadata": {},
   "source": [
    "Render \"beautiful\" 2048 grid:\n",
    "\n",
    "`plt.imshow(environment._environment.environment.render(mode=\"rgb_array\"))`\n",
    "\n",
    "Illegal move reward:\n",
    "\n",
    "`environment._environment.environment.set_illegal_move_reward(-10)`\n",
    "\n",
    "Log2 reward:\n",
    "\n",
    "`log2_reward = reward if reward <= 0 else np.log2(reward)`\n",
    "\n",
    "Show TensorBoard graphs:\n",
    "\n",
    "`%tensorboard --logdir summaries` (with parameter `summarizer=dict(directory='{data_directory}/...')` in the `Agent.create()` method)"
   ]
  },
  {
   "cell_type": "markdown",
   "id": "e7e12eea",
   "metadata": {},
   "source": [
    "# Training functions"
   ]
  },
  {
   "cell_type": "code",
   "execution_count": 8,
   "id": "14278ee5",
   "metadata": {
    "ExecuteTime": {
     "end_time": "2021-07-23T15:26:08.231278Z",
     "start_time": "2021-07-23T15:26:08.219252Z"
    }
   },
   "outputs": [],
   "source": [
    "def create_agent_and_env(env_params, agent_params):\n",
    "    agent_name = agent_params[\"agent_name\"]\n",
    "    agent_params_ = dict(agent_params)\n",
    "    del agent_params_[\"agent_name\"] # A TensorForce agent doesn't take name as a parameter\n",
    "    \n",
    "    \n",
    "    # create a 2048 environment\n",
    "    environment = Environment.create(\n",
    "        environment = 'gym'\n",
    "        , level = '2048-v0'\n",
    "    )\n",
    "\n",
    "    # create an agent\n",
    "    agent = Agent.create(\n",
    "        agent = 'dqn',\n",
    "        environment = environment,\n",
    "        **agent_params_#,\n",
    "        #summarizer = dict(directory=f'{colab_parent_directory}{data_directory}/{agent_params[\"agent_name\"]}/TensorBoard',\n",
    "                          #summaries=[\"reward\"])\n",
    "        # Uncomment the above lines to store logs in TensorBoard (but training will take more time)\n",
    "    )\n",
    "    return (environment, agent)"
   ]
  },
  {
   "cell_type": "code",
   "execution_count": 9,
   "id": "3b0ac30e",
   "metadata": {
    "ExecuteTime": {
     "end_time": "2021-07-23T22:17:00.365784Z",
     "start_time": "2021-07-23T22:17:00.347384Z"
    }
   },
   "outputs": [],
   "source": [
    "def train_agent(environment, agent, num_episodes, print_freq, agent_name, training_round = 0):\n",
    "\n",
    "    # instantiate lists to save metrics\n",
    "    \n",
    "    train_max_tiles = []\n",
    "    train_scores = []\n",
    "    train_moves_numbers = []\n",
    "    episode_train_times = []\n",
    "    \n",
    "    test_max_tiles = []\n",
    "    test_scores = []\n",
    "    test_moves_numbers = []\n",
    "    episode_test_times = []\n",
    "\n",
    "    for episode in range(num_episodes):\n",
    "        \n",
    "        # Training\n",
    "        state = environment.reset()\n",
    "        terminal = False\n",
    "\n",
    "        #Checking metrics while training\n",
    "        num_moves = 0\n",
    "        start_episode_train_time = time.time()\n",
    "\n",
    "        while not terminal:\n",
    "            \n",
    "            # Agent acting (invalid moves are not allowed)\n",
    "            action = agent.act(states=dict(state=state,  action_mask=environment._environment.environment.get_invalid_moves()))\n",
    "            state, terminal, reward = environment.execute(actions=action)\n",
    "            \n",
    "            # Using the log2 of the reward seems to give better results\n",
    "            log2_reward = reward if reward <= 0 else np.log2(reward)\n",
    "            agent.observe(terminal=terminal, reward=log2_reward)\n",
    "\n",
    "            # Number of moves\n",
    "            num_moves += 1\n",
    "\n",
    "        # Saving metrics\n",
    "        train_max_tiles.append(environment._environment.environment.Matrix.max())\n",
    "        train_scores.append(environment._environment.environment.score)\n",
    "        train_moves_numbers.append(num_moves)\n",
    "        episode_train_times.append(round(time.time() - start_episode_train_time,2))\n",
    "\n",
    "        if episode % print_freq == 0:\n",
    "            print('Episode {}: score = {}, terminal = {}, max_tile={}, moves={}, seconds={}'\\\n",
    "                  .format(episode, environment._environment.environment.score , terminal, train_max_tiles[-1], num_moves, round(time.time() - start_episode_train_time,2)))\n",
    "        \n",
    "        # Testing\n",
    "        num_moves = 0\n",
    "        start_episode_test_time = time.time()\n",
    "        \n",
    "        states = environment.reset()\n",
    "        internals = agent.initial_internals()\n",
    "        terminal = False\n",
    "\n",
    "        while not terminal:\n",
    "            actions, internals = agent.act(\n",
    "                states= {\n",
    "                    \"state\":states,\n",
    "                    \"action_mask\":environment._environment.environment.get_invalid_moves()},\n",
    "                internals=internals,\n",
    "                independent=True, deterministic=True\n",
    "            )\n",
    "            states, terminal, reward = environment.execute(actions=actions)\n",
    "        \n",
    "        # Saving metrics\n",
    "        test_max_tiles.append(environment._environment.environment.Matrix.max())\n",
    "        test_scores.append(environment._environment.environment.score)\n",
    "        test_moves_numbers.append(num_moves)\n",
    "        episode_test_times.append(round(time.time() - start_episode_test_time,2))\n",
    "\n",
    "        if episode % print_freq == 0:\n",
    "            print('Test episode {}: score = {}, terminal = {}, max_tile={}, moves={}, seconds={}'\\\n",
    "                  .format(episode, environment._environment.environment.score , terminal, test_max_tiles[-1], num_moves, round(time.time() - start_episode_test_time,2)))\n",
    "        \n",
    "    # Storing agent\n",
    "    agent.save(f'{colab_parent_directory}{data_directory}/saved_agents/{agent_name}/agent_round_{training_round}', filename=agent_name)\n",
    "    \n",
    "    # Storing metrics\n",
    "    episodes_index = range(len(train_scores))\n",
    "    \n",
    "    training_metrics_dict = {\n",
    "        'agent_name': agent_name,\n",
    "        'context': \"training\",\n",
    "        'round': training_round,\n",
    "        'episode_number': episodes_index,\n",
    "        'max_tile': train_max_tiles,\n",
    "        'score': train_scores,\n",
    "        'moves_number': train_moves_numbers,\n",
    "        'episode_play_time' : episode_train_times\n",
    "    }\n",
    "    \n",
    "    test_during_train_metrics_dict = {\n",
    "        'agent_name': agent_name,\n",
    "        'context': \"test_during_train\",\n",
    "        'round': training_round,\n",
    "        'episode_number': episodes_index,\n",
    "        'max_tile': test_max_tiles,\n",
    "        'score': test_scores,\n",
    "        'moves_number': test_moves_numbers,\n",
    "        'episode_play_time' : episode_test_times\n",
    "    }\n",
    "    \n",
    "    training_metrics_df = pd.DataFrame(training_metrics_dict)\n",
    "    test_during_train_metrics_df = pd.DataFrame(test_during_train_metrics_dict)\n",
    "    metrics_df = training_metrics_df.append(test_during_train_metrics_df)\n",
    "    \n",
    "    try: # In case the .csv does not exist yet.\n",
    "        csv_metrics_df = pd.read_csv(metrics_path)\n",
    "        metrics_df = csv_metrics_df.append(metrics_df)\n",
    "    except FileNotFoundError:\n",
    "        pass\n",
    "    metrics_df.to_csv(metrics_path, index=False)\n",
    "    \n",
    "    return (metrics_df, agent)"
   ]
  },
  {
   "cell_type": "code",
   "execution_count": 10,
   "id": "27ede69a",
   "metadata": {
    "ExecuteTime": {
     "end_time": "2021-07-23T16:13:54.955413Z",
     "start_time": "2021-07-23T16:13:54.949641Z"
    }
   },
   "outputs": [],
   "source": [
    "def save_params(agent_params, env_params):    \n",
    "    params_df = pd.DataFrame([{**agent_params, **env_params}]) # Merging dicts and creating a dataframe with 1 row\n",
    "    try: # In case the .csv does not exist yet.\n",
    "        csv_params_df = pd.read_csv(params_path)\n",
    "        params_df = csv_params_df.append(params_df, ignore_index=True)\n",
    "    except FileNotFoundError:\n",
    "        pass\n",
    "    params_df.to_csv(params_path, index=False)"
   ]
  },
  {
   "cell_type": "markdown",
   "id": "56791076",
   "metadata": {},
   "source": [
    "# Example of loading an agent (useful for training or testing)"
   ]
  },
  {
   "cell_type": "markdown",
   "id": "74147bf7",
   "metadata": {},
   "source": [
    "```python\n",
    "# An env needs to be created first\n",
    "environment_load = Environment.create(\n",
    "        environment = 'gym'\n",
    "        , level = '2048-v0'\n",
    "    )\n",
    "\n",
    "# Then we load the agent\n",
    "APG_20K = Agent.load(directory=f\"{data_directory}/APG_20K/agent_round0\", filename=\"APG_20K\", environment=environment_load)\n",
    "```"
   ]
  },
  {
   "cell_type": "markdown",
   "id": "d0255aac",
   "metadata": {},
   "source": [
    "# Training"
   ]
  },
  {
   "cell_type": "markdown",
   "id": "c49dd500",
   "metadata": {},
   "source": [
    "Variable parameter example:\n",
    "\n",
    "```python\n",
    "exploration = dict(\n",
    "    type = 'exponential',\n",
    "    unit ='episodes',\n",
    "    num_steps = 10000,\n",
    "    initial_value = 0.2,\n",
    "    decay_rate = 0.0005\n",
    ")\n",
    "````"
   ]
  },
  {
   "cell_type": "code",
   "execution_count": 11,
   "id": "38790d3a",
   "metadata": {
    "ExecuteTime": {
     "end_time": "2021-07-23T22:36:48.759485Z",
     "start_time": "2021-07-23T22:36:45.894322Z"
    },
    "scrolled": false
   },
   "outputs": [],
   "source": [
    "agent_params = {\n",
    "    \"agent_name\": input(\"Agent name (only letter, digits and underscores). NO SPACE: \"),\n",
    "    'batch_size': 16,\n",
    "    'update_frequency': 4,\n",
    "    'learning_rate': 0.0001,\n",
    "    'discount': 0.99,\n",
    "    'memory': 10000,\n",
    "    \"exploration\":{\n",
    "        \"type\": \"exponential\",\n",
    "        \"unit\": \"episodes\",\n",
    "        \"num_steps\": 10000,\n",
    "        \"initial_value\": 0.07,\"decay_rate\": 0.0001\n",
    "    },\n",
    "    'target_sync_frequency': 4\n",
    "}\n",
    "\n",
    "env_params = {\n",
    "    'max_episode_timesteps': 100000\n",
    "}\n",
    "\n",
    "if (not agent_params[\"agent_name\"]) or (\" \" in agent_params[\"agent_name\"]):\n",
    "    print (\"NO SPACE\")\n",
    "    agent_params = 0"
   ]
  },
  {
   "cell_type": "code",
   "execution_count": 12,
   "id": "08d5eeda",
   "metadata": {
    "ExecuteTime": {
     "end_time": "2021-07-23T22:36:49.728251Z",
     "start_time": "2021-07-23T22:36:49.709147Z"
    }
   },
   "outputs": [],
   "source": [
    "# Saving params to .csv in {data_directory} folder\n",
    "save_params(agent_params, env_params)"
   ]
  },
  {
   "cell_type": "code",
   "execution_count": 13,
   "id": "fc554896",
   "metadata": {
    "ExecuteTime": {
     "end_time": "2021-07-23T22:38:14.728878Z",
     "start_time": "2021-07-23T22:38:12.182806Z"
    }
   },
   "outputs": [],
   "source": [
    "# Creating agent and environnement\n",
    "environment, agent = create_agent_and_env(env_params, agent_params)"
   ]
  },
  {
   "cell_type": "code",
   "execution_count": null,
   "id": "70628737",
   "metadata": {
    "ExecuteTime": {
     "end_time": "2021-07-24T03:01:11.318807Z",
     "start_time": "2021-07-23T22:38:30.505392Z"
    },
    "collapsed": true
   },
   "outputs": [],
   "source": [
    "# Train ! Increment training round for several round of trainings\n",
    "\n",
    "training_params = {\n",
    "    \"num_episodes\": 5_000,\n",
    "    \"print_freq\": 100,\n",
    "    \"agent_name\": agent_params[\"agent_name\"],\n",
    "    \"training_round\": input(\"Training round? \")\n",
    "}\n",
    "\n",
    "metrics_df, agent = train_agent(environment, agent, **training_params)"
   ]
  },
  {
   "cell_type": "markdown",
   "id": "a1625aa1",
   "metadata": {},
   "source": [
    "# Plotting training data"
   ]
  },
  {
   "cell_type": "code",
   "execution_count": 20,
   "id": "cdab0aa7",
   "metadata": {
    "ExecuteTime": {
     "end_time": "2021-07-25T20:04:04.798955Z",
     "start_time": "2021-07-25T20:04:04.721965Z"
    }
   },
   "outputs": [
    {
     "data": {
      "text/html": [
       "<div>\n",
       "<style scoped>\n",
       "    .dataframe tbody tr th:only-of-type {\n",
       "        vertical-align: middle;\n",
       "    }\n",
       "\n",
       "    .dataframe tbody tr th {\n",
       "        vertical-align: top;\n",
       "    }\n",
       "\n",
       "    .dataframe thead th {\n",
       "        text-align: right;\n",
       "    }\n",
       "</style>\n",
       "<table border=\"1\" class=\"dataframe\">\n",
       "  <thead>\n",
       "    <tr style=\"text-align: right;\">\n",
       "      <th></th>\n",
       "      <th></th>\n",
       "      <th></th>\n",
       "      <th></th>\n",
       "      <th>max_tile</th>\n",
       "      <th>score</th>\n",
       "      <th>moves_number</th>\n",
       "      <th>episode_play_time</th>\n",
       "    </tr>\n",
       "    <tr>\n",
       "      <th>agent_name</th>\n",
       "      <th>context</th>\n",
       "      <th>round</th>\n",
       "      <th>episode_number</th>\n",
       "      <th></th>\n",
       "      <th></th>\n",
       "      <th></th>\n",
       "      <th></th>\n",
       "    </tr>\n",
       "  </thead>\n",
       "  <tbody>\n",
       "    <tr>\n",
       "      <th rowspan=\"5\" valign=\"top\">marco_test</th>\n",
       "      <th rowspan=\"5\" valign=\"top\">training</th>\n",
       "      <th rowspan=\"5\" valign=\"top\">0</th>\n",
       "      <th>0</th>\n",
       "      <td>128</td>\n",
       "      <td>1936.0</td>\n",
       "      <td>179</td>\n",
       "      <td>6.27</td>\n",
       "    </tr>\n",
       "    <tr>\n",
       "      <th>1</th>\n",
       "      <td>64</td>\n",
       "      <td>1420.0</td>\n",
       "      <td>160</td>\n",
       "      <td>1.18</td>\n",
       "    </tr>\n",
       "    <tr>\n",
       "      <th>2</th>\n",
       "      <td>128</td>\n",
       "      <td>2000.0</td>\n",
       "      <td>182</td>\n",
       "      <td>1.48</td>\n",
       "    </tr>\n",
       "    <tr>\n",
       "      <th>3</th>\n",
       "      <td>128</td>\n",
       "      <td>1192.0</td>\n",
       "      <td>124</td>\n",
       "      <td>1.18</td>\n",
       "    </tr>\n",
       "    <tr>\n",
       "      <th>4</th>\n",
       "      <td>256</td>\n",
       "      <td>2428.0</td>\n",
       "      <td>210</td>\n",
       "      <td>1.56</td>\n",
       "    </tr>\n",
       "    <tr>\n",
       "      <th>...</th>\n",
       "      <th>...</th>\n",
       "      <th>...</th>\n",
       "      <th>...</th>\n",
       "      <td>...</td>\n",
       "      <td>...</td>\n",
       "      <td>...</td>\n",
       "      <td>...</td>\n",
       "    </tr>\n",
       "    <tr>\n",
       "      <th rowspan=\"3\" valign=\"top\">marco_colab_cpu</th>\n",
       "      <th rowspan=\"3\" valign=\"top\">test_during_train</th>\n",
       "      <th rowspan=\"3\" valign=\"top\">0</th>\n",
       "      <th>4997</th>\n",
       "      <td>128</td>\n",
       "      <td>1612.0</td>\n",
       "      <td>0</td>\n",
       "      <td>0.41</td>\n",
       "    </tr>\n",
       "    <tr>\n",
       "      <th>4998</th>\n",
       "      <td>512</td>\n",
       "      <td>6476.0</td>\n",
       "      <td>0</td>\n",
       "      <td>1.13</td>\n",
       "    </tr>\n",
       "    <tr>\n",
       "      <th>4999</th>\n",
       "      <td>128</td>\n",
       "      <td>1404.0</td>\n",
       "      <td>0</td>\n",
       "      <td>0.35</td>\n",
       "    </tr>\n",
       "    <tr>\n",
       "      <th rowspan=\"2\" valign=\"top\">test_agent</th>\n",
       "      <th>training</th>\n",
       "      <th>0</th>\n",
       "      <th>0</th>\n",
       "      <td>64</td>\n",
       "      <td>600.0</td>\n",
       "      <td>79</td>\n",
       "      <td>6.35</td>\n",
       "    </tr>\n",
       "    <tr>\n",
       "      <th>test_during_train</th>\n",
       "      <th>0</th>\n",
       "      <th>0</th>\n",
       "      <td>128</td>\n",
       "      <td>1372.0</td>\n",
       "      <td>0</td>\n",
       "      <td>0.82</td>\n",
       "    </tr>\n",
       "  </tbody>\n",
       "</table>\n",
       "<p>30002 rows × 4 columns</p>\n",
       "</div>"
      ],
      "text/plain": [
       "                                                        max_tile   score  \\\n",
       "agent_name      context           round episode_number                     \n",
       "marco_test      training          0     0                    128  1936.0   \n",
       "                                        1                     64  1420.0   \n",
       "                                        2                    128  2000.0   \n",
       "                                        3                    128  1192.0   \n",
       "                                        4                    256  2428.0   \n",
       "...                                                          ...     ...   \n",
       "marco_colab_cpu test_during_train 0     4997                 128  1612.0   \n",
       "                                        4998                 512  6476.0   \n",
       "                                        4999                 128  1404.0   \n",
       "test_agent      training          0     0                     64   600.0   \n",
       "                test_during_train 0     0                    128  1372.0   \n",
       "\n",
       "                                                        moves_number  \\\n",
       "agent_name      context           round episode_number                 \n",
       "marco_test      training          0     0                        179   \n",
       "                                        1                        160   \n",
       "                                        2                        182   \n",
       "                                        3                        124   \n",
       "                                        4                        210   \n",
       "...                                                              ...   \n",
       "marco_colab_cpu test_during_train 0     4997                       0   \n",
       "                                        4998                       0   \n",
       "                                        4999                       0   \n",
       "test_agent      training          0     0                         79   \n",
       "                test_during_train 0     0                          0   \n",
       "\n",
       "                                                        episode_play_time  \n",
       "agent_name      context           round episode_number                     \n",
       "marco_test      training          0     0                            6.27  \n",
       "                                        1                            1.18  \n",
       "                                        2                            1.48  \n",
       "                                        3                            1.18  \n",
       "                                        4                            1.56  \n",
       "...                                                                   ...  \n",
       "marco_colab_cpu test_during_train 0     4997                         0.41  \n",
       "                                        4998                         1.13  \n",
       "                                        4999                         0.35  \n",
       "test_agent      training          0     0                            6.35  \n",
       "                test_during_train 0     0                            0.82  \n",
       "\n",
       "[30002 rows x 4 columns]"
      ]
     },
     "execution_count": 20,
     "metadata": {},
     "output_type": "execute_result"
    }
   ],
   "source": [
    "# Reading metrics of trained agents:\n",
    "df = pd.read_csv(metrics_path).set_index(['agent_name', 'context', 'round', 'episode_number'])\n",
    "df"
   ]
  },
  {
   "cell_type": "code",
   "execution_count": 36,
   "metadata": {},
   "outputs": [
    {
     "data": {
      "text/plain": [
       "episode_number\n",
       "0       1936.0\n",
       "1       1420.0\n",
       "2       2000.0\n",
       "3       1192.0\n",
       "4       2428.0\n",
       "         ...  \n",
       "4995    8636.0\n",
       "4996    2720.0\n",
       "4997    8592.0\n",
       "4998    5788.0\n",
       "4999    7488.0\n",
       "Name: score, Length: 5000, dtype: float64"
      ]
     },
     "execution_count": 36,
     "metadata": {},
     "output_type": "execute_result"
    }
   ],
   "source": [
    "df.score[\"marco_test\"][\"training\"][0]"
   ]
  },
  {
   "cell_type": "code",
   "execution_count": 39,
   "id": "4302af1b",
   "metadata": {
    "ExecuteTime": {
     "end_time": "2021-07-14T22:21:00.509587Z",
     "start_time": "2021-07-14T22:21:00.021718Z"
    }
   },
   "outputs": [
    {
     "data": {
      "image/png": "[encoded data removed]",
      "text/plain": [
       "<Figure size 432x288 with 1 Axes>"
      ]
     },
     "metadata": {
      "needs_background": "light"
     },
     "output_type": "display_data"
    }
   ],
   "source": [
    "# Raw training data\n",
    "sns.lineplot(data=df[\"score\"][agent_params[\"agent_name\"]][\"training\"][int(training_params[\"training_round\"])], label = agent_params[\"agent_name\"]);"
   ]
  },
  {
   "cell_type": "code",
   "execution_count": 41,
   "id": "39065a0c",
   "metadata": {
    "ExecuteTime": {
     "end_time": "2021-07-15T15:59:15.949032Z",
     "start_time": "2021-07-15T15:59:15.721904Z"
    }
   },
   "outputs": [
    {
     "name": "stdout",
     "output_type": "stream",
     "text": [
      "Training time of test_agent: 743 minutes\n"
     ]
    },
    {
     "data": {
      "image/png": "[encoded data removed]",
      "text/plain": [
       "<Figure size 432x288 with 1 Axes>"
      ]
     },
     "metadata": {
      "needs_background": "light"
     },
     "output_type": "display_data"
    }
   ],
   "source": [
    "# Smoothed curves (moving average on N points)\n",
    "N = 100\n",
    "print(f\"Training time of {agent_params['agent_name']}:\", round(metrics_df[\"episode_play_time\"].sum()/60), \"minutes\")\n",
    "sns.lineplot(data = uniform_filter1d(df[\"score\"][agent_params[\"agent_name\"]][\"training\"][int(training_params[\"training_round\"])], size=N, mode = \"reflect\"), label = f\"Score (moving average on {N} points)\");"
   ]
  },
  {
   "cell_type": "code",
   "execution_count": 42,
   "id": "88cc7b38",
   "metadata": {
    "ExecuteTime": {
     "end_time": "2021-07-15T15:25:27.330900Z",
     "start_time": "2021-07-15T15:25:21.227527Z"
    }
   },
   "outputs": [
    {
     "data": {
      "text/html": [
       "\n",
       "      <iframe id=\"tensorboard-frame-a99aeb861bdedc92\" width=\"100%\" height=\"800\" frameborder=\"0\">\n",
       "      </iframe>\n",
       "      <script>\n",
       "        (function() {\n",
       "          const frame = document.getElementById(\"tensorboard-frame-a99aeb861bdedc92\");\n",
       "          const url = new URL(\"/\", window.location);\n",
       "          const port = 6006;\n",
       "          if (port) {\n",
       "            url.port = port;\n",
       "          }\n",
       "          frame.src = url;\n",
       "        })();\n",
       "      </script>\n",
       "    "
      ],
      "text/plain": [
       "<IPython.core.display.HTML object>"
      ]
     },
     "metadata": {},
     "output_type": "display_data"
    }
   ],
   "source": [
    "_dir = f\"{colab_parent_directory}{data_directory}/{agent_params['agent_name']}\"\n",
    "%tensorboard --logdir $_dir"
   ]
  },
  {
   "cell_type": "markdown",
   "id": "a294eb62",
   "metadata": {},
   "source": [
    "# Testing"
   ]
  },
  {
   "cell_type": "markdown",
   "id": "4dc91061",
   "metadata": {},
   "source": [
    "Fast testing"
   ]
  },
  {
   "cell_type": "code",
   "execution_count": null,
   "id": "70c157b3",
   "metadata": {
    "ExecuteTime": {
     "end_time": "2021-07-15T16:18:22.654165Z",
     "start_time": "2021-07-15T16:18:22.644756Z"
    }
   },
   "outputs": [],
   "source": [
    "def fast_test_agent(agent, episodes_n):\n",
    "    start_testing_time = time.time()\n",
    "\n",
    "    environment = Environment.create(\n",
    "        environment = 'gym',\n",
    "        level = '2048-v0', \n",
    "        max_episode_timesteps = 10_000\n",
    "    )\n",
    "\n",
    "    scores_list = []\n",
    "\n",
    "    for episode in range(episodes_n):\n",
    "        score = 0\n",
    "        states = environment.reset()\n",
    "        internals = agent.initial_internals()\n",
    "        terminal = False\n",
    "\n",
    "        while not terminal:\n",
    "            actions, internals = agent.act(\n",
    "                states= {\n",
    "                    \"state\":states,\n",
    "                    \"action_mask\":environment._environment.environment.get_invalid_moves()},\n",
    "                internals=internals,\n",
    "                independent=True, deterministic=True\n",
    "            )\n",
    "            states, terminal, reward = environment.execute(actions=actions)\n",
    "            score += reward\n",
    "\n",
    "        scores_list.append(score)\n",
    "\n",
    "    testing_time = time.time() - start_testing_time\n",
    "    print(\"Testing time: \", testing_time)\n",
    "    \n",
    "    return scores_list"
   ]
  },
  {
   "cell_type": "markdown",
   "id": "c1b413f6",
   "metadata": {},
   "source": [
    "Comprehensive testing (with visualization, and best/worst game save)"
   ]
  },
  {
   "cell_type": "code",
   "execution_count": null,
   "id": "6424ccf5",
   "metadata": {
    "ExecuteTime": {
     "end_time": "2021-07-15T16:13:34.752148Z",
     "start_time": "2021-07-15T16:13:34.413151Z"
    }
   },
   "outputs": [],
   "source": [
    "# Evaluate for n episodes\n",
    "def test_agent(agent,n_episode,visualization,pause=0.01):\n",
    "    start_testing_time = time.time()\n",
    "    #definir l'env\n",
    "    environment = Environment.create(environment = 'gym', level = '2048-v0', \n",
    "    max_episode_timesteps = 10_000\n",
    "    )\n",
    "\n",
    "    #dictionnaire pour obtenir la distribution des max tiles de chaque episode\n",
    "    dico_max_tiles_distribution = {}\n",
    "    # liste des score par episode\n",
    "    liste_score=[]\n",
    "    # dictionnaire pour récupérer la meilleure et la pire partie du test\n",
    "    dico_best_worst_episode = {'Worst':[],'Best':[], 'Episode # Worst':[], 'Episode # Best':[]}\n",
    "\n",
    "    for episode in range(n_episode):\n",
    "        sum_rewards = 0.0\n",
    "        states = environment.reset()\n",
    "        list_states=[]\n",
    "        internals = agent.initial_internals()\n",
    "        terminal = False\n",
    "        if visualization == 'yes':\n",
    "            clear_output(wait=True)\n",
    "            print(f'Game #: {episode+1}')\n",
    "            time.sleep(3)\n",
    "\n",
    "        while not terminal:\n",
    "            actions, internals = agent.act(\n",
    "                states= {\n",
    "                    \"state\":states,\n",
    "                    \"action_mask\":environment._environment.environment.get_invalid_moves()},\n",
    "                internals=internals,\n",
    "                independent=True, deterministic=True\n",
    "            )\n",
    "            states, terminal, reward = environment.execute(actions=actions)\n",
    "            matrix = environment._environment.environment.Matrix\n",
    "            list_states.append(matrix.copy())\n",
    "            sum_rewards += reward\n",
    "            if visualization == 'yes':\n",
    "                clear_output(wait=True)\n",
    "                display(HTML(pretty_print(matrix)))\n",
    "                time.sleep(pause)\n",
    "\n",
    "        liste_score.append(sum_rewards)\n",
    "\n",
    "        if sum_rewards >= max(liste_score):\n",
    "            dico_best_worst_episode['Best'] = list_states\n",
    "            dico_best_worst_episode['Episode # Best'] = episode\n",
    "        elif sum_rewards <= min(liste_score):\n",
    "            dico_best_worst_episode['Worst'] = list_states\n",
    "            dico_best_worst_episode['Episode # Worst'] = episode\n",
    "\n",
    "        dico_max_tiles_distribution.setdefault(environment._environment.environment.Matrix.max(),0)\n",
    "        dico_max_tiles_distribution[environment._environment.environment.Matrix.max()] += 1\n",
    "        if visualization == 'yes':\n",
    "            if environment._environment.environment.Matrix.max() < 2048:\n",
    "                print(f\"My final score is {environment._environment.environment.score} with a max tile at {environment._environment.environment.Matrix.max()}. Let's try again!\")\n",
    "            else:\n",
    "                print(f\"My final score is {environment._environment.environment.score} with a max tile at {environment._environment.environment.Matrix.max()}. I mastered this game!\")\n",
    "            time.sleep(3)\n",
    "    testing_time = time.time() - start_testing_time\n",
    "    print(\"Testing time: \", testing_time)\n",
    "    return dico_best_worst_episode, liste_score, dico_max_tiles_distribution\n"
   ]
  },
  {
   "cell_type": "code",
   "execution_count": null,
   "id": "d91b77c5",
   "metadata": {
    "ExecuteTime": {
     "end_time": "2021-07-15T16:20:49.511093Z",
     "start_time": "2021-07-15T16:20:27.239461Z"
    }
   },
   "outputs": [],
   "source": [
    "results = test_agent(agent, 30, 'no')"
   ]
  },
  {
   "cell_type": "code",
   "execution_count": null,
   "id": "6526923a",
   "metadata": {
    "ExecuteTime": {
     "end_time": "2021-07-15T16:21:07.180867Z",
     "start_time": "2021-07-15T16:20:49.517175Z"
    }
   },
   "outputs": [],
   "source": [
    "restults2 = fast_test_agent(agent, 30)"
   ]
  },
  {
   "cell_type": "code",
   "execution_count": null,
   "id": "7b29e2d5",
   "metadata": {
    "ExecuteTime": {
     "end_time": "2021-07-14T17:49:22.649572Z",
     "start_time": "2021-07-14T17:49:22.267348Z"
    }
   },
   "outputs": [],
   "source": [
    "plot_metrics(sort_dico(results[2]), results[1])"
   ]
  }
 ],
 "metadata": {
  "kernelspec": {
   "display_name": "Python 3",
   "language": "python",
   "name": "python3"
  },
  "language_info": {
   "codemirror_mode": {
    "name": "ipython",
    "version": 3
   },
   "file_extension": ".py",
   "mimetype": "text/x-python",
   "name": "python",
   "nbconvert_exporter": "python",
   "pygments_lexer": "ipython3",
   "version": "3.8.6"
  },
  "toc": {
   "base_numbering": 1,
   "nav_menu": {},
   "number_sections": true,
   "sideBar": true,
   "skip_h1_title": false,
   "title_cell": "Table of Contents",
   "title_sidebar": "Contents",
   "toc_cell": false,
   "toc_position": {},
   "toc_section_display": true,
   "toc_window_display": false
  }
 },
 "nbformat": 4,
 "nbformat_minor": 5
}
