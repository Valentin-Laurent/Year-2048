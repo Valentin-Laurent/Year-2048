{
 "cells": [
  {
   "cell_type": "markdown",
   "id": "b184a774",
   "metadata": {
    "ExecuteTime": {
     "end_time": "2021-05-25T13:22:42.227452Z",
     "start_time": "2021-05-25T13:22:42.222872Z"
    },
    "heading_collapsed": true
   },
   "source": [
    "# Setup"
   ]
  },
  {
   "cell_type": "markdown",
   "id": "1776219e",
   "metadata": {
    "hidden": true
   },
   "source": [
    "Collab specific stuff:"
   ]
  },
  {
   "cell_type": "code",
   "execution_count": 6,
   "id": "59d453b7",
   "metadata": {
    "ExecuteTime": {
     "end_time": "2021-05-27T16:59:02.139160Z",
     "start_time": "2021-05-27T16:59:02.124698Z"
    },
    "hidden": true
   },
   "outputs": [],
   "source": [
    "running_colab = False"
   ]
  },
  {
   "cell_type": "code",
   "execution_count": 7,
   "id": "0d954ca1",
   "metadata": {
    "ExecuteTime": {
     "end_time": "2021-05-27T16:59:03.515978Z",
     "start_time": "2021-05-27T16:59:03.509293Z"
    },
    "hidden": true
   },
   "outputs": [],
   "source": [
    "if running_colab:\n",
    "    from google.colab import drive\n",
    "    drive.mount('/content/drive')\n",
    "    logs_directory = 'drive/MyDrive/summaries'\n",
    "    !pip install -r \"drive/MyDrive/requirements.txt\"\n",
    "else:\n",
    "    logs_directory = 'summaries'"
   ]
  },
  {
   "cell_type": "markdown",
   "id": "5b9c5cd7",
   "metadata": {
    "ExecuteTime": {
     "end_time": "2021-05-26T07:44:26.531364Z",
     "start_time": "2021-05-26T07:44:25.843849Z"
    },
    "hidden": true
   },
   "source": [
    "Imports"
   ]
  },
  {
   "cell_type": "code",
   "execution_count": 26,
   "id": "7c400da7",
   "metadata": {
    "ExecuteTime": {
     "end_time": "2021-05-27T17:05:02.415733Z",
     "start_time": "2021-05-27T17:05:02.025420Z"
    },
    "hidden": true
   },
   "outputs": [
    {
     "name": "stdout",
     "output_type": "stream",
     "text": [
      "The tensorboard extension is already loaded. To reload it, use:\n",
      "  %reload_ext tensorboard\n"
     ]
    }
   ],
   "source": [
    "import time\n",
    "import gym_2048\n",
    "from tensorforce import Agent, Environment\n",
    "import numpy as np\n",
    "import seaborn as sns\n",
    "import matplotlib.pyplot as plt\n",
    "import pandas as pd\n",
    "import json\n",
    "%load_ext tensorboard"
   ]
  },
  {
   "cell_type": "markdown",
   "id": "99978760",
   "metadata": {
    "hidden": true
   },
   "source": [
    "Functions"
   ]
  },
  {
   "cell_type": "markdown",
   "id": "3f834cc8",
   "metadata": {
    "heading_collapsed": true
   },
   "source": [
    "# Plotting utils"
   ]
  },
  {
   "cell_type": "code",
   "execution_count": 14,
   "id": "6d9f9f8f",
   "metadata": {
    "ExecuteTime": {
     "end_time": "2021-05-27T17:00:51.403725Z",
     "start_time": "2021-05-27T17:00:51.398995Z"
    },
    "hidden": true
   },
   "outputs": [],
   "source": [
    "# fonction pour ranger en ordre croissant un dico dans le but de le plotter avec plt\n",
    "def sort_dico(dico):\n",
    "    dico_sorted={}\n",
    "    for k,v in dict(sorted(dico.items())).items():\n",
    "        k_str = str(k)\n",
    "        dico_sorted[k_str] = v\n",
    "\n",
    "    return dico_sorted"
   ]
  },
  {
   "cell_type": "code",
   "execution_count": 15,
   "id": "1a065b63",
   "metadata": {
    "ExecuteTime": {
     "end_time": "2021-05-27T17:00:54.687878Z",
     "start_time": "2021-05-27T17:00:54.680462Z"
    },
    "hidden": true
   },
   "outputs": [],
   "source": [
    "# fonction pour plotter la distribution des scores et des max tiles\n",
    "# à utiliser avec la fonction de test 'test_agent' et ce qu'elle retourne\n",
    "# dico_sorted = sort_dico(dico_max_tiles_distribution)\n",
    "# rewards = liste_score\n",
    "\n",
    "def plot_metrics(dico_sorted,rewards):\n",
    "    plt.figure(figsize=(14, 4))\n",
    "\n",
    "    plt.subplot(1, 2, 1)\n",
    "    plt.title('Max tile distribution')\n",
    "    plt.bar(*zip(*dico_sorted.items()))\n",
    "\n",
    "    plt.subplot(1, 2, 2)\n",
    "    plt.title('Score distribution')\n",
    "    sns.histplot(rewards, kde=True)\n",
    "\n",
    "    print(f'Mean score over the test: {np.mean(rewards)}')\n",
    "    print(f'Median score over the test: {np.median(rewards)}')\n",
    "    print(f'Std score over the test: {np.std(rewards)}')\n",
    "    print(f'Max tile over the test: {max([int(bins) for bins in dico_sorted.keys()])}')"
   ]
  },
  {
   "cell_type": "markdown",
   "id": "a8f7ad4f",
   "metadata": {
    "ExecuteTime": {
     "end_time": "2021-05-25T13:23:07.931146Z",
     "start_time": "2021-05-25T13:23:07.926389Z"
    },
    "heading_collapsed": true
   },
   "source": [
    "# Useful code snippets"
   ]
  },
  {
   "cell_type": "markdown",
   "id": "83046448",
   "metadata": {
    "hidden": true
   },
   "source": [
    "Render \"beautiful\" 2048 grid:\n",
    "\n",
    "`imshow(environment._environment.environment.render(mode=\"rgb_array\"))`\n",
    "\n",
    "Illegal move reward:\n",
    "\n",
    "`environment._environment.environment.set_illegal_move_reward(-10)`\n",
    "\n",
    "Log2 reward:\n",
    "\n",
    "`log2_reward = reward if reward <= 0 else np.log2(reward)`\n",
    "\n",
    "Show TensorBoard graphs:\n",
    "\n",
    "`%tensorboard --logdir summaries` (with parameter `summarizer=dict(directory='summaries')` in the `Agent.create()` method)"
   ]
  },
  {
   "cell_type": "markdown",
   "id": "e7e12eea",
   "metadata": {},
   "source": [
    "# Training"
   ]
  },
  {
   "cell_type": "code",
   "execution_count": 9,
   "id": "3b0ac30e",
   "metadata": {
    "ExecuteTime": {
     "end_time": "2021-05-27T16:59:25.138631Z",
     "start_time": "2021-05-27T16:59:25.125241Z"
    }
   },
   "outputs": [],
   "source": [
    "def train_agent(params, print_freq, file_name):\n",
    "    ''' Function creating environment & agent based on params dict. \n",
    "    num_episodes defines how many episodes agent will train & print_freq defines \n",
    "    printing frequency. \n",
    "    Function will create dict of metrics & dict of params used in function & both\n",
    "    will be saved as a csv with file_name'''\n",
    "\n",
    "    # create a 2048 environment\n",
    "    environment = Environment.create(\n",
    "        environment = 'gym'\n",
    "        , level = '2048-v0'\n",
    "        , max_episode_timesteps = params['max_episode_timesteps']\n",
    "    )\n",
    "\n",
    "    # create an agent\n",
    "    agent = Agent.create(\n",
    "        agent = 'dqn'\n",
    "        , environment = environment\n",
    "        , **params['agent_hyperparams']\n",
    "        , summarizer = dict(directory=logs_directory\n",
    "                            , summaries=[\n",
    "                                \"regularization-loss\"\n",
    "                                , \"loss\"\n",
    "                                , \"episode-length\"\n",
    "                                , \"episode-reward\"\n",
    "                                , \"objective-loss\"\n",
    "                                , \"reward\"\n",
    "                                , \"update-return\"\n",
    "                            ]\n",
    "                           )\n",
    "    )\n",
    "\n",
    "    # instantiate lists to record global training metrics\n",
    "    max_tiles = []\n",
    "    scores = []\n",
    "    updates = []\n",
    "    valid_moves = []\n",
    "    run_time = []\n",
    "    start_training_time = time.time()\n",
    "\n",
    "    for episode in range(params['num_episodes']):\n",
    "        state = environment.reset()\n",
    "        terminal = False\n",
    "\n",
    "        #Checking metrics while training\n",
    "        state_freeze = state.copy()\n",
    "        num_updates = 0\n",
    "        num_moves = 0\n",
    "        invalid_moves = 0\n",
    "        start_episode_time = time.time()\n",
    "\n",
    "        while not terminal:\n",
    "            #Core\n",
    "            action = agent.act(states=dict(state=state,  action_mask=environment._environment.environment.get_invalid_moves()))\n",
    "            state, terminal, reward = environment.execute(actions=action)\n",
    "            log2_reward = reward if reward <= 0 else np.log2(reward)\n",
    "            num_updates += agent.observe(terminal=terminal, reward=log2_reward)\n",
    "\n",
    "            #Number of moves\n",
    "            num_moves += 1\n",
    "\n",
    "            #Number of invalid moves\n",
    "            if (state == state_freeze).all():\n",
    "                invalid_moves += 1\n",
    "            state_freeze = state.copy()\n",
    "\n",
    "        # Storing score and max tile\n",
    "        max_tiles.append(environment._environment.environment.Matrix.max())\n",
    "        scores.append(environment._environment.environment.score)\n",
    "        updates.append(num_updates)\n",
    "        valid_moves.append(num_moves)\n",
    "        run_time.append(round(time.time() - start_episode_time,2))\n",
    "\n",
    "        if episode % print_freq == 0:\n",
    "            print('Episode {}: score = {}, terminal = {}, updates={}, max_tile={}, valid_moves={}, invalid_moves={}, seconds={}'\\\n",
    "                  .format(episode, environment._environment.environment.score , terminal, num_updates, max_tiles[-1], num_moves-invalid_moves, invalid_moves, round(time.time() - start_episode_time,2)))\n",
    "        \n",
    "    metrics_dict = {\n",
    "        'max_tiles': max_tiles\n",
    "        , 'scores': scores\n",
    "        , 'updates': updates\n",
    "        , 'valid_moves': valid_moves\n",
    "        , 'run_time' : run_time\n",
    "    }\n",
    "    metrics_df = pd.DataFrame(metrics_dict)\n",
    "    metrics_path = f'training_runs/{file_name}_metrics.csv'\n",
    "    metrics_df.to_csv(metrics_path)\n",
    "    \n",
    "    params_path = f'training_runs/{file_name}_params.json'\n",
    "    with open(params_path, 'w') as fp:\n",
    "        json.dump(params, fp)\n",
    "    \n",
    "    environment.close()\n",
    "    \n",
    "    return (metrics_df, params, agent)"
   ]
  },
  {
   "cell_type": "code",
   "execution_count": 10,
   "id": "38790d3a",
   "metadata": {
    "ExecuteTime": {
     "end_time": "2021-05-27T16:59:33.210824Z",
     "start_time": "2021-05-27T16:59:33.204723Z"
    }
   },
   "outputs": [],
   "source": [
    "agent_hyperparams_dict = {\n",
    "    'max_episode_timesteps': 1000 # Maximum steps allowed in episode. This hyper-param is for environment\n",
    "    , 'batch_size': 16\n",
    "    , 'update_frequency': 4\n",
    "    , 'learning_rate': 0.001\n",
    "    , 'discount': 0.8\n",
    "    , 'memory': 30000\n",
    "    , 'exploration': 0.1\n",
    "    , 'target_sync_frequency': 4\n",
    "    , 'horizon': 1\n",
    "}\n",
    "\n",
    "input_dict = {\n",
    "    'max_episode_timesteps': 1000\n",
    "    , 'num_episodes': 10\n",
    "    , 'agent_hyperparams': agent_hyperparams_dict\n",
    "}"
   ]
  },
  {
   "cell_type": "code",
   "execution_count": 11,
   "id": "70628737",
   "metadata": {
    "ExecuteTime": {
     "end_time": "2021-05-27T17:00:05.904530Z",
     "start_time": "2021-05-27T16:59:35.123929Z"
    },
    "collapsed": true
   },
   "outputs": [
    {
     "name": "stdout",
     "output_type": "stream",
     "text": [
      "Episode 0: score = 712.0, terminal = 1, updates=22, max_tile=64, valid_moves=95, invalid_moves=0, seconds=10.6\n",
      "Episode 1: score = 636.0, terminal = 1, updates=21, max_tile=64, valid_moves=84, invalid_moves=0, seconds=1.29\n",
      "Episode 2: score = 1016.0, terminal = 1, updates=28, max_tile=128, valid_moves=114, invalid_moves=0, seconds=1.87\n",
      "Episode 3: score = 1080.0, terminal = 1, updates=29, max_tile=128, valid_moves=117, invalid_moves=0, seconds=2.16\n",
      "Episode 4: score = 1644.0, terminal = 1, updates=40, max_tile=128, valid_moves=162, invalid_moves=0, seconds=2.73\n",
      "Episode 5: score = 708.0, terminal = 1, updates=23, max_tile=64, valid_moves=94, invalid_moves=0, seconds=1.67\n",
      "Episode 6: score = 3076.0, terminal = 1, updates=63, max_tile=256, valid_moves=255, invalid_moves=0, seconds=4.59\n",
      "Episode 7: score = 424.0, terminal = 1, updates=17, max_tile=32, valid_moves=68, invalid_moves=0, seconds=1.26\n",
      "Episode 8: score = 1164.0, terminal = 1, updates=32, max_tile=128, valid_moves=128, invalid_moves=0, seconds=2.21\n",
      "Episode 9: score = 784.0, terminal = 1, updates=25, max_tile=64, valid_moves=102, invalid_moves=0, seconds=1.95\n"
     ]
    }
   ],
   "source": [
    "metrics_df, params, agent = train_agent(input_dict, 1, 'test') # 1 : print frequency, 'test' : files name"
   ]
  },
  {
   "cell_type": "code",
   "execution_count": 12,
   "id": "be743ce1",
   "metadata": {
    "ExecuteTime": {
     "end_time": "2021-05-27T17:00:17.507423Z",
     "start_time": "2021-05-27T17:00:17.110887Z"
    },
    "collapsed": true
   },
   "outputs": [
    {
     "data": {
      "image/png": "[encoded data removed]",
      "text/plain": [
       "<Figure size 1440x360 with 2 Axes>"
      ]
     },
     "metadata": {
      "needs_background": "light"
     },
     "output_type": "display_data"
    }
   ],
   "source": [
    "fig = plt.figure(figsize = (20,5))\n",
    "ax1 = fig.add_subplot(1,2,1)\n",
    "ax1.hist(test_df[0].max_tiles, color = 'b')\n",
    "ax1.set_title('max tile')\n",
    "ax2 = fig.add_subplot(1,2,2)\n",
    "ax2.hist(test_df[0].scores, color = 'r')\n",
    "ax2.set_title('score');"
   ]
  },
  {
   "cell_type": "code",
   "execution_count": 8,
   "id": "88cc7b38",
   "metadata": {
    "ExecuteTime": {
     "end_time": "2021-05-27T10:48:33.131459Z",
     "start_time": "2021-05-27T10:48:29.586012Z"
    },
    "collapsed": true
   },
   "outputs": [
    {
     "data": {
      "text/html": [
       "\n",
       "      <iframe id=\"tensorboard-frame-2ce6888326e3cb0a\" width=\"100%\" height=\"800\" frameborder=\"0\">\n",
       "      </iframe>\n",
       "      <script>\n",
       "        (function() {\n",
       "          const frame = document.getElementById(\"tensorboard-frame-2ce6888326e3cb0a\");\n",
       "          const url = new URL(\"/\", window.location);\n",
       "          const port = 6006;\n",
       "          if (port) {\n",
       "            url.port = port;\n",
       "          }\n",
       "          frame.src = url;\n",
       "        })();\n",
       "      </script>\n",
       "    "
      ],
      "text/plain": [
       "<IPython.core.display.HTML object>"
      ]
     },
     "metadata": {},
     "output_type": "display_data"
    }
   ],
   "source": [
    "%tensorboard --logdir $logs_directory"
   ]
  },
  {
   "cell_type": "markdown",
   "id": "a294eb62",
   "metadata": {},
   "source": [
    "# Testing"
   ]
  },
  {
   "cell_type": "code",
   "execution_count": 21,
   "id": "6424ccf5",
   "metadata": {
    "ExecuteTime": {
     "end_time": "2021-05-27T17:02:04.067063Z",
     "start_time": "2021-05-27T17:02:04.055007Z"
    }
   },
   "outputs": [],
   "source": [
    "# Evaluate for n episodes\n",
    "def test_agent(agent,n_episode):\n",
    "    #definir l'env\n",
    "    environment = Environment.create(environment = 'gym', level = '2048-v0', \n",
    "    max_episode_timesteps = 1000\n",
    "    )\n",
    "    n_episode = n_episode\n",
    "    #dictionnaire pour obtenir la distribution des max tiles de chaque episode\n",
    "    dico_max_tiles_distribution = {}\n",
    "    # liste des score par episode\n",
    "    liste_score=[]\n",
    "    # dictionnaire pour récupérer la meilleure et la pire partie du test\n",
    "    dico_best_worst_episode = {'Worst':[],'Best':[], 'Episode # Worst':[], 'Episode # Best':[]}\n",
    "\n",
    "    for episode in range(n_episode):\n",
    "        sum_rewards = 0.0\n",
    "        states = environment.reset()\n",
    "        list_states=[]\n",
    "        internals = agent.initial_internals()\n",
    "        terminal = False\n",
    "\n",
    "        while not terminal:\n",
    "            actions, internals = agent.act(\n",
    "                states= {\n",
    "                    \"state\":states,\n",
    "                    \"action_mask\":environment._environment.environment.get_invalid_moves()},\n",
    "                internals=internals,\n",
    "                independent=True, deterministic=True\n",
    "            )\n",
    "            states, terminal, reward = environment.execute(actions=actions)\n",
    "            matrix = environment._environment.environment.Matrix\n",
    "            list_states.append(matrix.copy())\n",
    "            sum_rewards += reward\n",
    "\n",
    "        liste_score.append(sum_rewards)\n",
    "\n",
    "        if sum_rewards >= max(liste_score):\n",
    "            dico_best_worst_episode['Best'] = list_states\n",
    "            dico_best_worst_episode['Episode # Best'] = episode\n",
    "        elif sum_rewards <= min(liste_score):\n",
    "            dico_best_worst_episode['Worst'] = list_states\n",
    "            dico_best_worst_episode['Episode # Worst'] = episode\n",
    "\n",
    "        dico_max_tiles_distribution.setdefault(environment._environment.environment.Matrix.max(),0)\n",
    "        dico_max_tiles_distribution[environment._environment.environment.Matrix.max()] += 1\n",
    "\n",
    "    return dico_best_worst_episode, liste_score, dico_max_tiles_distribution\n"
   ]
  },
  {
   "cell_type": "code",
   "execution_count": 22,
   "id": "b95b7dc3",
   "metadata": {
    "ExecuteTime": {
     "end_time": "2021-05-27T17:02:10.370041Z",
     "start_time": "2021-05-27T17:02:06.706152Z"
    }
   },
   "outputs": [],
   "source": [
    "results = test_agent(agent, 10)"
   ]
  },
  {
   "cell_type": "code",
   "execution_count": 27,
   "id": "d49def01",
   "metadata": {
    "ExecuteTime": {
     "end_time": "2021-05-27T17:05:11.467413Z",
     "start_time": "2021-05-27T17:05:11.147623Z"
    }
   },
   "outputs": [
    {
     "name": "stdout",
     "output_type": "stream",
     "text": [
      "Mean score over the test: 1138.0\n",
      "Median score over the test: 1194.0\n",
      "Std score over the test: 413.1295196424482\n",
      "Max tile over the test: 128\n"
     ]
    },
    {
     "data": {
      "image/png": "[encoded data removed]",
      "text/plain": [
       "<Figure size 1008x288 with 2 Axes>"
      ]
     },
     "metadata": {
      "needs_background": "light"
     },
     "output_type": "display_data"
    }
   ],
   "source": [
    "plot_metrics(sort_dico(results[2]), results[1])"
   ]
  },
  {
   "cell_type": "code",
   "execution_count": 16,
   "id": "96c104e6",
   "metadata": {
    "ExecuteTime": {
     "end_time": "2021-05-27T17:00:59.909054Z",
     "start_time": "2021-05-27T17:00:59.893220Z"
    },
    "collapsed": true
   },
   "outputs": [
    {
     "data": {
      "text/plain": [
       "(   max_tiles  scores  updates  valid_moves  run_time\n",
       " 0         64   712.0       22           95     10.60\n",
       " 1         64   636.0       21           84      1.29\n",
       " 2        128  1016.0       28          114      1.87\n",
       " 3        128  1080.0       29          117      2.16\n",
       " 4        128  1644.0       40          162      2.73\n",
       " 5         64   708.0       23           94      1.67\n",
       " 6        256  3076.0       63          255      4.59\n",
       " 7         32   424.0       17           68      1.26\n",
       " 8        128  1164.0       32          128      2.21\n",
       " 9         64   784.0       25          102      1.95,\n",
       " {'max_episode_timesteps': 1000,\n",
       "  'num_episodes': 10,\n",
       "  'agent_hyperparams': {'max_episode_timesteps': 1000,\n",
       "   'batch_size': 16,\n",
       "   'update_frequency': 4,\n",
       "   'learning_rate': 0.001,\n",
       "   'discount': 0.8,\n",
       "   'memory': 30000,\n",
       "   'exploration': 0.1,\n",
       "   'target_sync_frequency': 4,\n",
       "   'horizon': 1}},\n",
       " <tensorforce.agents.dqn.DeepQNetwork at 0x150f33d60>)"
      ]
     },
     "execution_count": 16,
     "metadata": {},
     "output_type": "execute_result"
    }
   ],
   "source": [
    "test_df"
   ]
  },
  {
   "cell_type": "code",
   "execution_count": null,
   "id": "22685219",
   "metadata": {},
   "outputs": [],
   "source": []
  }
 ],
 "metadata": {
  "kernelspec": {
   "display_name": "Python 3",
   "language": "python",
   "name": "python3"
  },
  "language_info": {
   "codemirror_mode": {
    "name": "ipython",
    "version": 3
   },
   "file_extension": ".py",
   "mimetype": "text/x-python",
   "name": "python",
   "nbconvert_exporter": "python",
   "pygments_lexer": "ipython3",
   "version": "3.8.6"
  },
  "toc": {
   "base_numbering": 1,
   "nav_menu": {},
   "number_sections": true,
   "sideBar": true,
   "skip_h1_title": false,
   "title_cell": "Table of Contents",
   "title_sidebar": "Contents",
   "toc_cell": false,
   "toc_position": {},
   "toc_section_display": true,
   "toc_window_display": false
  }
 },
 "nbformat": 4,
 "nbformat_minor": 5
}
