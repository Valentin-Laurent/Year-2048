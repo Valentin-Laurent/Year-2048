{
 "cells": [
  {
   "cell_type": "markdown",
   "id": "2056fa53",
   "metadata": {},
   "source": [
    "# Running colab?"
   ]
  },
  {
   "cell_type": "code",
   "execution_count": 1,
   "id": "349888b6",
   "metadata": {
    "ExecuteTime": {
     "end_time": "2021-07-23T15:25:57.979948Z",
     "start_time": "2021-07-23T15:25:57.974509Z"
    }
   },
   "outputs": [],
   "source": [
    "running_colab = False"
   ]
  },
  {
   "cell_type": "code",
   "execution_count": 2,
   "id": "74196cbe",
   "metadata": {
    "ExecuteTime": {
     "end_time": "2021-07-23T15:25:58.377477Z",
     "start_time": "2021-07-23T15:25:58.368757Z"
    }
   },
   "outputs": [],
   "source": [
    "if running_colab:\n",
    "    from google.colab import drive\n",
    "    drive.mount('/content/drive')\n",
    "    colab_parent_directory = 'drive/MyDrive/ColabData/'\n",
    "    !pip install -r \"drive/MyDrive/ColabData/requirements.txt\"\n",
    "else:\n",
    "    colab_parent_directory = ''"
   ]
  },
  {
   "cell_type": "markdown",
   "id": "bc1fc104",
   "metadata": {},
   "source": [
    "# Setting up directories/files"
   ]
  },
  {
   "cell_type": "code",
   "execution_count": 99,
   "id": "a8e635f6",
   "metadata": {
    "ExecuteTime": {
     "end_time": "2021-07-23T22:32:01.178609Z",
     "start_time": "2021-07-23T22:32:01.017407Z"
    }
   },
   "outputs": [],
   "source": [
    "data_directory = \"data\"\n",
    "!mkdir -p $f'{colab_parent_directory}{data_directory}'\n",
    "\n",
    "params_path = f'{colab_parent_directory}{data_directory}/agents_params.csv'\n",
    "metrics_path = f'{colab_parent_directory}{data_directory}/agents_metrics.csv'"
   ]
  },
  {
   "cell_type": "markdown",
   "id": "b184a774",
   "metadata": {
    "ExecuteTime": {
     "end_time": "2021-05-25T13:22:42.227452Z",
     "start_time": "2021-05-25T13:22:42.222872Z"
    }
   },
   "source": [
    "# Imports"
   ]
  },
  {
   "cell_type": "code",
   "execution_count": 4,
   "id": "7c400da7",
   "metadata": {
    "ExecuteTime": {
     "end_time": "2021-07-23T15:26:08.141337Z",
     "start_time": "2021-07-23T15:26:02.136045Z"
    }
   },
   "outputs": [],
   "source": [
    "import time\n",
    "import gym_2048\n",
    "from tensorforce import Agent, Environment, Runner\n",
    "import numpy as np\n",
    "import seaborn as sns\n",
    "import matplotlib.pyplot as plt\n",
    "import pandas as pd\n",
    "import json\n",
    "from scipy.ndimage.filters import uniform_filter1d\n",
    "%load_ext tensorboard\n",
    "\n",
    "# import pour visualiser les parties\n",
    "from IPython.display import display, HTML\n",
    "from IPython.display import clear_output"
   ]
  },
  {
   "cell_type": "markdown",
   "id": "3f834cc8",
   "metadata": {},
   "source": [
    "# Plotting utils"
   ]
  },
  {
   "cell_type": "code",
   "execution_count": 5,
   "id": "6d9f9f8f",
   "metadata": {
    "ExecuteTime": {
     "end_time": "2021-07-23T15:26:08.168554Z",
     "start_time": "2021-07-23T15:26:08.144274Z"
    }
   },
   "outputs": [],
   "source": [
    "# fonction pour ranger en ordre croissant un dico dans le but de le plotter avec plt\n",
    "def sort_dico(dico):\n",
    "    dico_sorted={}\n",
    "    for k,v in dict(sorted(dico.items())).items():\n",
    "        k_str = str(k)\n",
    "        dico_sorted[k_str] = v\n",
    "\n",
    "    return dico_sorted"
   ]
  },
  {
   "cell_type": "code",
   "execution_count": 6,
   "id": "1a065b63",
   "metadata": {
    "ExecuteTime": {
     "end_time": "2021-07-23T15:26:08.184976Z",
     "start_time": "2021-07-23T15:26:08.179243Z"
    }
   },
   "outputs": [],
   "source": [
    "# fonction pour plotter la distribution des scores et des max tiles\n",
    "# à utiliser avec la fonction de test 'test_agent' et ce qu'elle retourne\n",
    "# dico_sorted = sort_dico(dico_max_tiles_distribution)\n",
    "# rewards = liste_score\n",
    "\n",
    "def plot_metrics(dico_sorted,rewards):\n",
    "    plt.figure(figsize=(14, 4))\n",
    "\n",
    "    plt.subplot(1, 2, 1)\n",
    "    plt.title('Max tile distribution')\n",
    "    plt.bar(*zip(*dico_sorted.items()))\n",
    "\n",
    "    plt.subplot(1, 2, 2)\n",
    "    plt.title('Score distribution')\n",
    "    sns.histplot(rewards, kde=True)\n",
    "\n",
    "    print(f'Mean score over the test: {np.mean(rewards)}')\n",
    "    print(f'Median score over the test: {np.median(rewards)}')\n",
    "    print(f'Std score over the test: {np.std(rewards)}')\n",
    "    print(f'Max tile over the test: {max([int(bins) for bins in dico_sorted.keys()])}')"
   ]
  },
  {
   "cell_type": "code",
   "execution_count": 7,
   "id": "895fc5e7",
   "metadata": {
    "ExecuteTime": {
     "end_time": "2021-07-23T15:26:08.213218Z",
     "start_time": "2021-07-23T15:26:08.198113Z"
    }
   },
   "outputs": [],
   "source": [
    "# fonction pour imprimer les parties avec un visuel proche de celui du jeu 2048\n",
    "\n",
    "def pretty_print(layout):\n",
    "    from math import log2\n",
    "    def parse_color(cell_value):\n",
    "        if cell_value>0:\n",
    "            colors = [\"#EEE4DA\", \"#ECE0CA\", \"#F2B179\", \"#F59565\", \"#F57C5F\", \"#F65D3B\", \"#EDCE71\", \"#EDCC63\", \"#EDC850\", \"#EDC53F\", \"#EEC22E\", \"#3E3933\"]\n",
    "            return colors[int(log2(cell_value))-1]\n",
    "        else:\n",
    "            return \"#CDC0B4\"\n",
    "\n",
    "    def cell_block(cell_value):\n",
    "        return '''\n",
    "        <td style=font-size:{}px;background-color:#BBADA0;text-align:center;width:100%>\n",
    "            <div style=color:#776E65;background-color:{};width:60px;height:60px;margin:auto;display:flex;align-items:center;justify-content:center;border-radius:6px;font-family:serif;font-size:medium><strong>{}</strong>\n",
    "            </div>\n",
    "        </td>'''.format('1', parse_color(cell_value), cell_value if cell_value>0 else '')\n",
    "    return '''\n",
    "            <div style=background-color:#BBADA0;width:300px;height:300px>\n",
    "            <table style=width:100%;height:100%>\n",
    "              <tr>\n",
    "                {}\n",
    "                </tr>\n",
    "              <tr>\n",
    "              {}\n",
    "              </tr>\n",
    "              <tr>\n",
    "              {}\n",
    "              </tr>\n",
    "              <tr>\n",
    "              {}\n",
    "              </tr>\n",
    "            </table>\n",
    "            </div>\n",
    "            '''.format('\\n'.join([cell_block(val) for val in layout[0,:]]),\n",
    "                      '\\n'.join([cell_block(val) for val in layout[1,:]]),\n",
    "                       '\\n'.join([cell_block(val) for val in layout[2,:]]),\n",
    "                       '\\n'.join([cell_block(val) for val in layout[3,:]]))\n"
   ]
  },
  {
   "cell_type": "markdown",
   "id": "a8f7ad4f",
   "metadata": {
    "ExecuteTime": {
     "end_time": "2021-05-25T13:23:07.931146Z",
     "start_time": "2021-05-25T13:23:07.926389Z"
    }
   },
   "source": [
    "# Useful code snippets"
   ]
  },
  {
   "cell_type": "markdown",
   "id": "83046448",
   "metadata": {},
   "source": [
    "Render \"beautiful\" 2048 grid:\n",
    "\n",
    "`plt.imshow(environment._environment.environment.render(mode=\"rgb_array\"))`\n",
    "\n",
    "Illegal move reward:\n",
    "\n",
    "`environment._environment.environment.set_illegal_move_reward(-10)`\n",
    "\n",
    "Log2 reward:\n",
    "\n",
    "`log2_reward = reward if reward <= 0 else np.log2(reward)`\n",
    "\n",
    "Show TensorBoard graphs:\n",
    "\n",
    "`%tensorboard --logdir summaries` (with parameter `summarizer=dict(directory='{data_directory}/...')` in the `Agent.create()` method)"
   ]
  },
  {
   "cell_type": "markdown",
   "id": "e7e12eea",
   "metadata": {},
   "source": [
    "# Training functions"
   ]
  },
  {
   "cell_type": "code",
   "execution_count": 8,
   "id": "14278ee5",
   "metadata": {
    "ExecuteTime": {
     "end_time": "2021-07-23T15:26:08.231278Z",
     "start_time": "2021-07-23T15:26:08.219252Z"
    }
   },
   "outputs": [],
   "source": [
    "def create_agent_and_env(env_params, agent_params):\n",
    "    agent_name = agent_params[\"agent_name\"]\n",
    "    agent_params_ = dict(agent_params)\n",
    "    del agent_params_[\"agent_name\"] # A TensorForce agent doesn't take name as a parameter\n",
    "    \n",
    "    \n",
    "    # create a 2048 environment\n",
    "    environment = Environment.create(\n",
    "        environment = 'gym'\n",
    "        , level = '2048-v0'\n",
    "    )\n",
    "\n",
    "    # create an agent\n",
    "    agent = Agent.create(\n",
    "        agent = 'dqn',\n",
    "        environment = environment,\n",
    "        **agent_params_#,\n",
    "        #summarizer = dict(directory=f'{colab_parent_directory}{data_directory}/{agent_params[\"agent_name\"]}/TensorBoard',\n",
    "                          #summaries=[\"reward\"])\n",
    "        # Uncomment the above lines to store logs in TensorBoard (but training will take more time)\n",
    "    )\n",
    "    return (environment, agent)"
   ]
  },
  {
   "cell_type": "code",
   "execution_count": 96,
   "id": "3b0ac30e",
   "metadata": {
    "ExecuteTime": {
     "end_time": "2021-07-23T22:17:00.365784Z",
     "start_time": "2021-07-23T22:17:00.347384Z"
    }
   },
   "outputs": [],
   "source": [
    "def train_agent(environment, agent, num_episodes, print_freq, agent_name, training_round = 0):\n",
    "\n",
    "    # instantiate lists to save metrics\n",
    "    \n",
    "    train_max_tiles = []\n",
    "    train_scores = []\n",
    "    train_moves_numbers = []\n",
    "    episode_train_times = []\n",
    "    \n",
    "    test_max_tiles = []\n",
    "    test_scores = []\n",
    "    test_moves_numbers = []\n",
    "    episode_test_times = []\n",
    "\n",
    "    for episode in range(num_episodes):\n",
    "        \n",
    "        # Training\n",
    "        state = environment.reset()\n",
    "        terminal = False\n",
    "\n",
    "        #Checking metrics while training\n",
    "        num_moves = 0\n",
    "        start_episode_train_time = time.time()\n",
    "\n",
    "        while not terminal:\n",
    "            \n",
    "            # Agent acting (invalid moves are not allowed)\n",
    "            action = agent.act(states=dict(state=state,  action_mask=environment._environment.environment.get_invalid_moves()))\n",
    "            state, terminal, reward = environment.execute(actions=action)\n",
    "            \n",
    "            # Using the log2 of the reward seems to give better results\n",
    "            log2_reward = reward if reward <= 0 else np.log2(reward)\n",
    "            agent.observe(terminal=terminal, reward=log2_reward)\n",
    "\n",
    "            # Number of moves\n",
    "            num_moves += 1\n",
    "\n",
    "        # Saving metrics\n",
    "        train_max_tiles.append(environment._environment.environment.Matrix.max())\n",
    "        train_scores.append(environment._environment.environment.score)\n",
    "        train_moves_numbers.append(num_moves)\n",
    "        episode_train_times.append(round(time.time() - start_episode_train_time,2))\n",
    "\n",
    "        if episode % print_freq == 0:\n",
    "            print('Episode {}: score = {}, terminal = {}, max_tile={}, moves={}, seconds={}'\\\n",
    "                  .format(episode, environment._environment.environment.score , terminal, train_max_tiles[-1], num_moves, round(time.time() - start_episode_train_time,2)))\n",
    "        \n",
    "        # Testing\n",
    "        num_moves = 0\n",
    "        start_episode_test_time = time.time()\n",
    "        \n",
    "        states = environment.reset()\n",
    "        internals = agent.initial_internals()\n",
    "        terminal = False\n",
    "\n",
    "        while not terminal:\n",
    "            actions, internals = agent.act(\n",
    "                states= {\n",
    "                    \"state\":states,\n",
    "                    \"action_mask\":environment._environment.environment.get_invalid_moves()},\n",
    "                internals=internals,\n",
    "                independent=True, deterministic=True\n",
    "            )\n",
    "            states, terminal, reward = environment.execute(actions=actions)\n",
    "        \n",
    "        # Saving metrics\n",
    "        test_max_tiles.append(environment._environment.environment.Matrix.max())\n",
    "        test_scores.append(environment._environment.environment.score)\n",
    "        test_moves_numbers.append(num_moves)\n",
    "        episode_test_times.append(round(time.time() - start_episode_test_time,2))\n",
    "\n",
    "        if episode % print_freq == 0:\n",
    "            print('Test episode {}: score = {}, terminal = {}, max_tile={}, moves={}, seconds={}'\\\n",
    "                  .format(episode, environment._environment.environment.score , terminal, test_max_tiles[-1], num_moves, round(time.time() - start_episode_test_time,2)))\n",
    "        \n",
    "    # Storing agent\n",
    "    agent.save(f'{colab_parent_directory}{data_directory}/saved_agents/{agent_name}/agent_round_{training_round}', filename=agent_name)\n",
    "    \n",
    "    # Storing metrics\n",
    "    episodes_index = range(len(train_scores))\n",
    "    \n",
    "    training_metrics_dict = {\n",
    "        'agent_name': agent_name,\n",
    "        'context': \"training\",\n",
    "        'round': training_round,\n",
    "        'episode_number': episodes_index,\n",
    "        'max_tile': train_max_tiles,\n",
    "        'score': train_scores,\n",
    "        'moves_number': train_moves_numbers,\n",
    "        'episode_play_time' : episode_train_times\n",
    "    }\n",
    "    \n",
    "    test_during_train_metrics_dict = {\n",
    "        'agent_name': agent_name,\n",
    "        'context': \"test_during_train\",\n",
    "        'round': training_round,\n",
    "        'episode_number': episodes_index,\n",
    "        'max_tile': test_max_tiles,\n",
    "        'score': test_scores,\n",
    "        'moves_number': test_moves_numbers,\n",
    "        'episode_play_time' : episode_test_times\n",
    "    }\n",
    "    \n",
    "    training_metrics_df = pd.DataFrame(training_metrics_dict)\n",
    "    test_during_train_metrics_df = pd.DataFrame(test_during_train_metrics_dict)\n",
    "    metrics_df = training_metrics_df.append(test_during_train_metrics_df)\n",
    "    \n",
    "    try: # In case the .csv does not exist yet.\n",
    "        csv_metrics_df = pd.read_csv(metrics_path)\n",
    "        metrics_df = csv_metrics_df.append(metrics_df)\n",
    "    except FileNotFoundError:\n",
    "        pass\n",
    "    metrics_df.to_csv(metrics_path, index=False)\n",
    "    \n",
    "    return (metrics_df, agent)"
   ]
  },
  {
   "cell_type": "code",
   "execution_count": 29,
   "id": "27ede69a",
   "metadata": {
    "ExecuteTime": {
     "end_time": "2021-07-23T16:13:54.955413Z",
     "start_time": "2021-07-23T16:13:54.949641Z"
    }
   },
   "outputs": [],
   "source": [
    "def save_params(agent_params, env_params):    \n",
    "    params_df = pd.DataFrame([{**agent_params, **env_params}]) # Merging dicts and creating a dataframe with 1 row\n",
    "    try: # In case the .csv does not exist yet.\n",
    "        csv_params_df = pd.read_csv(params_path)\n",
    "        params_df = csv_params_df.append(params_df, ignore_index=True)\n",
    "    except FileNotFoundError:\n",
    "        pass\n",
    "    params_df.to_csv(params_path, index=False)"
   ]
  },
  {
   "cell_type": "markdown",
   "id": "56791076",
   "metadata": {},
   "source": [
    "# Example of loading an agent (useful for training or testing)"
   ]
  },
  {
   "cell_type": "markdown",
   "id": "74147bf7",
   "metadata": {},
   "source": [
    "```python\n",
    "# An env needs to be created first\n",
    "environment_load = Environment.create(\n",
    "        environment = 'gym'\n",
    "        , level = '2048-v0'\n",
    "    )\n",
    "\n",
    "# Then we load the agent\n",
    "APG_20K = Agent.load(directory=f\"{data_directory}/APG_20K/agent_round0\", filename=\"APG_20K\", environment=environment_load)\n",
    "```"
   ]
  },
  {
   "cell_type": "markdown",
   "id": "d0255aac",
   "metadata": {},
   "source": [
    "# Training"
   ]
  },
  {
   "cell_type": "markdown",
   "id": "c49dd500",
   "metadata": {},
   "source": [
    "Variable parameter example:\n",
    "\n",
    "```python\n",
    "exploration = dict(\n",
    "    type = 'exponential',\n",
    "    unit ='episodes',\n",
    "    num_steps = 10000,\n",
    "    initial_value = 0.2,\n",
    "    decay_rate = 0.0005\n",
    ")\n",
    "````"
   ]
  },
  {
   "cell_type": "code",
   "execution_count": 100,
   "id": "38790d3a",
   "metadata": {
    "ExecuteTime": {
     "end_time": "2021-07-23T22:36:48.759485Z",
     "start_time": "2021-07-23T22:36:45.894322Z"
    },
    "scrolled": false
   },
   "outputs": [
    {
     "name": "stdout",
     "output_type": "stream",
     "text": [
      "Agent name (only letter, digits and underscores). NO SPACE: marco_test\n"
     ]
    }
   ],
   "source": [
    "agent_params = {\n",
    "    \"agent_name\": input(\"Agent name (only letter, digits and underscores). NO SPACE: \"),\n",
    "    'batch_size': 16,\n",
    "    'update_frequency': 4,\n",
    "    'learning_rate': 0.0001,\n",
    "    'discount': 0.99,\n",
    "    'memory': 10000,\n",
    "    \"exploration\":{\n",
    "        \"type\": \"exponential\",\n",
    "        \"unit\": \"episodes\",\n",
    "        \"num_steps\": 10000,\n",
    "        \"initial_value\": 0.07,\"decay_rate\": 0.0001\n",
    "    },\n",
    "    'target_sync_frequency': 4\n",
    "}\n",
    "\n",
    "env_params = {\n",
    "    'max_episode_timesteps': 100000\n",
    "}\n",
    "\n",
    "if (not agent_params[\"agent_name\"]) or (\" \" in agent_params[\"agent_name\"]):\n",
    "    print (\"NO SPACE\")\n",
    "    agent_params = 0"
   ]
  },
  {
   "cell_type": "code",
   "execution_count": 101,
   "id": "08d5eeda",
   "metadata": {
    "ExecuteTime": {
     "end_time": "2021-07-23T22:36:49.728251Z",
     "start_time": "2021-07-23T22:36:49.709147Z"
    }
   },
   "outputs": [],
   "source": [
    "# Saving params to .json in {data_directory} folder\n",
    "save_params(agent_params, env_params)"
   ]
  },
  {
   "cell_type": "code",
   "execution_count": 105,
   "id": "fc554896",
   "metadata": {
    "ExecuteTime": {
     "end_time": "2021-07-23T22:38:14.728878Z",
     "start_time": "2021-07-23T22:38:12.182806Z"
    }
   },
   "outputs": [],
   "source": [
    "# Creating agent and environnement\n",
    "environment, agent = create_agent_and_env(env_params, agent_params)"
   ]
  },
  {
   "cell_type": "code",
   "execution_count": 106,
   "id": "70628737",
   "metadata": {
    "ExecuteTime": {
     "end_time": "2021-07-24T03:01:11.318807Z",
     "start_time": "2021-07-23T22:38:30.505392Z"
    },
    "collapsed": true
   },
   "outputs": [
    {
     "name": "stdout",
     "output_type": "stream",
     "text": [
      "Training round? 0\n",
      "Episode 0: score = 1936.0, terminal = 1, max_tile=128, moves=179, seconds=6.27\n",
      "Test episode 0: score = 992.0, terminal = 1, max_tile=64, moves=0, seconds=0.77\n",
      "Episode 100: score = 2012.0, terminal = 1, max_tile=128, moves=195, seconds=2.07\n",
      "Test episode 100: score = 1700.0, terminal = 1, max_tile=128, moves=0, seconds=0.77\n",
      "Episode 200: score = 3508.0, terminal = 1, max_tile=256, moves=283, seconds=3.28\n",
      "Test episode 200: score = 720.0, terminal = 1, max_tile=64, moves=0, seconds=0.3\n",
      "Episode 300: score = 2336.0, terminal = 1, max_tile=128, moves=223, seconds=2.05\n",
      "Test episode 300: score = 656.0, terminal = 1, max_tile=64, moves=0, seconds=0.28\n",
      "Episode 400: score = 1628.0, terminal = 1, max_tile=128, moves=174, seconds=1.1\n",
      "Test episode 400: score = 3152.0, terminal = 1, max_tile=256, moves=0, seconds=0.63\n",
      "Episode 500: score = 1352.0, terminal = 1, max_tile=128, moves=140, seconds=0.92\n",
      "Test episode 500: score = 3356.0, terminal = 1, max_tile=256, moves=0, seconds=0.78\n",
      "Episode 600: score = 1436.0, terminal = 1, max_tile=128, moves=148, seconds=0.96\n",
      "Test episode 600: score = 1656.0, terminal = 1, max_tile=128, moves=0, seconds=0.43\n",
      "Episode 700: score = 1400.0, terminal = 1, max_tile=128, moves=144, seconds=0.89\n",
      "Test episode 700: score = 1596.0, terminal = 1, max_tile=128, moves=0, seconds=0.39\n",
      "Episode 800: score = 4332.0, terminal = 1, max_tile=256, moves=349, seconds=2.33\n",
      "Test episode 800: score = 1292.0, terminal = 1, max_tile=128, moves=0, seconds=0.38\n",
      "Episode 900: score = 1672.0, terminal = 1, max_tile=128, moves=167, seconds=0.98\n",
      "Test episode 900: score = 3184.0, terminal = 1, max_tile=256, moves=0, seconds=0.7\n",
      "Episode 1000: score = 4440.0, terminal = 1, max_tile=256, moves=343, seconds=2.08\n",
      "Test episode 1000: score = 2568.0, terminal = 1, max_tile=256, moves=0, seconds=0.59\n",
      "Episode 1100: score = 464.0, terminal = 1, max_tile=64, moves=68, seconds=0.43\n",
      "Test episode 1100: score = 5876.0, terminal = 1, max_tile=512, moves=0, seconds=1.11\n",
      "Episode 1200: score = 3484.0, terminal = 1, max_tile=256, moves=290, seconds=1.88\n",
      "Test episode 1200: score = 3616.0, terminal = 1, max_tile=256, moves=0, seconds=0.76\n",
      "Episode 1300: score = 3228.0, terminal = 1, max_tile=256, moves=271, seconds=1.95\n",
      "Test episode 1300: score = 4888.0, terminal = 1, max_tile=512, moves=0, seconds=1.26\n",
      "Episode 1400: score = 3520.0, terminal = 1, max_tile=256, moves=295, seconds=1.83\n",
      "Test episode 1400: score = 2560.0, terminal = 1, max_tile=256, moves=0, seconds=0.54\n",
      "Episode 1500: score = 4520.0, terminal = 1, max_tile=256, moves=337, seconds=2.1\n",
      "Test episode 1500: score = 416.0, terminal = 1, max_tile=32, moves=0, seconds=0.16\n",
      "Episode 1600: score = 3244.0, terminal = 1, max_tile=256, moves=274, seconds=1.69\n",
      "Test episode 1600: score = 4432.0, terminal = 1, max_tile=256, moves=0, seconds=0.91\n",
      "Episode 1700: score = 1420.0, terminal = 1, max_tile=128, moves=145, seconds=0.86\n",
      "Test episode 1700: score = 4048.0, terminal = 1, max_tile=256, moves=0, seconds=0.82\n",
      "Episode 1800: score = 3776.0, terminal = 1, max_tile=256, moves=314, seconds=1.92\n",
      "Test episode 1800: score = 3128.0, terminal = 1, max_tile=256, moves=0, seconds=0.67\n",
      "Episode 1900: score = 1596.0, terminal = 1, max_tile=128, moves=171, seconds=1.04\n",
      "Test episode 1900: score = 3460.0, terminal = 1, max_tile=256, moves=0, seconds=0.73\n",
      "Episode 2000: score = 4656.0, terminal = 1, max_tile=256, moves=374, seconds=2.32\n",
      "Test episode 2000: score = 3740.0, terminal = 1, max_tile=256, moves=0, seconds=0.8\n",
      "Episode 2100: score = 4816.0, terminal = 1, max_tile=512, moves=337, seconds=2.1\n",
      "Test episode 2100: score = 8408.0, terminal = 1, max_tile=512, moves=0, seconds=1.4\n",
      "Episode 2200: score = 2116.0, terminal = 1, max_tile=128, moves=195, seconds=1.2\n",
      "Test episode 2200: score = 4120.0, terminal = 1, max_tile=256, moves=0, seconds=0.83\n",
      "Episode 2300: score = 2936.0, terminal = 1, max_tile=256, moves=245, seconds=1.55\n",
      "Test episode 2300: score = 3536.0, terminal = 1, max_tile=256, moves=0, seconds=0.74\n",
      "Episode 2400: score = 3724.0, terminal = 1, max_tile=256, moves=314, seconds=1.94\n",
      "Test episode 2400: score = 5848.0, terminal = 1, max_tile=512, moves=0, seconds=1.01\n",
      "Episode 2500: score = 3784.0, terminal = 1, max_tile=256, moves=317, seconds=2.17\n",
      "Test episode 2500: score = 6328.0, terminal = 1, max_tile=512, moves=0, seconds=1.04\n",
      "Episode 2600: score = 6216.0, terminal = 1, max_tile=512, moves=446, seconds=2.83\n",
      "Test episode 2600: score = 7948.0, terminal = 1, max_tile=512, moves=0, seconds=1.36\n",
      "Episode 2700: score = 6056.0, terminal = 1, max_tile=512, moves=438, seconds=2.71\n",
      "Test episode 2700: score = 8168.0, terminal = 1, max_tile=512, moves=0, seconds=1.32\n",
      "Episode 2800: score = 4640.0, terminal = 1, max_tile=256, moves=375, seconds=2.3\n",
      "Test episode 2800: score = 8708.0, terminal = 1, max_tile=512, moves=0, seconds=1.46\n",
      "Episode 2900: score = 5128.0, terminal = 1, max_tile=512, moves=351, seconds=2.16\n",
      "Test episode 2900: score = 3624.0, terminal = 1, max_tile=256, moves=0, seconds=0.76\n",
      "Episode 3000: score = 8324.0, terminal = 1, max_tile=512, moves=572, seconds=4.39\n",
      "Test episode 3000: score = 5240.0, terminal = 1, max_tile=256, moves=0, seconds=1.46\n",
      "Episode 3100: score = 6660.0, terminal = 1, max_tile=512, moves=456, seconds=2.97\n",
      "Test episode 3100: score = 4636.0, terminal = 1, max_tile=256, moves=0, seconds=0.92\n",
      "Episode 3200: score = 9240.0, terminal = 1, max_tile=512, moves=640, seconds=4.0\n",
      "Test episode 3200: score = 7240.0, terminal = 1, max_tile=512, moves=0, seconds=1.24\n",
      "Episode 3300: score = 6136.0, terminal = 1, max_tile=512, moves=411, seconds=2.63\n",
      "Test episode 3300: score = 5380.0, terminal = 1, max_tile=512, moves=0, seconds=1.03\n",
      "Episode 3400: score = 12844.0, terminal = 1, max_tile=1024, moves=773, seconds=4.79\n",
      "Test episode 3400: score = 8716.0, terminal = 1, max_tile=512, moves=0, seconds=1.54\n",
      "Episode 3500: score = 3408.0, terminal = 1, max_tile=256, moves=283, seconds=2.15\n",
      "Test episode 3500: score = 9856.0, terminal = 1, max_tile=1024, moves=0, seconds=1.7\n",
      "Episode 3600: score = 1884.0, terminal = 1, max_tile=128, moves=194, seconds=1.79\n",
      "Test episode 3600: score = 7944.0, terminal = 1, max_tile=512, moves=0, seconds=1.45\n",
      "Episode 3700: score = 8220.0, terminal = 1, max_tile=512, moves=582, seconds=3.73\n",
      "Test episode 3700: score = 3928.0, terminal = 1, max_tile=256, moves=0, seconds=0.81\n",
      "Episode 3800: score = 4252.0, terminal = 1, max_tile=256, moves=348, seconds=2.11\n",
      "Test episode 3800: score = 12924.0, terminal = 1, max_tile=1024, moves=0, seconds=2.0\n",
      "Episode 3900: score = 9392.0, terminal = 1, max_tile=512, moves=647, seconds=3.91\n",
      "Test episode 3900: score = 3048.0, terminal = 1, max_tile=256, moves=0, seconds=0.6\n",
      "Episode 4000: score = 4256.0, terminal = 1, max_tile=256, moves=354, seconds=2.14\n",
      "Test episode 4000: score = 5896.0, terminal = 1, max_tile=512, moves=0, seconds=1.02\n",
      "Episode 4100: score = 8552.0, terminal = 1, max_tile=512, moves=576, seconds=3.61\n",
      "Test episode 4100: score = 7332.0, terminal = 1, max_tile=512, moves=0, seconds=1.31\n",
      "Episode 4200: score = 2736.0, terminal = 1, max_tile=256, moves=231, seconds=1.41\n",
      "Test episode 4200: score = 7160.0, terminal = 1, max_tile=512, moves=0, seconds=1.26\n",
      "Episode 4300: score = 7944.0, terminal = 1, max_tile=512, moves=556, seconds=3.43\n",
      "Test episode 4300: score = 7424.0, terminal = 1, max_tile=512, moves=0, seconds=1.33\n",
      "Episode 4400: score = 1652.0, terminal = 1, max_tile=128, moves=169, seconds=1.14\n",
      "Test episode 4400: score = 8724.0, terminal = 1, max_tile=512, moves=0, seconds=1.55\n",
      "Episode 4500: score = 6348.0, terminal = 1, max_tile=512, moves=451, seconds=2.74\n",
      "Test episode 4500: score = 3496.0, terminal = 1, max_tile=256, moves=0, seconds=0.97\n",
      "Episode 4600: score = 8184.0, terminal = 1, max_tile=512, moves=570, seconds=3.44\n",
      "Test episode 4600: score = 7072.0, terminal = 1, max_tile=512, moves=0, seconds=1.18\n",
      "Episode 4700: score = 13432.0, terminal = 1, max_tile=1024, moves=824, seconds=5.27\n",
      "Test episode 4700: score = 6180.0, terminal = 1, max_tile=512, moves=0, seconds=1.35\n",
      "Episode 4800: score = 3404.0, terminal = 1, max_tile=256, moves=282, seconds=1.69\n",
      "Test episode 4800: score = 7488.0, terminal = 1, max_tile=512, moves=0, seconds=1.3\n",
      "Episode 4900: score = 17456.0, terminal = 1, max_tile=1024, moves=1034, seconds=6.34\n"
     ]
    },
    {
     "name": "stdout",
     "output_type": "stream",
     "text": [
      "Test episode 4900: score = 11364.0, terminal = 1, max_tile=1024, moves=0, seconds=1.62\n"
     ]
    }
   ],
   "source": [
    "# Train ! Increment training round for several round of trainings\n",
    "\n",
    "training_params = {\n",
    "    \"num_episodes\": 5_000,\n",
    "    \"print_freq\": 100,\n",
    "    \"agent_name\": agent_params[\"agent_name\"],\n",
    "    \"training_round\": input(\"Training round? \")\n",
    "}\n",
    "\n",
    "metrics_df, agent = train_agent(environment, agent, **training_params)"
   ]
  },
  {
   "cell_type": "code",
   "execution_count": 177,
   "id": "cdab0aa7",
   "metadata": {
    "ExecuteTime": {
     "end_time": "2021-07-25T20:04:04.798955Z",
     "start_time": "2021-07-25T20:04:04.721965Z"
    }
   },
   "outputs": [],
   "source": [
    "df = pd.read_csv(metrics_path).set_index(['agent_name', 'context', 'round', 'episode_number'])"
   ]
  },
  {
   "cell_type": "code",
   "execution_count": 206,
   "id": "72cad8dc",
   "metadata": {
    "ExecuteTime": {
     "end_time": "2021-07-25T20:36:12.210243Z",
     "start_time": "2021-07-25T20:36:12.178361Z"
    }
   },
   "outputs": [
    {
     "ename": "AttributeError",
     "evalue": "'DataFrame' object has no attribute 'to_flat_index'",
     "output_type": "error",
     "traceback": [
      "\u001b[0;31m---------------------------------------------------------------------------\u001b[0m",
      "\u001b[0;31mAttributeError\u001b[0m                            Traceback (most recent call last)",
      "\u001b[0;32m<ipython-input-206-c1c9c3cc3fe3>\u001b[0m in \u001b[0;36m<module>\u001b[0;34m\u001b[0m\n\u001b[0;32m----> 1\u001b[0;31m \u001b[0msns\u001b[0m\u001b[0;34m.\u001b[0m\u001b[0mlineplot\u001b[0m\u001b[0;34m(\u001b[0m\u001b[0mdata\u001b[0m \u001b[0;34m=\u001b[0m \u001b[0mdf\u001b[0m\u001b[0;34m.\u001b[0m\u001b[0mloc\u001b[0m\u001b[0;34m[\u001b[0m\u001b[0;34m:\u001b[0m\u001b[0;34m,\u001b[0m \u001b[0;34m:\u001b[0m\u001b[0;34m,\u001b[0m \u001b[0;36m0\u001b[0m\u001b[0;34m]\u001b[0m\u001b[0;34m.\u001b[0m\u001b[0mto_flat_index\u001b[0m\u001b[0;34m(\u001b[0m\u001b[0;34m)\u001b[0m\u001b[0;34m[\u001b[0m\u001b[0;34m\"episode_play_time\"\u001b[0m\u001b[0;34m]\u001b[0m\u001b[0;34m)\u001b[0m\u001b[0;34m\u001b[0m\u001b[0;34m\u001b[0m\u001b[0m\n\u001b[0m",
      "\u001b[0;32m~/.pyenv/versions/3.8.6/envs/year_2048/lib/python3.8/site-packages/pandas/core/generic.py\u001b[0m in \u001b[0;36m__getattr__\u001b[0;34m(self, name)\u001b[0m\n\u001b[1;32m   5463\u001b[0m             \u001b[0;32mif\u001b[0m \u001b[0mself\u001b[0m\u001b[0;34m.\u001b[0m\u001b[0m_info_axis\u001b[0m\u001b[0;34m.\u001b[0m\u001b[0m_can_hold_identifiers_and_holds_name\u001b[0m\u001b[0;34m(\u001b[0m\u001b[0mname\u001b[0m\u001b[0;34m)\u001b[0m\u001b[0;34m:\u001b[0m\u001b[0;34m\u001b[0m\u001b[0;34m\u001b[0m\u001b[0m\n\u001b[1;32m   5464\u001b[0m                 \u001b[0;32mreturn\u001b[0m \u001b[0mself\u001b[0m\u001b[0;34m[\u001b[0m\u001b[0mname\u001b[0m\u001b[0;34m]\u001b[0m\u001b[0;34m\u001b[0m\u001b[0;34m\u001b[0m\u001b[0m\n\u001b[0;32m-> 5465\u001b[0;31m             \u001b[0;32mreturn\u001b[0m \u001b[0mobject\u001b[0m\u001b[0;34m.\u001b[0m\u001b[0m__getattribute__\u001b[0m\u001b[0;34m(\u001b[0m\u001b[0mself\u001b[0m\u001b[0;34m,\u001b[0m \u001b[0mname\u001b[0m\u001b[0;34m)\u001b[0m\u001b[0;34m\u001b[0m\u001b[0;34m\u001b[0m\u001b[0m\n\u001b[0m\u001b[1;32m   5466\u001b[0m \u001b[0;34m\u001b[0m\u001b[0m\n\u001b[1;32m   5467\u001b[0m     \u001b[0;32mdef\u001b[0m \u001b[0m__setattr__\u001b[0m\u001b[0;34m(\u001b[0m\u001b[0mself\u001b[0m\u001b[0;34m,\u001b[0m \u001b[0mname\u001b[0m\u001b[0;34m:\u001b[0m \u001b[0mstr\u001b[0m\u001b[0;34m,\u001b[0m \u001b[0mvalue\u001b[0m\u001b[0;34m)\u001b[0m \u001b[0;34m->\u001b[0m \u001b[0;32mNone\u001b[0m\u001b[0;34m:\u001b[0m\u001b[0;34m\u001b[0m\u001b[0;34m\u001b[0m\u001b[0m\n",
      "\u001b[0;31mAttributeError\u001b[0m: 'DataFrame' object has no attribute 'to_flat_index'"
     ]
    }
   ],
   "source": [
    "sns.lineplot(data = df.loc[:, :, 0].to_flat_index()[\"episode_play_time\"])"
   ]
  },
  {
   "cell_type": "code",
   "execution_count": 194,
   "id": "f63adab0",
   "metadata": {
    "ExecuteTime": {
     "end_time": "2021-07-25T20:24:45.852743Z",
     "start_time": "2021-07-25T20:24:45.833427Z"
    }
   },
   "outputs": [
    {
     "name": "stderr",
     "output_type": "stream",
     "text": [
      "<ipython-input-194-f35dda7c6a11>:1: PerformanceWarning: indexing past lexsort depth may impact performance.\n",
      "  local_time_train = df.loc[\"marco_test\", \"training\", 0][\"episode_play_time\"].sum()/60\n",
      "<ipython-input-194-f35dda7c6a11>:2: PerformanceWarning: indexing past lexsort depth may impact performance.\n",
      "  colab_cpu_time_train = df.loc[\"marco_colab_cpu\", \"training\", 0][\"episode_play_time\"].sum()/60\n",
      "<ipython-input-194-f35dda7c6a11>:3: PerformanceWarning: indexing past lexsort depth may impact performance.\n",
      "  colab_gpu_time_train = df.loc[\"marco_gpu\", \"training\", 0][\"episode_play_time\"].sum()/60\n",
      "<ipython-input-194-f35dda7c6a11>:5: PerformanceWarning: indexing past lexsort depth may impact performance.\n",
      "  local_time_train_test = df.loc[\"marco_test\", \"test_during_train\", 0][\"episode_play_time\"].sum()/60\n",
      "<ipython-input-194-f35dda7c6a11>:6: PerformanceWarning: indexing past lexsort depth may impact performance.\n",
      "  colab_cpu_time_train_test = df.loc[\"marco_colab_cpu\", \"test_during_train\", 0][\"episode_play_time\"].sum()/60\n",
      "<ipython-input-194-f35dda7c6a11>:7: PerformanceWarning: indexing past lexsort depth may impact performance.\n",
      "  colab_gpu_time_train_test = df.loc[\"marco_gpu\", \"test_during_train\", 0][\"episode_play_time\"].sum()/60\n"
     ]
    }
   ],
   "source": [
    "local_time_train = df.loc[\"marco_test\", \"training\", 0][\"episode_play_time\"].sum()/60\n",
    "colab_cpu_time_train = df.loc[\"marco_colab_cpu\", \"training\", 0][\"episode_play_time\"].sum()/60\n",
    "colab_gpu_time_train = df.loc[\"marco_gpu\", \"training\", 0][\"episode_play_time\"].sum()/60\n",
    "\n",
    "local_time_train_test = df.loc[\"marco_test\", \"test_during_train\", 0][\"episode_play_time\"].sum()/60\n",
    "colab_cpu_time_train_test = df.loc[\"marco_colab_cpu\", \"test_during_train\", 0][\"episode_play_time\"].sum()/60\n",
    "colab_gpu_time_train_test = df.loc[\"marco_gpu\", \"test_during_train\", 0][\"episode_play_time\"].sum()/60"
   ]
  },
  {
   "cell_type": "code",
   "execution_count": 190,
   "id": "db52648e",
   "metadata": {
    "ExecuteTime": {
     "end_time": "2021-07-25T20:16:15.834767Z",
     "start_time": "2021-07-25T20:16:15.826955Z"
    }
   },
   "outputs": [
    {
     "data": {
      "text/plain": [
       "{'local_time_train': 182.4188333333333,\n",
       " 'colab_cpu_time_train': 203.93283333333335,\n",
       " 'colab_gpu_time_train': 141.7295,\n",
       " 'local_time_train_test': 80.17150000000001,\n",
       " 'colab_cpu_time_train_test': 74.324,\n",
       " 'colab_gpu_time_train_test': 60.04633333333333}"
      ]
     },
     "execution_count": 190,
     "metadata": {},
     "output_type": "execute_result"
    }
   ],
   "source": [
    "times = {\"local_time_train\": local_time_train, \"colab_cpu_time_train\": colab_cpu_time_train, \"colab_gpu_time_train\": colab_gpu_time_train, \"local_time_train_test\": local_time_train_test, \"colab_cpu_time_train_test\": colab_cpu_time_train_test, \"colab_gpu_time_train_test\": colab_gpu_time_train_test}\n",
    "times"
   ]
  },
  {
   "cell_type": "markdown",
   "id": "a1625aa1",
   "metadata": {},
   "source": [
    "# Plotting training data"
   ]
  },
  {
   "cell_type": "code",
   "execution_count": null,
   "id": "dcd72bf0",
   "metadata": {
    "ExecuteTime": {
     "end_time": "2021-07-14T17:42:15.857111Z",
     "start_time": "2021-07-14T17:42:15.847017Z"
    }
   },
   "outputs": [],
   "source": [
    "# Reading from CSV, but works also with the metrics_df variable created above\n",
    "training_data_df = pd.read_csv(f\"{data_directory}/{agent_params['agent_name']}/metrics_round0_(10episodes).csv\")\n",
    "scores = training_data_df[\"scores\"]"
   ]
  },
  {
   "cell_type": "code",
   "execution_count": null,
   "id": "4302af1b",
   "metadata": {
    "ExecuteTime": {
     "end_time": "2021-07-14T22:21:00.509587Z",
     "start_time": "2021-07-14T22:21:00.021718Z"
    }
   },
   "outputs": [],
   "source": [
    "# Raw training data\n",
    "sns.lineplot(data=scores, label = agent_params[\"agent_name\"]);"
   ]
  },
  {
   "cell_type": "code",
   "execution_count": null,
   "id": "39065a0c",
   "metadata": {
    "ExecuteTime": {
     "end_time": "2021-07-15T15:59:15.949032Z",
     "start_time": "2021-07-15T15:59:15.721904Z"
    }
   },
   "outputs": [],
   "source": [
    "# Smoothed curves (moving average on N points)\n",
    "N = 2\n",
    "print(f\"Training time of {agent_params['agent_name']}:\", round(metrics_df[\"episode_play_time\"].sum()/60), \"minutes\")\n",
    "sns.lineplot(data = uniform_filter1d(scores, size=N, mode = \"reflect\"), label = f\"Score (moving average on {N} points)\");"
   ]
  },
  {
   "cell_type": "code",
   "execution_count": null,
   "id": "88cc7b38",
   "metadata": {
    "ExecuteTime": {
     "end_time": "2021-07-15T15:25:27.330900Z",
     "start_time": "2021-07-15T15:25:21.227527Z"
    }
   },
   "outputs": [],
   "source": [
    "_dir = f\"{colab_parent_directory}{data_directory}/{agent_params['agent_name']}\"\n",
    "%tensorboard --logdir $_dir"
   ]
  },
  {
   "cell_type": "markdown",
   "id": "a294eb62",
   "metadata": {},
   "source": [
    "# Testing"
   ]
  },
  {
   "cell_type": "markdown",
   "id": "4dc91061",
   "metadata": {},
   "source": [
    "Fast testing"
   ]
  },
  {
   "cell_type": "code",
   "execution_count": null,
   "id": "70c157b3",
   "metadata": {
    "ExecuteTime": {
     "end_time": "2021-07-15T16:18:22.654165Z",
     "start_time": "2021-07-15T16:18:22.644756Z"
    }
   },
   "outputs": [],
   "source": [
    "def fast_test_agent(agent, episodes_n):\n",
    "    start_testing_time = time.time()\n",
    "\n",
    "    environment = Environment.create(\n",
    "        environment = 'gym',\n",
    "        level = '2048-v0', \n",
    "        max_episode_timesteps = 10_000\n",
    "    )\n",
    "\n",
    "    scores_list = []\n",
    "\n",
    "    for episode in range(episodes_n):\n",
    "        score = 0\n",
    "        states = environment.reset()\n",
    "        internals = agent.initial_internals()\n",
    "        terminal = False\n",
    "\n",
    "        while not terminal:\n",
    "            actions, internals = agent.act(\n",
    "                states= {\n",
    "                    \"state\":states,\n",
    "                    \"action_mask\":environment._environment.environment.get_invalid_moves()},\n",
    "                internals=internals,\n",
    "                independent=True, deterministic=True\n",
    "            )\n",
    "            states, terminal, reward = environment.execute(actions=actions)\n",
    "            score += reward\n",
    "\n",
    "        scores_list.append(score)\n",
    "\n",
    "    testing_time = time.time() - start_testing_time\n",
    "    print(\"Testing time: \", testing_time)\n",
    "    \n",
    "    return scores_list"
   ]
  },
  {
   "cell_type": "markdown",
   "id": "c1b413f6",
   "metadata": {},
   "source": [
    "Comprehensive testing (with visualization, and best/worst game save)"
   ]
  },
  {
   "cell_type": "code",
   "execution_count": null,
   "id": "6424ccf5",
   "metadata": {
    "ExecuteTime": {
     "end_time": "2021-07-15T16:13:34.752148Z",
     "start_time": "2021-07-15T16:13:34.413151Z"
    }
   },
   "outputs": [],
   "source": [
    "# Evaluate for n episodes\n",
    "def test_agent(agent,n_episode,visualization,pause=0.01):\n",
    "    start_testing_time = time.time()\n",
    "    #definir l'env\n",
    "    environment = Environment.create(environment = 'gym', level = '2048-v0', \n",
    "    max_episode_timesteps = 10_000\n",
    "    )\n",
    "\n",
    "    #dictionnaire pour obtenir la distribution des max tiles de chaque episode\n",
    "    dico_max_tiles_distribution = {}\n",
    "    # liste des score par episode\n",
    "    liste_score=[]\n",
    "    # dictionnaire pour récupérer la meilleure et la pire partie du test\n",
    "    dico_best_worst_episode = {'Worst':[],'Best':[], 'Episode # Worst':[], 'Episode # Best':[]}\n",
    "\n",
    "    for episode in range(n_episode):\n",
    "        sum_rewards = 0.0\n",
    "        states = environment.reset()\n",
    "        list_states=[]\n",
    "        internals = agent.initial_internals()\n",
    "        terminal = False\n",
    "        if visualization == 'yes':\n",
    "            clear_output(wait=True)\n",
    "            print(f'Game #: {episode+1}')\n",
    "            time.sleep(3)\n",
    "\n",
    "        while not terminal:\n",
    "            actions, internals = agent.act(\n",
    "                states= {\n",
    "                    \"state\":states,\n",
    "                    \"action_mask\":environment._environment.environment.get_invalid_moves()},\n",
    "                internals=internals,\n",
    "                independent=True, deterministic=True\n",
    "            )\n",
    "            states, terminal, reward = environment.execute(actions=actions)\n",
    "            matrix = environment._environment.environment.Matrix\n",
    "            list_states.append(matrix.copy())\n",
    "            sum_rewards += reward\n",
    "            if visualization == 'yes':\n",
    "                clear_output(wait=True)\n",
    "                display(HTML(pretty_print(matrix)))\n",
    "                time.sleep(pause)\n",
    "\n",
    "        liste_score.append(sum_rewards)\n",
    "\n",
    "        if sum_rewards >= max(liste_score):\n",
    "            dico_best_worst_episode['Best'] = list_states\n",
    "            dico_best_worst_episode['Episode # Best'] = episode\n",
    "        elif sum_rewards <= min(liste_score):\n",
    "            dico_best_worst_episode['Worst'] = list_states\n",
    "            dico_best_worst_episode['Episode # Worst'] = episode\n",
    "\n",
    "        dico_max_tiles_distribution.setdefault(environment._environment.environment.Matrix.max(),0)\n",
    "        dico_max_tiles_distribution[environment._environment.environment.Matrix.max()] += 1\n",
    "        if visualization == 'yes':\n",
    "            if environment._environment.environment.Matrix.max() < 2048:\n",
    "                print(f\"My final score is {environment._environment.environment.score} with a max tile at {environment._environment.environment.Matrix.max()}. Let's try again!\")\n",
    "            else:\n",
    "                print(f\"My final score is {environment._environment.environment.score} with a max tile at {environment._environment.environment.Matrix.max()}. I mastered this game!\")\n",
    "            time.sleep(3)\n",
    "    testing_time = time.time() - start_testing_time\n",
    "    print(\"Testing time: \", testing_time)\n",
    "    return dico_best_worst_episode, liste_score, dico_max_tiles_distribution\n"
   ]
  },
  {
   "cell_type": "code",
   "execution_count": null,
   "id": "d91b77c5",
   "metadata": {
    "ExecuteTime": {
     "end_time": "2021-07-15T16:20:49.511093Z",
     "start_time": "2021-07-15T16:20:27.239461Z"
    }
   },
   "outputs": [],
   "source": [
    "results = test_agent(agent, 30, 'no')"
   ]
  },
  {
   "cell_type": "code",
   "execution_count": null,
   "id": "6526923a",
   "metadata": {
    "ExecuteTime": {
     "end_time": "2021-07-15T16:21:07.180867Z",
     "start_time": "2021-07-15T16:20:49.517175Z"
    }
   },
   "outputs": [],
   "source": [
    "restults2 = fast_test_agent(agent, 30)"
   ]
  },
  {
   "cell_type": "code",
   "execution_count": null,
   "id": "7b29e2d5",
   "metadata": {
    "ExecuteTime": {
     "end_time": "2021-07-14T17:49:22.649572Z",
     "start_time": "2021-07-14T17:49:22.267348Z"
    }
   },
   "outputs": [],
   "source": [
    "plot_metrics(sort_dico(results[2]), results[1])"
   ]
  }
 ],
 "metadata": {
  "kernelspec": {
   "display_name": "Python 3",
   "language": "python",
   "name": "python3"
  },
  "language_info": {
   "codemirror_mode": {
    "name": "ipython",
    "version": 3
   },
   "file_extension": ".py",
   "mimetype": "text/x-python",
   "name": "python",
   "nbconvert_exporter": "python",
   "pygments_lexer": "ipython3",
   "version": "3.8.6"
  },
  "toc": {
   "base_numbering": 1,
   "nav_menu": {},
   "number_sections": true,
   "sideBar": true,
   "skip_h1_title": false,
   "title_cell": "Table of Contents",
   "title_sidebar": "Contents",
   "toc_cell": false,
   "toc_position": {},
   "toc_section_display": true,
   "toc_window_display": false
  }
 },
 "nbformat": 4,
 "nbformat_minor": 5
}
