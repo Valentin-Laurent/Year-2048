{
 "cells": [
  {
   "cell_type": "markdown",
   "id": "b184a774",
   "metadata": {
    "ExecuteTime": {
     "end_time": "2021-05-25T13:22:42.227452Z",
     "start_time": "2021-05-25T13:22:42.222872Z"
    }
   },
   "source": [
    "# Setup"
   ]
  },
  {
   "cell_type": "markdown",
   "id": "1776219e",
   "metadata": {},
   "source": [
    "Collab specific stuff:"
   ]
  },
  {
   "cell_type": "code",
   "execution_count": 29,
   "id": "59d453b7",
   "metadata": {
    "ExecuteTime": {
     "end_time": "2021-05-27T13:22:47.722298Z",
     "start_time": "2021-05-27T13:22:47.718484Z"
    }
   },
   "outputs": [],
   "source": [
    "running_colab = False"
   ]
  },
  {
   "cell_type": "code",
   "execution_count": 30,
   "id": "0d954ca1",
   "metadata": {
    "ExecuteTime": {
     "end_time": "2021-05-27T13:22:48.159222Z",
     "start_time": "2021-05-27T13:22:48.153867Z"
    }
   },
   "outputs": [],
   "source": [
    "if running_colab:\n",
    "    from google.colab import drive\n",
    "    drive.mount('/content/drive')\n",
    "    logs_directory = 'drive/MyDrive/summaries'\n",
    "    !pip install -r \"drive/MyDrive/requirements.txt\"\n",
    "else:\n",
    "    logs_directory = 'summaries'"
   ]
  },
  {
   "cell_type": "markdown",
   "id": "5b9c5cd7",
   "metadata": {
    "ExecuteTime": {
     "end_time": "2021-05-26T07:44:26.531364Z",
     "start_time": "2021-05-26T07:44:25.843849Z"
    }
   },
   "source": [
    "Imports"
   ]
  },
  {
   "cell_type": "code",
   "execution_count": 31,
   "id": "7c400da7",
   "metadata": {
    "ExecuteTime": {
     "end_time": "2021-05-27T13:22:48.923838Z",
     "start_time": "2021-05-27T13:22:48.916520Z"
    }
   },
   "outputs": [
    {
     "name": "stdout",
     "output_type": "stream",
     "text": [
      "The tensorboard extension is already loaded. To reload it, use:\n",
      "  %reload_ext tensorboard\n"
     ]
    }
   ],
   "source": [
    "import time\n",
    "import gym_2048\n",
    "from tensorforce import Agent, Environment\n",
    "import numpy as np\n",
    "import matplotlib.pyplot as plt\n",
    "import pandas as pd\n",
    "import json\n",
    "%load_ext tensorboard"
   ]
  },
  {
   "cell_type": "markdown",
   "id": "99978760",
   "metadata": {},
   "source": [
    "Functions"
   ]
  },
  {
   "cell_type": "markdown",
   "id": "a8f7ad4f",
   "metadata": {
    "ExecuteTime": {
     "end_time": "2021-05-25T13:23:07.931146Z",
     "start_time": "2021-05-25T13:23:07.926389Z"
    }
   },
   "source": [
    "# Useful code snippets"
   ]
  },
  {
   "cell_type": "markdown",
   "id": "83046448",
   "metadata": {},
   "source": [
    "Render \"beautiful\" 2048 grid:\n",
    "\n",
    "`imshow(environment._environment.environment.render(mode=\"rgb_array\"))`\n",
    "\n",
    "Illegal move reward:\n",
    "\n",
    "`environment._environment.environment.set_illegal_move_reward(-10)`\n",
    "\n",
    "Log2 reward:\n",
    "\n",
    "`log2_reward = reward if reward <= 0 else np.log2(reward)`\n",
    "\n",
    "Show TensorBoard graphs:\n",
    "\n",
    "`%tensorboard --logdir summaries` (with parameter `summarizer=dict(directory='summaries')` in the `Agent.create()` method)"
   ]
  },
  {
   "cell_type": "markdown",
   "id": "40679b34",
   "metadata": {},
   "source": [
    "# Hyperparams to test"
   ]
  },
  {
   "cell_type": "markdown",
   "id": "afd7694a",
   "metadata": {},
   "source": [
    "`exploration`\n",
    "\n",
    "`learning_rate`\n",
    "\n",
    "Negative reward for illegal moves: `environment._environment.environment.set_illegal_move_reward(-1)`\n",
    "\n",
    "`target_sync_frequency`\n",
    "\n",
    "`batch_size` & `update_frequency`\n",
    "\n",
    "Constant reward / Log reward"
   ]
  },
  {
   "cell_type": "markdown",
   "id": "e7e12eea",
   "metadata": {},
   "source": [
    "# Custom hyper params train"
   ]
  },
  {
   "cell_type": "markdown",
   "id": "3125ff80",
   "metadata": {},
   "source": [
    "Modified hyperparams :\n",
    "\n",
    "Ex: `learning_rate = 0.01` et `batch_size = 32`"
   ]
  },
  {
   "cell_type": "code",
   "execution_count": 33,
   "id": "3b0ac30e",
   "metadata": {
    "ExecuteTime": {
     "end_time": "2021-05-27T13:23:32.686522Z",
     "start_time": "2021-05-27T13:23:32.676863Z"
    }
   },
   "outputs": [],
   "source": [
    "def train_agent(params, print_freq, file_name):\n",
    "    ''' Function creating environment & agent based on params dict. \n",
    "    num_episodes defines how many episodes agent will train & print_freq defines \n",
    "    printing frequency. \n",
    "    Function will create dict of metrics & dict of params used in function & both\n",
    "    will be saved as a csv with file_name'''\n",
    "\n",
    "    # create a 2048 environment\n",
    "    environment = Environment.create(\n",
    "        environment = 'gym'\n",
    "        , level = '2048-v0'\n",
    "        , max_episode_timesteps = params['max_episode_timesteps']\n",
    "    )\n",
    "\n",
    "    # create an agent\n",
    "    agent = Agent.create(\n",
    "        agent = 'dqn'\n",
    "        , environment = environment\n",
    "        , **params['agent_hyperparams']\n",
    "        , summarizer = dict(directory=logs_directory\n",
    "                            , summaries=[\n",
    "                                \"regularization-loss\"\n",
    "                                , \"loss\"\n",
    "                                , \"episode-length\"\n",
    "                                , \"episode-reward\"\n",
    "                                , \"objective-loss\"\n",
    "                                , \"reward\"\n",
    "                                , \"update-return\"\n",
    "                            ]\n",
    "                           )\n",
    "    )\n",
    "\n",
    "    # instantiate lists to record global training metrics\n",
    "    max_tiles = []\n",
    "    scores = []\n",
    "    updates = []\n",
    "    valid_moves = []\n",
    "    run_time = []\n",
    "    start_training_time = time.time()\n",
    "\n",
    "    for episode in range(params['num_episodes']):\n",
    "        state = environment.reset()\n",
    "        terminal = False\n",
    "\n",
    "        #Checking metrics while training\n",
    "        state_freeze = state.copy()\n",
    "        num_updates = 0\n",
    "        num_moves = 0\n",
    "        invalid_moves = 0\n",
    "        start_episode_time = time.time()\n",
    "\n",
    "        while not terminal:\n",
    "            #Core\n",
    "            action = agent.act(states=dict(state=state,  action_mask=environment._environment.environment.get_invalid_moves()))\n",
    "            state, terminal, reward = environment.execute(actions=action)\n",
    "            log2_reward = reward if reward <= 0 else np.log2(reward)\n",
    "            num_updates += agent.observe(terminal=terminal, reward=log2_reward)\n",
    "\n",
    "            #Number of moves\n",
    "            num_moves += 1\n",
    "\n",
    "            #Number of invalid moves\n",
    "            if (state == state_freeze).all():\n",
    "                invalid_moves += 1\n",
    "            state_freeze = state.copy()\n",
    "\n",
    "        # Storing score and max tile\n",
    "        max_tiles.append(environment._environment.environment.Matrix.max())\n",
    "        scores.append(environment._environment.environment.score)\n",
    "        updates.append(num_updates)\n",
    "        valid_moves.append(num_moves)\n",
    "        run_time.append(round(time.time() - start_episode_time,2))\n",
    "\n",
    "        if episode % print_freq == 0:\n",
    "            print('Episode {}: score = {}, terminal = {}, updates={}, max_tile={}, valid_moves={}, invalid_moves={}, seconds={}'\\\n",
    "                  .format(episode, environment._environment.environment.score , terminal, num_updates, max_tiles[-1], num_moves-invalid_moves, invalid_moves, round(time.time() - start_episode_time,2)))\n",
    "        \n",
    "    metrics_dict = {\n",
    "        'max_tiles': max_tiles\n",
    "        , 'scores': scores\n",
    "        , 'updates': updates\n",
    "        , 'valid_moves': valid_moves\n",
    "        , 'run_time' : run_time\n",
    "    }\n",
    "    metrics_df = pd.DataFrame(metrics_dict)\n",
    "    metrics_path = f'training_runs/{file_name}_metrics.csv'\n",
    "    metrics_df.to_csv(metrics_path)\n",
    "    \n",
    "    params_path = f'training_runs/{file_name}_params.json'\n",
    "    with open(params_path, 'w') as fp:\n",
    "        json.dump(params, fp)\n",
    "    \n",
    "    environment.close()\n",
    "    \n",
    "    return (metrics_df, params, agent)"
   ]
  },
  {
   "cell_type": "code",
   "execution_count": 34,
   "id": "38790d3a",
   "metadata": {
    "ExecuteTime": {
     "end_time": "2021-05-27T13:23:41.255085Z",
     "start_time": "2021-05-27T13:23:41.250090Z"
    }
   },
   "outputs": [],
   "source": [
    "agent_hyperparams_dict = {\n",
    "    'max_episode_timesteps': 1000 # Maximum steps allowed in episode. This hyper-param is for environment\n",
    "    , 'batch_size': 16\n",
    "    , 'update_frequency': 4\n",
    "    , 'learning_rate': 0.001\n",
    "    , 'discount': 0.8\n",
    "    , 'memory': 30000\n",
    "    , 'exploration': 0.1\n",
    "    , 'target_sync_frequency': 4\n",
    "    , 'horizon': 2\n",
    "}\n",
    "\n",
    "input_dict = {\n",
    "    'max_episode_timesteps': 1000\n",
    "    , 'num_episodes': 3000\n",
    "    , 'agent_hyperparams': agent_hyperparams_dict\n",
    "}"
   ]
  },
  {
   "cell_type": "code",
   "execution_count": 28,
   "id": "70628737",
   "metadata": {
    "ExecuteTime": {
     "end_time": "2021-05-27T13:22:07.420460Z",
     "start_time": "2021-05-27T13:21:55.667909Z"
    }
   },
   "outputs": [
    {
     "name": "stdout",
     "output_type": "stream",
     "text": [
      "Episode 0: score = 2016.0, terminal = 1, updates=9, max_tile=256, valid_moves=162, invalid_moves=0, seconds=4.81\n",
      "Episode 1: score = 2372.0, terminal = 1, updates=12, max_tile=256, valid_moves=201, invalid_moves=0, seconds=0.93\n",
      "Episode 2: score = 2252.0, terminal = 1, updates=13, max_tile=128, valid_moves=211, invalid_moves=0, seconds=0.96\n",
      "Episode 3: score = 1132.0, terminal = 1, updates=7, max_tile=128, valid_moves=122, invalid_moves=0, seconds=0.54\n",
      "Episode 4: score = 1400.0, terminal = 1, updates=9, max_tile=128, valid_moves=147, invalid_moves=0, seconds=0.71\n",
      "Episode 5: score = 1024.0, terminal = 1, updates=6, max_tile=128, valid_moves=109, invalid_moves=0, seconds=0.49\n",
      "Episode 6: score = 2880.0, terminal = 1, updates=14, max_tile=256, valid_moves=233, invalid_moves=0, seconds=1.07\n",
      "Episode 7: score = 728.0, terminal = 1, updates=5, max_tile=64, valid_moves=91, invalid_moves=0, seconds=0.47\n",
      "Episode 8: score = 1836.0, terminal = 1, updates=11, max_tile=128, valid_moves=187, invalid_moves=0, seconds=0.86\n",
      "Episode 9: score = 1420.0, terminal = 1, updates=9, max_tile=128, valid_moves=148, invalid_moves=0, seconds=0.67\n"
     ]
    }
   ],
   "source": [
    "test_df = train_agent(input_dict, 1, 'test')"
   ]
  },
  {
   "cell_type": "code",
   "execution_count": 26,
   "id": "be743ce1",
   "metadata": {
    "ExecuteTime": {
     "end_time": "2021-05-27T13:21:02.850484Z",
     "start_time": "2021-05-27T13:21:02.568025Z"
    }
   },
   "outputs": [
    {
     "data": {
      "image/png": "[encoded data removed]",
      "text/plain": [
       "<Figure size 1440x360 with 2 Axes>"
      ]
     },
     "metadata": {
      "needs_background": "light"
     },
     "output_type": "display_data"
    }
   ],
   "source": [
    "fig = plt.figure(figsize = (20,5))\n",
    "ax1 = fig.add_subplot(1,2,1)\n",
    "ax1.hist(test_df[0].max_tiles, color = 'b')\n",
    "ax1.set_title('max tile')\n",
    "ax2 = fig.add_subplot(1,2,2)\n",
    "ax2.hist(test_df[0].scores, color = 'r')\n",
    "ax2.set_title('score');"
   ]
  },
  {
   "cell_type": "code",
   "execution_count": 8,
   "id": "88cc7b38",
   "metadata": {
    "ExecuteTime": {
     "end_time": "2021-05-27T10:48:33.131459Z",
     "start_time": "2021-05-27T10:48:29.586012Z"
    }
   },
   "outputs": [
    {
     "data": {
      "text/html": [
       "\n",
       "      <iframe id=\"tensorboard-frame-2ce6888326e3cb0a\" width=\"100%\" height=\"800\" frameborder=\"0\">\n",
       "      </iframe>\n",
       "      <script>\n",
       "        (function() {\n",
       "          const frame = document.getElementById(\"tensorboard-frame-2ce6888326e3cb0a\");\n",
       "          const url = new URL(\"/\", window.location);\n",
       "          const port = 6006;\n",
       "          if (port) {\n",
       "            url.port = port;\n",
       "          }\n",
       "          frame.src = url;\n",
       "        })();\n",
       "      </script>\n",
       "    "
      ],
      "text/plain": [
       "<IPython.core.display.HTML object>"
      ]
     },
     "metadata": {},
     "output_type": "display_data"
    }
   ],
   "source": [
    "%tensorboard --logdir $logs_directory"
   ]
  },
  {
   "cell_type": "markdown",
   "id": "eb0a497f",
   "metadata": {
    "ExecuteTime": {
     "end_time": "2021-05-25T15:26:47.015574Z",
     "start_time": "2021-05-25T15:26:47.007913Z"
    }
   },
   "source": [
    "# Default hyper params"
   ]
  },
  {
   "cell_type": "code",
   "execution_count": null,
   "id": "178ce4ce",
   "metadata": {
    "ExecuteTime": {
     "end_time": "2021-05-27T09:53:08.751473Z",
     "start_time": "2021-05-27T09:52:40.120Z"
    }
   },
   "outputs": [],
   "source": [
    "#environment = Environment.create(\n",
    "#    environment='gym', level='2048-v0', max_episode_timesteps=1000\n",
    "#)\n",
    "\n",
    "# Defaut hyperparams\n",
    "#agent = Agent.create(\n",
    "#    agent='dqn',\n",
    "#    batch_size=16, # Required by Tensorforce\n",
    "#    update_frequency=4, # Update frequency, TensorForce default : batch_size * 0.25\n",
    "#    learning_rate = 0.001, # (TensorForce default)\n",
    "#    discount = 0.99, # (TensorForce default)\n",
    "#    memory=10000,\n",
    "#    exploration=0.1, # (0 is the TensorForce default)\n",
    "#    target_sync_frequency=4, # (1 is the TensorForce default)\n",
    "#)\n",
    "#\n",
    "#for episode in range(1000):\n",
    "#    train...\n",
    "#    log2_reward = reward if reward <= 0 else np.log2(reward)"
   ]
  }
 ],
 "metadata": {
  "kernelspec": {
   "display_name": "Python 3",
   "language": "python",
   "name": "python3"
  },
  "language_info": {
   "codemirror_mode": {
    "name": "ipython",
    "version": 3
   },
   "file_extension": ".py",
   "mimetype": "text/x-python",
   "name": "python",
   "nbconvert_exporter": "python",
   "pygments_lexer": "ipython3",
   "version": "3.8.6"
  },
  "toc": {
   "base_numbering": 1,
   "nav_menu": {},
   "number_sections": true,
   "sideBar": true,
   "skip_h1_title": false,
   "title_cell": "Table of Contents",
   "title_sidebar": "Contents",
   "toc_cell": false,
   "toc_position": {},
   "toc_section_display": true,
   "toc_window_display": false
  }
 },
 "nbformat": 4,
 "nbformat_minor": 5
}
