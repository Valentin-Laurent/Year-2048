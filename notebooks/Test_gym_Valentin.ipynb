{
 "cells": [
  {
   "cell_type": "code",
   "execution_count": 3,
   "id": "0835e2b7",
   "metadata": {
    "ExecuteTime": {
     "end_time": "2021-05-24T14:34:17.313106Z",
     "start_time": "2021-05-24T14:34:17.300663Z"
    }
   },
   "outputs": [],
   "source": [
    "import gym\n",
    "import gym_2048"
   ]
  },
  {
   "cell_type": "code",
   "execution_count": 46,
   "id": "6ee671ea",
   "metadata": {
    "ExecuteTime": {
     "end_time": "2021-05-24T15:53:07.662777Z",
     "start_time": "2021-05-24T15:53:07.659404Z"
    }
   },
   "outputs": [],
   "source": [
    "import numpy as np"
   ]
  },
  {
   "cell_type": "code",
   "execution_count": 1,
   "id": "9a222c84",
   "metadata": {
    "ExecuteTime": {
     "end_time": "2021-05-24T14:33:29.055351Z",
     "start_time": "2021-05-24T14:33:25.321901Z"
    }
   },
   "outputs": [],
   "source": [
    "from tensorforce import Agent, Environment"
   ]
  },
  {
   "cell_type": "code",
   "execution_count": 33,
   "id": "4a35979e",
   "metadata": {
    "ExecuteTime": {
     "end_time": "2021-05-24T15:29:55.810334Z",
     "start_time": "2021-05-24T15:29:55.804462Z"
    }
   },
   "outputs": [],
   "source": [
    "from PIL import Image, ImageDraw, ImageFont"
   ]
  },
  {
   "cell_type": "code",
   "execution_count": 4,
   "id": "f6108726",
   "metadata": {
    "ExecuteTime": {
     "end_time": "2021-05-24T14:35:39.412144Z",
     "start_time": "2021-05-24T14:35:39.383805Z"
    }
   },
   "outputs": [],
   "source": [
    "environment = Environment.create(\n",
    "    environment='gym', level='2048-v0', max_episode_timesteps=500\n",
    ")"
   ]
  },
  {
   "cell_type": "code",
   "execution_count": 43,
   "id": "e247084c",
   "metadata": {
    "ExecuteTime": {
     "end_time": "2021-05-24T15:41:06.356686Z",
     "start_time": "2021-05-24T15:41:06.156341Z"
    }
   },
   "outputs": [
    {
     "data": {
      "text/plain": [
       "<matplotlib.image.AxesImage at 0x14cca96d0>"
      ]
     },
     "execution_count": 43,
     "metadata": {},
     "output_type": "execute_result"
    },
    {
     "data": {
      "image/png": "[encoded data removed]",
      "text/plain": [
       "<Figure size 432x288 with 1 Axes>"
      ]
     },
     "metadata": {
      "needs_background": "light"
     },
     "output_type": "display_data"
    }
   ],
   "source": [
    "imshow(environment._environment.environment.render(mode=\"rgb_array\"))\n",
    "#Image.fromarray(test, mode=\"RGB\")"
   ]
  },
  {
   "cell_type": "code",
   "execution_count": 41,
   "id": "2d09c1a1",
   "metadata": {
    "ExecuteTime": {
     "end_time": "2021-05-24T15:40:16.490220Z",
     "start_time": "2021-05-24T15:40:15.844352Z"
    }
   },
   "outputs": [],
   "source": [
    "from matplotlib.pyplot import imshow"
   ]
  },
  {
   "cell_type": "code",
   "execution_count": 50,
   "id": "1dc6b1d4",
   "metadata": {
    "ExecuteTime": {
     "end_time": "2021-05-24T15:54:34.118977Z",
     "start_time": "2021-05-24T15:54:33.898883Z"
    }
   },
   "outputs": [
    {
     "data": {
      "text/plain": [
       "<matplotlib.image.AxesImage at 0x14cfa3100>"
      ]
     },
     "execution_count": 50,
     "metadata": {},
     "output_type": "execute_result"
    },
    {
     "data": {
      "image/png": "[encoded data removed]",
      "text/plain": [
       "<Figure size 432x288 with 1 Axes>"
      ]
     },
     "metadata": {
      "needs_background": "light"
     },
     "output_type": "display_data"
    }
   ],
   "source": [
    "env = gym.make('2048-v0')\n",
    "env.step(0)\n",
    "env.step(1)\n",
    "env.step(2)\n",
    "\n",
    "black = (0, 0, 0)\n",
    "grey = (128, 128, 128)\n",
    "white = (255, 255, 255)\n",
    "tile_colour_map = {\n",
    "    2: (255, 0, 0),\n",
    "    4: (224, 32, 0),\n",
    "    8: (192, 64, 0),\n",
    "    16: (160, 96, 0),\n",
    "    32: (128, 128, 0),\n",
    "    64: (96, 160, 0),\n",
    "    128: (64, 192, 0),\n",
    "    256: (32, 224, 0),\n",
    "    512: (0, 255, 0),\n",
    "    1024: (0, 224, 32),\n",
    "    2048: (0, 192, 64),\n",
    "    4096: (0, 160, 96),\n",
    "}\n",
    "grid_size = env.grid_size\n",
    "\n",
    "# Render with Pillow\n",
    "pil_board = Image.new(\"RGB\", (grid_size * 4, grid_size * 4))\n",
    "draw = ImageDraw.Draw(pil_board)\n",
    "draw.rectangle([0, 0, 4 * grid_size, 4 * grid_size], grey)\n",
    "fnt = ImageFont.truetype('Arial.ttf', 30)\n",
    "\n",
    "for y in range(4):\n",
    "  for x in range(4):\n",
    "     o = env.get(y, x)\n",
    "     if o:\n",
    "         draw.rectangle([x * grid_size, y * grid_size, (x + 1) * grid_size, (y + 1) * grid_size], tile_colour_map[o])\n",
    "         (text_x_size, text_y_size) = draw.textsize(str(o), font=fnt)\n",
    "         draw.text((x * grid_size + (grid_size - text_x_size) // 2, y * grid_size + (grid_size - text_y_size) // 2), str(o), font=fnt, fill=white)\n",
    "imshow(np.asarray(pil_board))"
   ]
  },
  {
   "cell_type": "code",
   "execution_count": 2,
   "id": "3b0ac30e",
   "metadata": {
    "ExecuteTime": {
     "end_time": "2021-05-24T14:33:31.938975Z",
     "start_time": "2021-05-24T14:33:31.251597Z"
    }
   },
   "outputs": [
    {
     "ename": "TensorforceError",
     "evalue": "Invalid value for OpenAIGym argument level: None.",
     "output_type": "error",
     "traceback": [
      "\u001b[0;31m--------------------------------------------------------------\u001b[0m",
      "\u001b[0;31mTensorforceError\u001b[0m             Traceback (most recent call last)",
      "\u001b[0;32m<ipython-input-2-e77736b05a05>\u001b[0m in \u001b[0;36m<module>\u001b[0;34m\u001b[0m\n\u001b[1;32m      1\u001b[0m \u001b[0;31m# Pre-defined or custom environment\u001b[0m\u001b[0;34m\u001b[0m\u001b[0;34m\u001b[0m\u001b[0;34m\u001b[0m\u001b[0m\n\u001b[0;32m----> 2\u001b[0;31m environment = Environment.create(\n\u001b[0m\u001b[1;32m      3\u001b[0m     \u001b[0menvironment\u001b[0m\u001b[0;34m=\u001b[0m\u001b[0;34m'gym'\u001b[0m\u001b[0;34m,\u001b[0m \u001b[0mlevel\u001b[0m\u001b[0;34m=\u001b[0m\u001b[0;34m'2048-v0'\u001b[0m\u001b[0;34m,\u001b[0m \u001b[0mmax_episode_timesteps\u001b[0m\u001b[0;34m=\u001b[0m\u001b[0;36m500\u001b[0m\u001b[0;34m\u001b[0m\u001b[0;34m\u001b[0m\u001b[0m\n\u001b[1;32m      4\u001b[0m )\n\u001b[1;32m      5\u001b[0m \u001b[0;34m\u001b[0m\u001b[0m\n",
      "\u001b[0;32m~/.pyenv/versions/3.8.6/envs/year_2048/lib/python3.8/site-packages/tensorforce/environments/environment.py\u001b[0m in \u001b[0;36mcreate\u001b[0;34m(environment, max_episode_timesteps, reward_shaping, remote, blocking, host, port, **kwargs)\u001b[0m\n\u001b[1;32m    212\u001b[0m                 \u001b[0;31m# Keyword specification\u001b[0m\u001b[0;34m\u001b[0m\u001b[0;34m\u001b[0m\u001b[0;34m\u001b[0m\u001b[0m\n\u001b[1;32m    213\u001b[0m                 \u001b[0menvironment\u001b[0m \u001b[0;34m=\u001b[0m \u001b[0mtensorforce\u001b[0m\u001b[0;34m.\u001b[0m\u001b[0menvironments\u001b[0m\u001b[0;34m.\u001b[0m\u001b[0menvironments\u001b[0m\u001b[0;34m[\u001b[0m\u001b[0menvironment\u001b[0m\u001b[0;34m]\u001b[0m\u001b[0;34m\u001b[0m\u001b[0;34m\u001b[0m\u001b[0m\n\u001b[0;32m--> 214\u001b[0;31m                 return Environment.create(\n\u001b[0m\u001b[1;32m    215\u001b[0m                     \u001b[0menvironment\u001b[0m\u001b[0;34m=\u001b[0m\u001b[0menvironment\u001b[0m\u001b[0;34m,\u001b[0m \u001b[0mmax_episode_timesteps\u001b[0m\u001b[0;34m=\u001b[0m\u001b[0mmax_episode_timesteps\u001b[0m\u001b[0;34m,\u001b[0m\u001b[0;34m\u001b[0m\u001b[0;34m\u001b[0m\u001b[0m\n\u001b[1;32m    216\u001b[0m                     \u001b[0mreward_shaping\u001b[0m\u001b[0;34m=\u001b[0m\u001b[0mreward_shaping\u001b[0m\u001b[0;34m,\u001b[0m \u001b[0;34m**\u001b[0m\u001b[0mkwargs\u001b[0m\u001b[0;34m\u001b[0m\u001b[0;34m\u001b[0m\u001b[0m\n",
      "\u001b[0;32m~/.pyenv/versions/3.8.6/envs/year_2048/lib/python3.8/site-packages/tensorforce/environments/environment.py\u001b[0m in \u001b[0;36mcreate\u001b[0;34m(environment, max_episode_timesteps, reward_shaping, remote, blocking, host, port, **kwargs)\u001b[0m\n\u001b[1;32m    158\u001b[0m \u001b[0;34m\u001b[0m\u001b[0m\n\u001b[1;32m    159\u001b[0m         \u001b[0;32melif\u001b[0m \u001b[0misinstance\u001b[0m\u001b[0;34m(\u001b[0m\u001b[0menvironment\u001b[0m\u001b[0;34m,\u001b[0m \u001b[0mtype\u001b[0m\u001b[0;34m)\u001b[0m \u001b[0;32mand\u001b[0m \u001b[0missubclass\u001b[0m\u001b[0;34m(\u001b[0m\u001b[0menvironment\u001b[0m\u001b[0;34m,\u001b[0m \u001b[0mEnvironment\u001b[0m\u001b[0;34m)\u001b[0m\u001b[0;34m:\u001b[0m\u001b[0;34m\u001b[0m\u001b[0;34m\u001b[0m\u001b[0m\n\u001b[0;32m--> 160\u001b[0;31m             \u001b[0menvironment\u001b[0m \u001b[0;34m=\u001b[0m \u001b[0menvironment\u001b[0m\u001b[0;34m(\u001b[0m\u001b[0;34m**\u001b[0m\u001b[0mkwargs\u001b[0m\u001b[0;34m)\u001b[0m\u001b[0;34m\u001b[0m\u001b[0;34m\u001b[0m\u001b[0m\n\u001b[0m\u001b[1;32m    161\u001b[0m             \u001b[0;32massert\u001b[0m \u001b[0misinstance\u001b[0m\u001b[0;34m(\u001b[0m\u001b[0menvironment\u001b[0m\u001b[0;34m,\u001b[0m \u001b[0mEnvironment\u001b[0m\u001b[0;34m)\u001b[0m\u001b[0;34m\u001b[0m\u001b[0;34m\u001b[0m\u001b[0m\n\u001b[1;32m    162\u001b[0m             return Environment.create(\n",
      "\u001b[0;32m~/.pyenv/versions/3.8.6/envs/year_2048/lib/python3.8/site-packages/tensorforce/environments/openai_gym.py\u001b[0m in \u001b[0;36m__init__\u001b[0;34m(self, level, visualize, import_modules, min_value, max_value, terminal_reward, reward_threshold, drop_states_indices, visualize_directory, **kwargs)\u001b[0m\n\u001b[1;32m    168\u001b[0m             \u001b[0mself\u001b[0m\u001b[0;34m.\u001b[0m\u001b[0m_max_episode_timesteps\u001b[0m \u001b[0;34m=\u001b[0m \u001b[0;32mNone\u001b[0m\u001b[0;34m\u001b[0m\u001b[0;34m\u001b[0m\u001b[0m\n\u001b[1;32m    169\u001b[0m         \u001b[0;32melse\u001b[0m\u001b[0;34m:\u001b[0m\u001b[0;34m\u001b[0m\u001b[0;34m\u001b[0m\u001b[0m\n\u001b[0;32m--> 170\u001b[0;31m             self.environment, self._max_episode_timesteps = self.__class__.create_level(\n\u001b[0m\u001b[1;32m    171\u001b[0m                 \u001b[0mlevel\u001b[0m\u001b[0;34m=\u001b[0m\u001b[0mself\u001b[0m\u001b[0;34m.\u001b[0m\u001b[0mlevel\u001b[0m\u001b[0;34m,\u001b[0m \u001b[0mmax_episode_steps\u001b[0m\u001b[0;34m=\u001b[0m\u001b[0;32mNone\u001b[0m\u001b[0;34m,\u001b[0m \u001b[0mreward_threshold\u001b[0m\u001b[0;34m=\u001b[0m\u001b[0mreward_threshold\u001b[0m\u001b[0;34m,\u001b[0m\u001b[0;34m\u001b[0m\u001b[0;34m\u001b[0m\u001b[0m\n\u001b[1;32m    172\u001b[0m                 \u001b[0;34m**\u001b[0m\u001b[0mkwargs\u001b[0m\u001b[0;34m\u001b[0m\u001b[0;34m\u001b[0m\u001b[0m\n",
      "\u001b[0;32m~/.pyenv/versions/3.8.6/envs/year_2048/lib/python3.8/site-packages/tensorforce/environments/openai_gym.py\u001b[0m in \u001b[0;36mcreate_level\u001b[0;34m(cls, level, max_episode_steps, reward_threshold, **kwargs)\u001b[0m\n\u001b[1;32m     89\u001b[0m             \u001b[0;32melse\u001b[0m\u001b[0;34m:\u001b[0m\u001b[0;34m\u001b[0m\u001b[0;34m\u001b[0m\u001b[0m\n\u001b[1;32m     90\u001b[0m                 \u001b[0;32mif\u001b[0m \u001b[0mlevel\u001b[0m \u001b[0;32mis\u001b[0m \u001b[0;32mNone\u001b[0m\u001b[0;34m:\u001b[0m\u001b[0;34m\u001b[0m\u001b[0;34m\u001b[0m\u001b[0m\n\u001b[0;32m---> 91\u001b[0;31m                     \u001b[0;32mraise\u001b[0m \u001b[0mTensorforceError\u001b[0m\u001b[0;34m.\u001b[0m\u001b[0mvalue\u001b[0m\u001b[0;34m(\u001b[0m\u001b[0mname\u001b[0m\u001b[0;34m=\u001b[0m\u001b[0;34m'OpenAIGym'\u001b[0m\u001b[0;34m,\u001b[0m \u001b[0margument\u001b[0m\u001b[0;34m=\u001b[0m\u001b[0;34m'level'\u001b[0m\u001b[0;34m,\u001b[0m \u001b[0mvalue\u001b[0m\u001b[0;34m=\u001b[0m\u001b[0mlevel\u001b[0m\u001b[0;34m)\u001b[0m\u001b[0;34m\u001b[0m\u001b[0;34m\u001b[0m\u001b[0m\n\u001b[0m\u001b[1;32m     92\u001b[0m         \u001b[0;32massert\u001b[0m \u001b[0mlevel\u001b[0m \u001b[0;32min\u001b[0m \u001b[0mcls\u001b[0m\u001b[0;34m.\u001b[0m\u001b[0mlevels\u001b[0m\u001b[0;34m(\u001b[0m\u001b[0;34m)\u001b[0m\u001b[0;34m\u001b[0m\u001b[0;34m\u001b[0m\u001b[0m\n\u001b[1;32m     93\u001b[0m \u001b[0;34m\u001b[0m\u001b[0m\n",
      "\u001b[0;31mTensorforceError\u001b[0m: Invalid value for OpenAIGym argument level: None."
     ]
    }
   ],
   "source": [
    "# Pre-defined or custom environment\n",
    "environment = Environment.create(\n",
    "    environment='gym', level='2048-v0', max_episode_timesteps=500\n",
    ")\n",
    "\n",
    "# Instantiate a Tensorforce agent\n",
    "agent = Agent.create(\n",
    "    agent='dqn',\n",
    "    batch_size= 32,\n",
    "    environment=environment,  # alternatively: state, action, (max_episode_timesteps)\n",
    "    memory=10000,\n",
    ")\n",
    "\n",
    "# Train for 300 episodes\n",
    "for _ in range(300):\n",
    "\n",
    "    # Initialize episode\n",
    "    state = environment.reset()\n",
    "    terminal = False\n",
    "    \n",
    "    while not terminal:\n",
    "        # Episode timestep\n",
    "        action = agent.act(states=state)\n",
    "        state, terminal, reward = environment.execute(actions=action)\n",
    "        agent.observe(terminal=terminal, reward=reward)\n",
    "\n",
    "#agent.close()\n",
    "environment.close()"
   ]
  },
  {
   "cell_type": "code",
   "execution_count": 20,
   "id": "a0c6fcb1",
   "metadata": {
    "ExecuteTime": {
     "end_time": "2021-05-24T13:54:06.259437Z",
     "start_time": "2021-05-24T13:54:06.250098Z"
    }
   },
   "outputs": [],
   "source": [
    "test_environment = Environment.create(\n",
    "    environment='gym', level='2048-v0', max_episode_timesteps=500\n",
    ")\n",
    "\n",
    "state = test_environment.reset()\n",
    "terminal = False\n",
    "score = 0"
   ]
  },
  {
   "cell_type": "code",
   "execution_count": 21,
   "id": "d88e5dae",
   "metadata": {
    "ExecuteTime": {
     "end_time": "2021-05-24T13:54:13.746364Z",
     "start_time": "2021-05-24T13:54:13.721265Z"
    }
   },
   "outputs": [
    {
     "data": {
      "text/plain": [
       "4.0"
      ]
     },
     "execution_count": 21,
     "metadata": {},
     "output_type": "execute_result"
    }
   ],
   "source": [
    "while not terminal:\n",
    "    action = agent.act(states=state, independent=True)\n",
    "    state, terminal, reward = test_environment.execute(actions=action)\n",
    "    score += reward\n",
    "score"
   ]
  },
  {
   "cell_type": "code",
   "execution_count": 19,
   "id": "5bd83534",
   "metadata": {
    "ExecuteTime": {
     "end_time": "2021-05-24T13:51:05.617644Z",
     "start_time": "2021-05-24T13:51:05.607642Z"
    }
   },
   "outputs": [
    {
     "data": {
      "text/plain": [
       "16.0"
      ]
     },
     "execution_count": 19,
     "metadata": {},
     "output_type": "execute_result"
    }
   ],
   "source": [
    "score"
   ]
  }
 ],
 "metadata": {
  "kernelspec": {
   "display_name": "Python 3",
   "language": "python",
   "name": "python3"
  },
  "language_info": {
   "codemirror_mode": {
    "name": "ipython",
    "version": 3
   },
   "file_extension": ".py",
   "mimetype": "text/x-python",
   "name": "python",
   "nbconvert_exporter": "python",
   "pygments_lexer": "ipython3",
   "version": "3.8.6"
  },
  "toc": {
   "base_numbering": 1,
   "nav_menu": {},
   "number_sections": true,
   "sideBar": true,
   "skip_h1_title": false,
   "title_cell": "Table of Contents",
   "title_sidebar": "Contents",
   "toc_cell": false,
   "toc_position": {},
   "toc_section_display": true,
   "toc_window_display": false
  }
 },
 "nbformat": 4,
 "nbformat_minor": 5
}
