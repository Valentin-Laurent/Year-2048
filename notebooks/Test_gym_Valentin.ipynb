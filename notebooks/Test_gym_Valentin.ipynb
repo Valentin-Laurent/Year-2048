{
 "cells": [
  {
   "cell_type": "markdown",
   "id": "1d075181",
   "metadata": {
    "ExecuteTime": {
     "end_time": "2021-05-25T13:22:42.227452Z",
     "start_time": "2021-05-25T13:22:42.222872Z"
    },
    "heading_collapsed": true
   },
   "source": [
    "# Imports"
   ]
  },
  {
   "cell_type": "code",
   "execution_count": null,
   "id": "19b408a7",
   "metadata": {
    "ExecuteTime": {
     "end_time": "2021-05-25T13:19:08.695502Z",
     "start_time": "2021-05-25T13:19:08.263767Z"
    },
    "hidden": true
   },
   "outputs": [],
   "source": [
    "import gym_2048\n",
    "from tensorforce import Agent, Environment\n",
    "import numpy as np\n",
    "from matplotlib.pyplot import imshow\n",
    "%load_ext tensorboard"
   ]
  },
  {
   "cell_type": "markdown",
   "id": "83be51e2",
   "metadata": {
    "ExecuteTime": {
     "end_time": "2021-05-25T13:23:07.931146Z",
     "start_time": "2021-05-25T13:23:07.926389Z"
    },
    "heading_collapsed": true
   },
   "source": [
    "# Useful code snippets"
   ]
  },
  {
   "cell_type": "markdown",
   "id": "4a177af0",
   "metadata": {
    "hidden": true
   },
   "source": [
    "Render \"beautiful\" 2048 grid:\n",
    "\n",
    "`imshow(environment._environment.environment.render(mode=\"rgb_array\"))`\n",
    "\n",
    "Illegal move reward:\n",
    "\n",
    "`environment._environment.environment.set_illegal_move_reward(-10)`\n",
    "\n",
    "Log2 reward:\n",
    "\n",
    "`log2_reward = reward if reward <= 0 else np.log2(reward)`\n",
    "\n",
    "Show TensorBoard graphs:\n",
    "\n",
    "`%tensorboard --logdir summaries` (with parameter `summarizer=dict(directory='summaries')` in the `Agent.create()` method)"
   ]
  },
  {
   "cell_type": "markdown",
   "id": "56b295b1",
   "metadata": {
    "heading_collapsed": true
   },
   "source": [
    "# Hyperparams to test"
   ]
  },
  {
   "cell_type": "markdown",
   "id": "e212c99b",
   "metadata": {
    "hidden": true
   },
   "source": [
    "`exploration`\n",
    "\n",
    "`learning_rate`\n",
    "\n",
    "Negative reward for illegal moves: `environment._environment.environment.set_illegal_move_reward(-1)`\n",
    "\n",
    "`target_sync_frequency`\n",
    "\n",
    "`batch_size` & `update_frequency`\n",
    "\n",
    "Constant reward / Log reward"
   ]
  },
  {
   "cell_type": "markdown",
   "id": "39ed525d",
   "metadata": {
    "heading_collapsed": true
   },
   "source": [
    "# Default hyper params test"
   ]
  },
  {
   "cell_type": "code",
   "execution_count": null,
   "id": "3b0ac30e",
   "metadata": {
    "ExecuteTime": {
     "start_time": "2021-05-25T15:52:33.076Z"
    },
    "hidden": true
   },
   "outputs": [
    {
     "name": "stdout",
     "output_type": "stream",
     "text": [
      "Episode 0: terminal = 1, updates=70, max_tile=64, invalid_moves=183\n",
      "Episode 1: terminal = 1, updates=83, max_tile=128, invalid_moves=220\n",
      "Episode 2: terminal = 1, updates=92, max_tile=64, invalid_moves=254\n",
      "Episode 3: terminal = 1, updates=59, max_tile=64, invalid_moves=154\n",
      "Episode 4: terminal = 1, updates=104, max_tile=128, invalid_moves=284\n",
      "Episode 5: terminal = 1, updates=50, max_tile=64, invalid_moves=133\n",
      "Episode 6: terminal = 1, updates=95, max_tile=128, invalid_moves=249\n",
      "Episode 7: terminal = 1, updates=49, max_tile=32, invalid_moves=131\n",
      "Episode 8: terminal = 1, updates=58, max_tile=64, invalid_moves=158\n",
      "Episode 9: terminal = 1, updates=144, max_tile=128, invalid_moves=438\n",
      "Episode 10: terminal = 1, updates=113, max_tile=128, invalid_moves=343\n",
      "Episode 11: terminal = 1, updates=56, max_tile=64, invalid_moves=146\n",
      "Episode 12: terminal = 1, updates=107, max_tile=128, invalid_moves=306\n",
      "Episode 13: terminal = 1, updates=88, max_tile=128, invalid_moves=192\n",
      "Episode 14: terminal = 1, updates=111, max_tile=128, invalid_moves=327\n",
      "Episode 15: terminal = 1, updates=144, max_tile=128, invalid_moves=436\n",
      "Episode 16: terminal = 1, updates=70, max_tile=64, invalid_moves=190\n",
      "Episode 17: terminal = 1, updates=94, max_tile=64, invalid_moves=274\n",
      "Episode 18: terminal = 1, updates=83, max_tile=128, invalid_moves=235\n",
      "Episode 19: terminal = 1, updates=154, max_tile=128, invalid_moves=489\n",
      "Episode 20: terminal = 1, updates=66, max_tile=64, invalid_moves=191\n",
      "Episode 21: terminal = 1, updates=131, max_tile=64, invalid_moves=434\n",
      "Episode 22: terminal = 1, updates=136, max_tile=128, invalid_moves=443\n",
      "Episode 23: terminal = 1, updates=122, max_tile=128, invalid_moves=344\n",
      "Episode 24: terminal = 1, updates=128, max_tile=64, invalid_moves=418\n",
      "Episode 25: terminal = 1, updates=92, max_tile=128, invalid_moves=270\n",
      "Episode 26: terminal = 1, updates=108, max_tile=64, invalid_moves=341\n",
      "Episode 27: terminal = 1, updates=191, max_tile=128, invalid_moves=594\n",
      "Episode 28: terminal = 1, updates=137, max_tile=64, invalid_moves=432\n",
      "Episode 29: terminal = 1, updates=103, max_tile=128, invalid_moves=307\n",
      "Episode 30: terminal = 1, updates=156, max_tile=128, invalid_moves=447\n",
      "Episode 31: terminal = 1, updates=166, max_tile=128, invalid_moves=501\n",
      "Episode 32: terminal = 1, updates=155, max_tile=64, invalid_moves=516\n",
      "Episode 33: terminal = 1, updates=105, max_tile=128, invalid_moves=318\n",
      "Episode 34: terminal = 1, updates=112, max_tile=64, invalid_moves=347\n",
      "Episode 35: terminal = 1, updates=198, max_tile=128, invalid_moves=641\n",
      "Episode 36: terminal = 1, updates=120, max_tile=128, invalid_moves=338\n",
      "Episode 37: terminal = 1, updates=86, max_tile=64, invalid_moves=257\n",
      "Episode 38: terminal = 1, updates=106, max_tile=128, invalid_moves=294\n",
      "Episode 39: terminal = 1, updates=185, max_tile=128, invalid_moves=592\n",
      "Episode 40: terminal = 1, updates=108, max_tile=128, invalid_moves=296\n",
      "Episode 41: terminal = 1, updates=85, max_tile=64, invalid_moves=236\n",
      "Episode 42: terminal = 1, updates=48, max_tile=32, invalid_moves=126\n",
      "Episode 43: terminal = 1, updates=67, max_tile=64, invalid_moves=174\n",
      "Episode 44: terminal = 1, updates=125, max_tile=128, invalid_moves=381\n",
      "Episode 45: terminal = 1, updates=82, max_tile=64, invalid_moves=247\n",
      "Episode 46: terminal = 1, updates=83, max_tile=128, invalid_moves=215\n",
      "Episode 47: terminal = 1, updates=61, max_tile=32, invalid_moves=181\n",
      "Episode 48: terminal = 1, updates=95, max_tile=64, invalid_moves=267\n",
      "Episode 49: terminal = 1, updates=94, max_tile=128, invalid_moves=242\n",
      "Episode 50: terminal = 1, updates=118, max_tile=128, invalid_moves=339\n",
      "Episode 51: terminal = 1, updates=47, max_tile=64, invalid_moves=104\n",
      "Episode 52: terminal = 1, updates=132, max_tile=128, invalid_moves=385\n",
      "Episode 53: terminal = 1, updates=105, max_tile=128, invalid_moves=308\n",
      "Episode 54: terminal = 1, updates=100, max_tile=64, invalid_moves=308\n",
      "Episode 55: terminal = 1, updates=68, max_tile=64, invalid_moves=194\n",
      "Episode 56: terminal = 1, updates=58, max_tile=32, invalid_moves=176\n",
      "Episode 57: terminal = 1, updates=108, max_tile=64, invalid_moves=329\n",
      "Episode 58: terminal = 1, updates=141, max_tile=128, invalid_moves=395\n",
      "Episode 59: terminal = 1, updates=54, max_tile=32, invalid_moves=141\n",
      "Episode 60: terminal = 1, updates=46, max_tile=64, invalid_moves=112\n",
      "Episode 61: terminal = 1, updates=92, max_tile=64, invalid_moves=267\n",
      "Episode 62: terminal = 1, updates=120, max_tile=64, invalid_moves=392\n",
      "Episode 63: terminal = 1, updates=77, max_tile=64, invalid_moves=221\n",
      "Episode 64: terminal = 1, updates=78, max_tile=32, invalid_moves=260\n",
      "Episode 65: terminal = 2, updates=250, max_tile=256, invalid_moves=785\n",
      "Episode 66: terminal = 1, updates=182, max_tile=128, invalid_moves=579\n",
      "Episode 67: terminal = 1, updates=136, max_tile=128, invalid_moves=441\n",
      "Episode 68: terminal = 1, updates=87, max_tile=64, invalid_moves=267\n",
      "Episode 69: terminal = 1, updates=59, max_tile=64, invalid_moves=146\n",
      "Episode 70: terminal = 1, updates=128, max_tile=128, invalid_moves=379\n",
      "Episode 71: terminal = 1, updates=138, max_tile=128, invalid_moves=414\n",
      "Episode 72: terminal = 1, updates=89, max_tile=32, invalid_moves=276\n",
      "Episode 73: terminal = 1, updates=89, max_tile=32, invalid_moves=282\n",
      "Episode 74: terminal = 1, updates=214, max_tile=128, invalid_moves=695\n",
      "Episode 75: terminal = 1, updates=90, max_tile=64, invalid_moves=271\n",
      "Episode 76: terminal = 1, updates=137, max_tile=64, invalid_moves=447\n",
      "Episode 77: terminal = 1, updates=183, max_tile=256, invalid_moves=562\n"
     ]
    }
   ],
   "source": [
    "environment = Environment.create(\n",
    "    environment='gym', level='2048-v0', max_episode_timesteps=1000\n",
    ")\n",
    "\n",
    "# Defaut hyperparams\n",
    "agent = Agent.create(\n",
    "    agent='dqn',\n",
    "    batch_size=16, # Required by Tensorforce\n",
    "    update_frequency=4, # Update frequency, TensorForce default : batch_size * 0.25\n",
    "    environment=environment,\n",
    "    learning_rate = 0.001, # (TensorForce default)\n",
    "    discount = 0.99, # (TensorForce default)\n",
    "    memory=10000,\n",
    "    exploration=0.1, # (0 is the TensorForce default)\n",
    "    target_sync_frequency=4, # (1 is the TensorForce default)\n",
    "    summarizer=dict(directory='summaries')\n",
    ")\n",
    "\n",
    "max_tiles = []\n",
    "scores = []\n",
    "\n",
    "for episode in range(100):\n",
    "    state = environment.reset()\n",
    "    state_freeze = state.copy()\n",
    "    terminal = False\n",
    "    num_updates = 0\n",
    "    invalid_moves = 0\n",
    "    while not terminal:\n",
    "        action = agent.act(states=state)\n",
    "        state, terminal, reward = environment.execute(actions=action)\n",
    "        if (state == state_freeze).all():\n",
    "            invalid_moves += 1\n",
    "        state_freeze = state.copy()\n",
    "        log2_reward = reward if reward <= 0 else np.log2(reward)\n",
    "        num_updates += agent.observe(terminal=terminal, reward=log2_reward)\n",
    "    max_tiles.append(environment._environment.environment.Matrix.max())\n",
    "    scores.append(environment._environment.environment.score)\n",
    "    print('Episode {}: terminal = {}, updates={}, max_tile={}, invalid_moves={}'.format(episode, terminal, num_updates, max_tiles[-1], invalid_moves))\n",
    "agent.close()\n",
    "environment.close()\n",
    "print(np.mean(scores[-100:]))"
   ]
  },
  {
   "cell_type": "code",
   "execution_count": 107,
   "id": "df6145f0",
   "metadata": {
    "ExecuteTime": {
     "end_time": "2021-05-25T14:39:51.991093Z",
     "start_time": "2021-05-25T14:39:51.976208Z"
    },
    "collapsed": true,
    "hidden": true
   },
   "outputs": [
    {
     "data": {
      "text/plain": [
       "Reusing TensorBoard on port 6006 (pid 49950), started 4:02:08 ago. (Use '!kill 49950' to kill it.)"
      ]
     },
     "metadata": {},
     "output_type": "display_data"
    },
    {
     "data": {
      "text/html": [
       "\n",
       "      <iframe id=\"tensorboard-frame-d978c10a7724619b\" width=\"100%\" height=\"800\" frameborder=\"0\">\n",
       "      </iframe>\n",
       "      <script>\n",
       "        (function() {\n",
       "          const frame = document.getElementById(\"tensorboard-frame-d978c10a7724619b\");\n",
       "          const url = new URL(\"/\", window.location);\n",
       "          const port = 6006;\n",
       "          if (port) {\n",
       "            url.port = port;\n",
       "          }\n",
       "          frame.src = url;\n",
       "        })();\n",
       "      </script>\n",
       "    "
      ],
      "text/plain": [
       "<IPython.core.display.HTML object>"
      ]
     },
     "metadata": {},
     "output_type": "display_data"
    }
   ],
   "source": [
    "%tensorboard --logdir summaries"
   ]
  },
  {
   "cell_type": "markdown",
   "id": "8596373c",
   "metadata": {
    "ExecuteTime": {
     "end_time": "2021-05-25T15:26:47.015574Z",
     "start_time": "2021-05-25T15:26:47.007913Z"
    },
    "heading_collapsed": true
   },
   "source": [
    "# Custom hyper params test"
   ]
  }
 ],
 "metadata": {
  "kernelspec": {
   "display_name": "Python 3",
   "language": "python",
   "name": "python3"
  },
  "language_info": {
   "codemirror_mode": {
    "name": "ipython",
    "version": 3
   },
   "file_extension": ".py",
   "mimetype": "text/x-python",
   "name": "python",
   "nbconvert_exporter": "python",
   "pygments_lexer": "ipython3",
   "version": "3.8.6"
  },
  "toc": {
   "base_numbering": 1,
   "nav_menu": {},
   "number_sections": true,
   "sideBar": true,
   "skip_h1_title": false,
   "title_cell": "Table of Contents",
   "title_sidebar": "Contents",
   "toc_cell": false,
   "toc_position": {},
   "toc_section_display": true,
   "toc_window_display": false
  }
 },
 "nbformat": 4,
 "nbformat_minor": 5
}
