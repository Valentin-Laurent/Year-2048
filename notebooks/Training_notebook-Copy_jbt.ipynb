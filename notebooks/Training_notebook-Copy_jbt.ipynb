{
 "cells": [
  {
   "cell_type": "markdown",
   "id": "b184a774",
   "metadata": {
    "ExecuteTime": {
     "end_time": "2021-05-25T13:22:42.227452Z",
     "start_time": "2021-05-25T13:22:42.222872Z"
    }
   },
   "source": [
    "# Import"
   ]
  },
  {
   "cell_type": "code",
   "execution_count": 22,
   "id": "7c400da7",
   "metadata": {
    "ExecuteTime": {
     "end_time": "2021-05-29T17:50:08.923199Z",
     "start_time": "2021-05-29T17:50:08.907734Z"
    }
   },
   "outputs": [
    {
     "name": "stdout",
     "output_type": "stream",
     "text": [
      "The tensorboard extension is already loaded. To reload it, use:\n",
      "  %reload_ext tensorboard\n"
     ]
    }
   ],
   "source": [
    "import time\n",
    "import gym_2048\n",
    "from tensorforce import Agent, Environment\n",
    "import numpy as np\n",
    "import seaborn as sns\n",
    "import matplotlib.pyplot as plt\n",
    "import pandas as pd\n",
    "import json\n",
    "%load_ext tensorboard\n",
    "\n",
    "# import pour visualiser les parties\n",
    "from IPython.display import display, HTML\n",
    "from IPython.display import clear_output"
   ]
  },
  {
   "cell_type": "markdown",
   "id": "3f834cc8",
   "metadata": {},
   "source": [
    "# Plotting utils"
   ]
  },
  {
   "cell_type": "code",
   "execution_count": 2,
   "id": "6d9f9f8f",
   "metadata": {
    "ExecuteTime": {
     "end_time": "2021-05-29T06:39:14.731828Z",
     "start_time": "2021-05-29T06:39:14.727561Z"
    }
   },
   "outputs": [],
   "source": [
    "# fonction pour ranger en ordre croissant un dico dans le but de le plotter avec plt\n",
    "def sort_dico(dico):\n",
    "    dico_sorted={}\n",
    "    for k,v in dict(sorted(dico.items())).items():\n",
    "        k_str = str(k)\n",
    "        dico_sorted[k_str] = v\n",
    "\n",
    "    return dico_sorted"
   ]
  },
  {
   "cell_type": "code",
   "execution_count": 3,
   "id": "1a065b63",
   "metadata": {
    "ExecuteTime": {
     "end_time": "2021-05-29T06:39:17.032282Z",
     "start_time": "2021-05-29T06:39:17.025933Z"
    }
   },
   "outputs": [],
   "source": [
    "# fonction pour plotter la distribution des scores et des max tiles\n",
    "# à utiliser avec la fonction de test 'test_agent' et ce qu'elle retourne\n",
    "# dico_sorted = sort_dico(dico_max_tiles_distribution)\n",
    "# rewards = liste_score\n",
    "\n",
    "def plot_metrics(dico_sorted,rewards):\n",
    "    plt.figure(figsize=(14, 4))\n",
    "\n",
    "    plt.subplot(1, 2, 1)\n",
    "    plt.title('Max tile distribution')\n",
    "    plt.bar(*zip(*dico_sorted.items()))\n",
    "\n",
    "    plt.subplot(1, 2, 2)\n",
    "    plt.title('Score distribution')\n",
    "    sns.histplot(rewards, kde=True)\n",
    "\n",
    "    print(f'Mean score over the test: {np.mean(rewards)}')\n",
    "    print(f'Median score over the test: {np.median(rewards)}')\n",
    "    print(f'Std score over the test: {np.std(rewards)}')\n",
    "    print(f'Max tile over the test: {max([int(bins) for bins in dico_sorted.keys()])}')"
   ]
  },
  {
   "cell_type": "code",
   "execution_count": 23,
   "id": "310119ae",
   "metadata": {
    "ExecuteTime": {
     "end_time": "2021-05-29T17:51:00.183255Z",
     "start_time": "2021-05-29T17:51:00.170901Z"
    }
   },
   "outputs": [],
   "source": [
    "# fonction pour imprimer les parties avec un visuel proche de celui du jeu 2048\n",
    "\n",
    "def pretty_print(layout):\n",
    "    from math import log2\n",
    "    def parse_color(cell_value):\n",
    "        if cell_value>0:\n",
    "            colors = [\"#EEE4DA\", \"#ECE0CA\", \"#F2B179\", \"#F59565\", \"#F57C5F\", \"#F65D3B\", \"#EDCE71\", \"#EDCC63\", \"#EDC850\", \"#EDC53F\", \"#EEC22E\", \"#3E3933\"]\n",
    "            return colors[int(log2(cell_value))-1]\n",
    "        else:\n",
    "            return \"#CDC0B4\"\n",
    "\n",
    "    def cell_block(cell_value):\n",
    "        return '''\n",
    "        <td style=font-size:{}px;background-color:#BBADA0;text-align:center;width:100%>\n",
    "            <div style=color:#776E65;background-color:{};width:60px;height:60px;margin:auto;display:flex;align-items:center;justify-content:center;border-radius:6px;font-family:serif;font-size:medium><strong>{}</strong>\n",
    "            </div>\n",
    "        </td>'''.format('1', parse_color(cell_value), cell_value if cell_value>0 else '')\n",
    "    return '''\n",
    "            <div style=background-color:#BBADA0;width:300px;height:300px>\n",
    "            <table style=width:100%;height:100%>\n",
    "              <tr>\n",
    "                {}\n",
    "                </tr>\n",
    "              <tr>\n",
    "              {}\n",
    "              </tr>\n",
    "              <tr>\n",
    "              {}\n",
    "              </tr>\n",
    "              <tr>\n",
    "              {}\n",
    "              </tr>\n",
    "            </table>\n",
    "            </div>\n",
    "            '''.format('\\n'.join([cell_block(val) for val in layout[0,:]]),\n",
    "                      '\\n'.join([cell_block(val) for val in layout[1,:]]),\n",
    "                       '\\n'.join([cell_block(val) for val in layout[2,:]]),\n",
    "                       '\\n'.join([cell_block(val) for val in layout[3,:]]))\n"
   ]
  },
  {
   "cell_type": "markdown",
   "id": "a8f7ad4f",
   "metadata": {
    "ExecuteTime": {
     "end_time": "2021-05-25T13:23:07.931146Z",
     "start_time": "2021-05-25T13:23:07.926389Z"
    }
   },
   "source": [
    "# Useful code snippets"
   ]
  },
  {
   "cell_type": "markdown",
   "id": "83046448",
   "metadata": {},
   "source": [
    "Render \"beautiful\" 2048 grid:\n",
    "\n",
    "`plt.imshow(environment._environment.environment.render(mode=\"rgb_array\"))`\n",
    "\n",
    "Illegal move reward:\n",
    "\n",
    "`environment._environment.environment.set_illegal_move_reward(-10)`\n",
    "\n",
    "Log2 reward:\n",
    "\n",
    "`log2_reward = reward if reward <= 0 else np.log2(reward)`\n",
    "\n",
    "Show TensorBoard graphs:\n",
    "\n",
    "`%tensorboard --logdir summaries` (with parameter `summarizer=dict(directory='summaries')` in the `Agent.create()` method)"
   ]
  },
  {
   "cell_type": "markdown",
   "id": "e7e12eea",
   "metadata": {},
   "source": [
    "# Training functions"
   ]
  },
  {
   "cell_type": "code",
   "execution_count": 4,
   "id": "2d3f64d7",
   "metadata": {
    "ExecuteTime": {
     "end_time": "2021-05-29T06:39:30.229428Z",
     "start_time": "2021-05-29T06:39:30.223812Z"
    }
   },
   "outputs": [],
   "source": [
    "def create_agent_and_env(env_params, agent_params):\n",
    "    agent_name = agent_params[\"agent_name\"]\n",
    "    agent_params_ = dict(agent_params)\n",
    "    del agent_params_[\"agent_name\"] # A TensorForce agent doesn't take name as a parameter\n",
    "    \n",
    "    \n",
    "    # create a 2048 environment\n",
    "    environment = Environment.create(\n",
    "        environment = 'gym'\n",
    "        , level = '2048-v0'\n",
    "    )\n",
    "\n",
    "    # create an agent\n",
    "    agent = Agent.create(\n",
    "        agent = 'dqn',\n",
    "        environment = environment,\n",
    "        **agent_params_,\n",
    "        summarizer = dict(directory=f'training_logs/{agent_params[\"agent_name\"]}/TensorBoard',\n",
    "                          summaries=[\"episode-reward\"])\n",
    "    )\n",
    "    return (environment, agent)"
   ]
  },
  {
   "cell_type": "code",
   "execution_count": 5,
   "id": "3b0ac30e",
   "metadata": {
    "ExecuteTime": {
     "end_time": "2021-05-29T06:39:32.717176Z",
     "start_time": "2021-05-29T06:39:32.705953Z"
    }
   },
   "outputs": [],
   "source": [
    "def train_agent(environment, agent, num_episodes, print_freq, agent_name, training_round = 0):\n",
    "\n",
    "    # instantiate lists to record global training metrics\n",
    "    max_tiles = []\n",
    "    scores = []\n",
    "    updates = []\n",
    "    valid_moves = []\n",
    "    run_time = []\n",
    "    start_training_time = time.time()\n",
    "\n",
    "    for episode in range(num_episodes):\n",
    "        state = environment.reset()\n",
    "        terminal = False\n",
    "\n",
    "        #Checking metrics while training\n",
    "        state_freeze = state.copy()\n",
    "        num_updates = 0\n",
    "        num_moves = 0\n",
    "        invalid_moves = 0\n",
    "        start_episode_time = time.time()\n",
    "\n",
    "        while not terminal:\n",
    "            #Core\n",
    "            action = agent.act(states=dict(state=state,  action_mask=environment._environment.environment.get_invalid_moves()))\n",
    "            state, terminal, reward = environment.execute(actions=action)\n",
    "            log2_reward = reward if reward <= 0 else np.log2(reward)\n",
    "            num_updates += agent.observe(terminal=terminal, reward=log2_reward)\n",
    "\n",
    "            #Number of moves\n",
    "            num_moves += 1\n",
    "\n",
    "            #Number of invalid moves\n",
    "            if (state == state_freeze).all():\n",
    "                invalid_moves += 1\n",
    "            state_freeze = state.copy()\n",
    "\n",
    "        # Storing score and max tile\n",
    "        max_tiles.append(environment._environment.environment.Matrix.max())\n",
    "        scores.append(environment._environment.environment.score)\n",
    "        updates.append(num_updates)\n",
    "        valid_moves.append(num_moves)\n",
    "        run_time.append(round(time.time() - start_episode_time,2))\n",
    "\n",
    "        if episode % print_freq == 0:\n",
    "            print('Episode {}: score = {}, terminal = {}, updates={}, max_tile={}, valid_moves={}, invalid_moves={}, seconds={}'\\\n",
    "                  .format(episode, environment._environment.environment.score , terminal, num_updates, max_tiles[-1], num_moves-invalid_moves, invalid_moves, round(time.time() - start_episode_time,2)))\n",
    "    \n",
    "    # Saving agent\n",
    "    agent.save(f'training_logs/{agent_name}/agent_round{training_round}', filename=agent_name)\n",
    "    \n",
    "    # Saving metrics\n",
    "    metrics_dict = {\n",
    "        'max_tiles': max_tiles\n",
    "        , 'scores': scores\n",
    "        , 'updates': updates\n",
    "        , 'valid_moves': valid_moves\n",
    "        , 'run_time' : run_time\n",
    "    }\n",
    "    metrics_df = pd.DataFrame(metrics_dict)\n",
    "    metrics_path = f'training_logs/{agent_name}/metrics_round{training_round}_({episode}episodes).csv'\n",
    "    metrics_df.to_csv(metrics_path)\n",
    "    \n",
    "    return (metrics_df, agent)"
   ]
  },
  {
   "cell_type": "code",
   "execution_count": 6,
   "id": "a48b28d6",
   "metadata": {
    "ExecuteTime": {
     "end_time": "2021-05-29T06:39:36.390562Z",
     "start_time": "2021-05-29T06:39:36.384206Z"
    }
   },
   "outputs": [],
   "source": [
    "def save_params(agent_params, env_params):\n",
    "    all_params = {\n",
    "        \"agent_params\": agent_params,\n",
    "        \"env_params\": env_params,\n",
    "    }\n",
    "    \n",
    "    directory_path = f'training_logs/{agent_params[\"agent_name\"]}'\n",
    "    !mkdir -p $directory_path\n",
    "    \n",
    "    file_name = f'training_logs/{agent_params[\"agent_name\"]}/params.json'\n",
    "    with open(file_name, 'w') as fp:\n",
    "            json.dump(all_params, fp)"
   ]
  },
  {
   "cell_type": "markdown",
   "id": "fa503b4b",
   "metadata": {},
   "source": [
    "# Training"
   ]
  },
  {
   "cell_type": "code",
   "execution_count": 7,
   "id": "38790d3a",
   "metadata": {
    "ExecuteTime": {
     "end_time": "2021-05-29T06:40:16.001483Z",
     "start_time": "2021-05-29T06:39:57.998774Z"
    },
    "scrolled": false
   },
   "outputs": [
    {
     "name": "stdout",
     "output_type": "stream",
     "text": [
      "Agent name (only letter, digits and underscores). NO SPACE: APG_test_0\n"
     ]
    }
   ],
   "source": [
    "agent_params = {\n",
    "    \"agent_name\": input(\"Agent name (only letter, digits and underscores). NO SPACE: \"),\n",
    "    'batch_size': 16,\n",
    "    'update_frequency': 4,\n",
    "    'learning_rate': 0.0001,\n",
    "    'discount': 0.99,\n",
    "    'memory': 10000,\n",
    "    'exploration': 0.05,\n",
    "    'target_sync_frequency': 4,\n",
    "    'horizon': 1\n",
    "}\n",
    "\n",
    "env_params = {\n",
    "    'max_episode_timesteps': 10000\n",
    "}\n",
    "\n",
    "if \" \" in agent_params[\"agent_name\"]:\n",
    "    print (\"NO SPACE\")\n",
    "    agent_params = 0"
   ]
  },
  {
   "cell_type": "code",
   "execution_count": 8,
   "id": "06199bc9",
   "metadata": {
    "ExecuteTime": {
     "end_time": "2021-05-29T06:40:19.124482Z",
     "start_time": "2021-05-29T06:40:18.986340Z"
    }
   },
   "outputs": [],
   "source": [
    "# Saving params to .json in training_logs folder\n",
    "save_params(agent_params, env_params)"
   ]
  },
  {
   "cell_type": "code",
   "execution_count": 9,
   "id": "b368a703",
   "metadata": {
    "ExecuteTime": {
     "end_time": "2021-05-29T06:40:23.063540Z",
     "start_time": "2021-05-29T06:40:22.553621Z"
    }
   },
   "outputs": [],
   "source": [
    "# Creating agent and environnement\n",
    "environment, agent = create_agent_and_env(env_params, agent_params)"
   ]
  },
  {
   "cell_type": "code",
   "execution_count": 60,
   "id": "70628737",
   "metadata": {
    "ExecuteTime": {
     "end_time": "2021-05-30T18:18:38.837368Z",
     "start_time": "2021-05-30T16:05:48.417832Z"
    }
   },
   "outputs": [
    {
     "name": "stdout",
     "output_type": "stream",
     "text": [
      "Episode 0: score = 11208.0, terminal = 1, updates=161, max_tile=1024, valid_moves=646, invalid_moves=0, seconds=3.52\n",
      "Episode 100: score = 3448.0, terminal = 1, updates=71, max_tile=256, valid_moves=287, invalid_moves=0, seconds=1.21\n",
      "Episode 200: score = 3404.0, terminal = 1, updates=71, max_tile=256, valid_moves=286, invalid_moves=0, seconds=1.2\n",
      "Episode 300: score = 5408.0, terminal = 1, updates=92, max_tile=512, valid_moves=370, invalid_moves=0, seconds=1.57\n",
      "Episode 400: score = 11424.0, terminal = 1, updates=168, max_tile=1024, valid_moves=673, invalid_moves=0, seconds=2.84\n",
      "Episode 500: score = 3564.0, terminal = 1, updates=74, max_tile=256, valid_moves=296, invalid_moves=0, seconds=1.25\n",
      "Episode 600: score = 3668.0, terminal = 1, updates=75, max_tile=256, valid_moves=300, invalid_moves=0, seconds=1.28\n",
      "Episode 700: score = 1984.0, terminal = 1, updates=50, max_tile=128, valid_moves=200, invalid_moves=0, seconds=0.85\n",
      "Episode 800: score = 3128.0, terminal = 1, updates=64, max_tile=256, valid_moves=256, invalid_moves=0, seconds=1.08\n",
      "Episode 900: score = 8272.0, terminal = 1, updates=144, max_tile=512, valid_moves=576, invalid_moves=0, seconds=2.43\n",
      "Episode 1000: score = 10380.0, terminal = 1, updates=151, max_tile=1024, valid_moves=607, invalid_moves=0, seconds=2.58\n",
      "Episode 1100: score = 2068.0, terminal = 1, updates=49, max_tile=128, valid_moves=198, invalid_moves=0, seconds=0.84\n",
      "Episode 1200: score = 12544.0, terminal = 1, updates=186, max_tile=1024, valid_moves=745, invalid_moves=0, seconds=3.15\n",
      "Episode 1300: score = 7524.0, terminal = 1, updates=129, max_tile=512, valid_moves=518, invalid_moves=0, seconds=2.21\n",
      "Episode 1400: score = 7956.0, terminal = 1, updates=132, max_tile=512, valid_moves=530, invalid_moves=0, seconds=2.23\n",
      "Episode 1500: score = 5800.0, terminal = 1, updates=101, max_tile=512, valid_moves=407, invalid_moves=0, seconds=1.74\n",
      "Episode 1600: score = 3804.0, terminal = 1, updates=77, max_tile=256, valid_moves=308, invalid_moves=0, seconds=1.32\n",
      "Episode 1700: score = 1588.0, terminal = 1, updates=41, max_tile=128, valid_moves=165, invalid_moves=0, seconds=0.71\n",
      "Episode 1800: score = 1104.0, terminal = 1, updates=33, max_tile=64, valid_moves=133, invalid_moves=0, seconds=0.57\n",
      "Episode 1900: score = 3848.0, terminal = 1, updates=76, max_tile=256, valid_moves=307, invalid_moves=0, seconds=1.3\n",
      "Episode 2000: score = 9984.0, terminal = 1, updates=139, max_tile=1024, valid_moves=558, invalid_moves=0, seconds=2.37\n",
      "Episode 2100: score = 2632.0, terminal = 1, updates=55, max_tile=256, valid_moves=223, invalid_moves=0, seconds=0.95\n",
      "Episode 2200: score = 5632.0, terminal = 1, updates=99, max_tile=512, valid_moves=397, invalid_moves=0, seconds=1.69\n",
      "Episode 2300: score = 7164.0, terminal = 1, updates=122, max_tile=512, valid_moves=491, invalid_moves=0, seconds=2.08\n",
      "Episode 2400: score = 7596.0, terminal = 1, updates=130, max_tile=512, valid_moves=523, invalid_moves=0, seconds=2.21\n",
      "Episode 2500: score = 3008.0, terminal = 1, updates=59, max_tile=256, valid_moves=237, invalid_moves=0, seconds=1.01\n",
      "Episode 2600: score = 2568.0, terminal = 1, updates=53, max_tile=256, valid_moves=212, invalid_moves=0, seconds=0.9\n",
      "Episode 2700: score = 8164.0, terminal = 1, updates=142, max_tile=512, valid_moves=568, invalid_moves=0, seconds=2.39\n",
      "Episode 2800: score = 1908.0, terminal = 1, updates=47, max_tile=128, valid_moves=190, invalid_moves=0, seconds=0.8\n",
      "Episode 2900: score = 2860.0, terminal = 1, updates=58, max_tile=256, valid_moves=232, invalid_moves=0, seconds=0.99\n",
      "Episode 3000: score = 2936.0, terminal = 1, updates=59, max_tile=256, valid_moves=236, invalid_moves=0, seconds=1.0\n",
      "Episode 3100: score = 5836.0, terminal = 1, updates=104, max_tile=512, valid_moves=418, invalid_moves=0, seconds=1.8\n",
      "Episode 3200: score = 5600.0, terminal = 1, updates=98, max_tile=512, valid_moves=393, invalid_moves=0, seconds=1.67\n",
      "Episode 3300: score = 2380.0, terminal = 1, updates=50, max_tile=256, valid_moves=203, invalid_moves=0, seconds=0.85\n",
      "Episode 3400: score = 4112.0, terminal = 1, updates=80, max_tile=256, valid_moves=322, invalid_moves=0, seconds=1.35\n",
      "Episode 3500: score = 5244.0, terminal = 1, updates=101, max_tile=256, valid_moves=405, invalid_moves=0, seconds=1.72\n",
      "Episode 3600: score = 1912.0, terminal = 1, updates=44, max_tile=128, valid_moves=176, invalid_moves=0, seconds=0.75\n",
      "Episode 3700: score = 6368.0, terminal = 1, updates=107, max_tile=512, valid_moves=431, invalid_moves=0, seconds=1.83\n",
      "Episode 3800: score = 5484.0, terminal = 1, updates=94, max_tile=512, valid_moves=377, invalid_moves=0, seconds=1.77\n",
      "Episode 3900: score = 1512.0, terminal = 1, updates=38, max_tile=128, valid_moves=155, invalid_moves=0, seconds=0.69\n",
      "Episode 4000: score = 6688.0, terminal = 1, updates=111, max_tile=512, valid_moves=445, invalid_moves=0, seconds=1.88\n",
      "Episode 4100: score = 3120.0, terminal = 1, updates=64, max_tile=256, valid_moves=257, invalid_moves=0, seconds=1.11\n",
      "Episode 4200: score = 9624.0, terminal = 1, updates=137, max_tile=1024, valid_moves=548, invalid_moves=0, seconds=2.31\n",
      "Episode 4300: score = 772.0, terminal = 1, updates=25, max_tile=64, valid_moves=101, invalid_moves=0, seconds=0.44\n",
      "Episode 4400: score = 4204.0, terminal = 1, updates=85, max_tile=256, valid_moves=342, invalid_moves=0, seconds=1.45\n",
      "Episode 4500: score = 7256.0, terminal = 1, updates=123, max_tile=512, valid_moves=495, invalid_moves=0, seconds=2.12\n",
      "Episode 4600: score = 5908.0, terminal = 1, updates=104, max_tile=512, valid_moves=416, invalid_moves=0, seconds=1.91\n",
      "Episode 4700: score = 4336.0, terminal = 1, updates=82, max_tile=256, valid_moves=329, invalid_moves=0, seconds=1.43\n",
      "Episode 4800: score = 6716.0, terminal = 1, updates=115, max_tile=512, valid_moves=463, invalid_moves=0, seconds=2.02\n",
      "Episode 4900: score = 7900.0, terminal = 1, updates=136, max_tile=512, valid_moves=547, invalid_moves=0, seconds=2.39\n"
     ]
    }
   ],
   "source": [
    "# Train ! Increment training round for several round of trainings\n",
    "\n",
    "training_params = {\n",
    "    \"num_episodes\": 5_000,\n",
    "    \"print_freq\": 100,\n",
    "    \"agent_name\": agent_params[\"agent_name\"],\n",
    "    \"training_round\": 3\n",
    "}\n",
    "\n",
    "metrics_df, agent = train_agent(environment, agent, **training_params)"
   ]
  },
  {
   "cell_type": "code",
   "execution_count": 61,
   "id": "924f3b65",
   "metadata": {
    "ExecuteTime": {
     "end_time": "2021-05-30T18:25:20.045877Z",
     "start_time": "2021-05-30T18:25:19.670979Z"
    }
   },
   "outputs": [
    {
     "data": {
      "image/png": "[encoded data removed]",
      "text/plain": [
       "<Figure size 1440x360 with 2 Axes>"
      ]
     },
     "metadata": {
      "needs_background": "light"
     },
     "output_type": "display_data"
    }
   ],
   "source": [
    "fig = plt.figure(figsize = (20,5))\n",
    "ax1 = fig.add_subplot(1,2,1)\n",
    "ax1.hist(metrics_df.max_tiles, color = 'b')\n",
    "ax1.set_title('max tile')\n",
    "ax2 = fig.add_subplot(1,2,2)\n",
    "ax2.hist(metrics_df.scores, color = 'r')\n",
    "ax2.set_title('score');"
   ]
  },
  {
   "cell_type": "code",
   "execution_count": 51,
   "id": "88cc7b38",
   "metadata": {
    "ExecuteTime": {
     "end_time": "2021-05-30T06:01:44.737345Z",
     "start_time": "2021-05-30T06:01:38.159868Z"
    }
   },
   "outputs": [
    {
     "data": {
      "text/html": [
       "\n",
       "      <iframe id=\"tensorboard-frame-1af8351af3c62bca\" width=\"100%\" height=\"800\" frameborder=\"0\">\n",
       "      </iframe>\n",
       "      <script>\n",
       "        (function() {\n",
       "          const frame = document.getElementById(\"tensorboard-frame-1af8351af3c62bca\");\n",
       "          const url = new URL(\"/\", window.location);\n",
       "          const port = 6006;\n",
       "          if (port) {\n",
       "            url.port = port;\n",
       "          }\n",
       "          frame.src = url;\n",
       "        })();\n",
       "      </script>\n",
       "    "
      ],
      "text/plain": [
       "<IPython.core.display.HTML object>"
      ]
     },
     "metadata": {},
     "output_type": "display_data"
    }
   ],
   "source": [
    "%tensorboard --logdir \"training_logs\""
   ]
  },
  {
   "cell_type": "markdown",
   "id": "a294eb62",
   "metadata": {},
   "source": [
    "# Testing"
   ]
  },
  {
   "cell_type": "code",
   "execution_count": 43,
   "id": "6424ccf5",
   "metadata": {
    "ExecuteTime": {
     "end_time": "2021-05-29T18:12:28.291221Z",
     "start_time": "2021-05-29T18:12:28.278594Z"
    }
   },
   "outputs": [],
   "source": [
    "# Evaluate for n episodes\n",
    "def test_agent(agent,n_episode,visualization,pause=0.01):\n",
    "    #definir l'env\n",
    "    environment = Environment.create(environment = 'gym', level = '2048-v0', \n",
    "    max_episode_timesteps = 10_000\n",
    "    )\n",
    "    n_episode = n_episode\n",
    "    #dictionnaire pour obtenir la distribution des max tiles de chaque episode\n",
    "    dico_max_tiles_distribution = {}\n",
    "    # liste des score par episode\n",
    "    liste_score=[]\n",
    "    # dictionnaire pour récupérer la meilleure et la pire partie du test\n",
    "    dico_best_worst_episode = {'Worst':[],'Best':[], 'Episode # Worst':[], 'Episode # Best':[]}\n",
    "\n",
    "    for episode in range(n_episode):\n",
    "        sum_rewards = 0.0\n",
    "        states = environment.reset()\n",
    "        list_states=[]\n",
    "        internals = agent.initial_internals()\n",
    "        terminal = False\n",
    "        if visualization == 'yes':\n",
    "            clear_output(wait=True)\n",
    "            print(f'Game #: {episode+1}')\n",
    "            time.sleep(3)\n",
    "\n",
    "        while not terminal:\n",
    "            actions, internals = agent.act(\n",
    "                states= {\n",
    "                    \"state\":states,\n",
    "                    \"action_mask\":environment._environment.environment.get_invalid_moves()},\n",
    "                internals=internals,\n",
    "                independent=True, deterministic=True\n",
    "            )\n",
    "            states, terminal, reward = environment.execute(actions=actions)\n",
    "            matrix = environment._environment.environment.Matrix\n",
    "            list_states.append(matrix.copy())\n",
    "            sum_rewards += reward\n",
    "            if visualization == 'yes':\n",
    "                clear_output(wait=True)\n",
    "                display(HTML(pretty_print(matrix)))\n",
    "                time.sleep(pause)\n",
    "\n",
    "        liste_score.append(sum_rewards)\n",
    "\n",
    "        if sum_rewards >= max(liste_score):\n",
    "            dico_best_worst_episode['Best'] = list_states\n",
    "            dico_best_worst_episode['Episode # Best'] = episode\n",
    "        elif sum_rewards <= min(liste_score):\n",
    "            dico_best_worst_episode['Worst'] = list_states\n",
    "            dico_best_worst_episode['Episode # Worst'] = episode\n",
    "\n",
    "        dico_max_tiles_distribution.setdefault(environment._environment.environment.Matrix.max(),0)\n",
    "        dico_max_tiles_distribution[environment._environment.environment.Matrix.max()] += 1\n",
    "        if visualization == 'yes':\n",
    "            if environment._environment.environment.Matrix.max() < 2048:\n",
    "                print(f\"My final score is {environment._environment.environment.score} with a max tile at {environment._environment.environment.Matrix.max()}. Let's try again!\")\n",
    "            else:\n",
    "                print(f\"My final score is {environment._environment.environment.score} with a max tile at {environment._environment.environment.Matrix.max()}. I mastered this game!\")\n",
    "            time.sleep(3)\n",
    "        \n",
    "    return dico_best_worst_episode, liste_score, dico_max_tiles_distribution\n"
   ]
  },
  {
   "cell_type": "code",
   "execution_count": 70,
   "id": "b70e3218",
   "metadata": {
    "ExecuteTime": {
     "end_time": "2021-05-31T05:56:35.853817Z",
     "start_time": "2021-05-31T05:50:42.942270Z"
    }
   },
   "outputs": [
    {
     "data": {
      "text/html": [
       "\n",
       "            <div style=background-color:#BBADA0;width:300px;height:300px>\n",
       "            <table style=width:100%;height:100%>\n",
       "              <tr>\n",
       "                \n",
       "        <td style=font-size:1px;background-color:#BBADA0;text-align:center;width:100%>\n",
       "            <div style=color:#776E65;background-color:#F57C5F;width:60px;height:60px;margin:auto;display:flex;align-items:center;justify-content:center;border-radius:6px;font-family:serif;font-size:medium><strong>32</strong>\n",
       "            </div>\n",
       "        </td>\n",
       "\n",
       "        <td style=font-size:1px;background-color:#BBADA0;text-align:center;width:100%>\n",
       "            <div style=color:#776E65;background-color:#EDCE71;width:60px;height:60px;margin:auto;display:flex;align-items:center;justify-content:center;border-radius:6px;font-family:serif;font-size:medium><strong>128</strong>\n",
       "            </div>\n",
       "        </td>\n",
       "\n",
       "        <td style=font-size:1px;background-color:#BBADA0;text-align:center;width:100%>\n",
       "            <div style=color:#776E65;background-color:#EDC850;width:60px;height:60px;margin:auto;display:flex;align-items:center;justify-content:center;border-radius:6px;font-family:serif;font-size:medium><strong>512</strong>\n",
       "            </div>\n",
       "        </td>\n",
       "\n",
       "        <td style=font-size:1px;background-color:#BBADA0;text-align:center;width:100%>\n",
       "            <div style=color:#776E65;background-color:#F59565;width:60px;height:60px;margin:auto;display:flex;align-items:center;justify-content:center;border-radius:6px;font-family:serif;font-size:medium><strong>16</strong>\n",
       "            </div>\n",
       "        </td>\n",
       "                </tr>\n",
       "              <tr>\n",
       "              \n",
       "        <td style=font-size:1px;background-color:#BBADA0;text-align:center;width:100%>\n",
       "            <div style=color:#776E65;background-color:#F59565;width:60px;height:60px;margin:auto;display:flex;align-items:center;justify-content:center;border-radius:6px;font-family:serif;font-size:medium><strong>16</strong>\n",
       "            </div>\n",
       "        </td>\n",
       "\n",
       "        <td style=font-size:1px;background-color:#BBADA0;text-align:center;width:100%>\n",
       "            <div style=color:#776E65;background-color:#F57C5F;width:60px;height:60px;margin:auto;display:flex;align-items:center;justify-content:center;border-radius:6px;font-family:serif;font-size:medium><strong>32</strong>\n",
       "            </div>\n",
       "        </td>\n",
       "\n",
       "        <td style=font-size:1px;background-color:#BBADA0;text-align:center;width:100%>\n",
       "            <div style=color:#776E65;background-color:#F2B179;width:60px;height:60px;margin:auto;display:flex;align-items:center;justify-content:center;border-radius:6px;font-family:serif;font-size:medium><strong>8</strong>\n",
       "            </div>\n",
       "        </td>\n",
       "\n",
       "        <td style=font-size:1px;background-color:#BBADA0;text-align:center;width:100%>\n",
       "            <div style=color:#776E65;background-color:#ECE0CA;width:60px;height:60px;margin:auto;display:flex;align-items:center;justify-content:center;border-radius:6px;font-family:serif;font-size:medium><strong>4</strong>\n",
       "            </div>\n",
       "        </td>\n",
       "              </tr>\n",
       "              <tr>\n",
       "              \n",
       "        <td style=font-size:1px;background-color:#BBADA0;text-align:center;width:100%>\n",
       "            <div style=color:#776E65;background-color:#F2B179;width:60px;height:60px;margin:auto;display:flex;align-items:center;justify-content:center;border-radius:6px;font-family:serif;font-size:medium><strong>8</strong>\n",
       "            </div>\n",
       "        </td>\n",
       "\n",
       "        <td style=font-size:1px;background-color:#BBADA0;text-align:center;width:100%>\n",
       "            <div style=color:#776E65;background-color:#ECE0CA;width:60px;height:60px;margin:auto;display:flex;align-items:center;justify-content:center;border-radius:6px;font-family:serif;font-size:medium><strong>4</strong>\n",
       "            </div>\n",
       "        </td>\n",
       "\n",
       "        <td style=font-size:1px;background-color:#BBADA0;text-align:center;width:100%>\n",
       "            <div style=color:#776E65;background-color:#ECE0CA;width:60px;height:60px;margin:auto;display:flex;align-items:center;justify-content:center;border-radius:6px;font-family:serif;font-size:medium><strong>4</strong>\n",
       "            </div>\n",
       "        </td>\n",
       "\n",
       "        <td style=font-size:1px;background-color:#BBADA0;text-align:center;width:100%>\n",
       "            <div style=color:#776E65;background-color:#CDC0B4;width:60px;height:60px;margin:auto;display:flex;align-items:center;justify-content:center;border-radius:6px;font-family:serif;font-size:medium><strong></strong>\n",
       "            </div>\n",
       "        </td>\n",
       "              </tr>\n",
       "              <tr>\n",
       "              \n",
       "        <td style=font-size:1px;background-color:#BBADA0;text-align:center;width:100%>\n",
       "            <div style=color:#776E65;background-color:#ECE0CA;width:60px;height:60px;margin:auto;display:flex;align-items:center;justify-content:center;border-radius:6px;font-family:serif;font-size:medium><strong>4</strong>\n",
       "            </div>\n",
       "        </td>\n",
       "\n",
       "        <td style=font-size:1px;background-color:#BBADA0;text-align:center;width:100%>\n",
       "            <div style=color:#776E65;background-color:#ECE0CA;width:60px;height:60px;margin:auto;display:flex;align-items:center;justify-content:center;border-radius:6px;font-family:serif;font-size:medium><strong>4</strong>\n",
       "            </div>\n",
       "        </td>\n",
       "\n",
       "        <td style=font-size:1px;background-color:#BBADA0;text-align:center;width:100%>\n",
       "            <div style=color:#776E65;background-color:#CDC0B4;width:60px;height:60px;margin:auto;display:flex;align-items:center;justify-content:center;border-radius:6px;font-family:serif;font-size:medium><strong></strong>\n",
       "            </div>\n",
       "        </td>\n",
       "\n",
       "        <td style=font-size:1px;background-color:#BBADA0;text-align:center;width:100%>\n",
       "            <div style=color:#776E65;background-color:#CDC0B4;width:60px;height:60px;margin:auto;display:flex;align-items:center;justify-content:center;border-radius:6px;font-family:serif;font-size:medium><strong></strong>\n",
       "            </div>\n",
       "        </td>\n",
       "              </tr>\n",
       "            </table>\n",
       "            </div>\n",
       "            "
      ],
      "text/plain": [
       "<IPython.core.display.HTML object>"
      ]
     },
     "metadata": {},
     "output_type": "display_data"
    },
    {
     "ename": "KeyboardInterrupt",
     "evalue": "",
     "output_type": "error",
     "traceback": [
      "\u001b[0;31m---------------------------------------------------------------------------\u001b[0m",
      "\u001b[0;31mKeyboardInterrupt\u001b[0m                         Traceback (most recent call last)",
      "\u001b[0;32m<ipython-input-70-2b0f0b56aef6>\u001b[0m in \u001b[0;36m<module>\u001b[0;34m\u001b[0m\n\u001b[0;32m----> 1\u001b[0;31m \u001b[0mresults\u001b[0m \u001b[0;34m=\u001b[0m \u001b[0mtest_agent\u001b[0m\u001b[0;34m(\u001b[0m\u001b[0magent\u001b[0m\u001b[0;34m,\u001b[0m \u001b[0;36m10\u001b[0m\u001b[0;34m,\u001b[0m \u001b[0;34m'yes'\u001b[0m\u001b[0;34m,\u001b[0m\u001b[0;36m1\u001b[0m\u001b[0;34m)\u001b[0m\u001b[0;34m\u001b[0m\u001b[0;34m\u001b[0m\u001b[0m\n\u001b[0m",
      "\u001b[0;32m<ipython-input-43-f5e9d6819d34>\u001b[0m in \u001b[0;36mtest_agent\u001b[0;34m(agent, n_episode, visualization, pause)\u001b[0m\n\u001b[1;32m     39\u001b[0m                 \u001b[0mclear_output\u001b[0m\u001b[0;34m(\u001b[0m\u001b[0mwait\u001b[0m\u001b[0;34m=\u001b[0m\u001b[0;32mTrue\u001b[0m\u001b[0;34m)\u001b[0m\u001b[0;34m\u001b[0m\u001b[0;34m\u001b[0m\u001b[0m\n\u001b[1;32m     40\u001b[0m                 \u001b[0mdisplay\u001b[0m\u001b[0;34m(\u001b[0m\u001b[0mHTML\u001b[0m\u001b[0;34m(\u001b[0m\u001b[0mpretty_print\u001b[0m\u001b[0;34m(\u001b[0m\u001b[0mmatrix\u001b[0m\u001b[0;34m)\u001b[0m\u001b[0;34m)\u001b[0m\u001b[0;34m)\u001b[0m\u001b[0;34m\u001b[0m\u001b[0;34m\u001b[0m\u001b[0m\n\u001b[0;32m---> 41\u001b[0;31m                 \u001b[0mtime\u001b[0m\u001b[0;34m.\u001b[0m\u001b[0msleep\u001b[0m\u001b[0;34m(\u001b[0m\u001b[0mpause\u001b[0m\u001b[0;34m)\u001b[0m\u001b[0;34m\u001b[0m\u001b[0;34m\u001b[0m\u001b[0m\n\u001b[0m\u001b[1;32m     42\u001b[0m \u001b[0;34m\u001b[0m\u001b[0m\n\u001b[1;32m     43\u001b[0m         \u001b[0mliste_score\u001b[0m\u001b[0;34m.\u001b[0m\u001b[0mappend\u001b[0m\u001b[0;34m(\u001b[0m\u001b[0msum_rewards\u001b[0m\u001b[0;34m)\u001b[0m\u001b[0;34m\u001b[0m\u001b[0;34m\u001b[0m\u001b[0m\n",
      "\u001b[0;31mKeyboardInterrupt\u001b[0m: "
     ]
    }
   ],
   "source": [
    "results = test_agent(agent, 10, 'yes',1)"
   ]
  },
  {
   "cell_type": "code",
   "execution_count": 68,
   "id": "2f7cd4a9",
   "metadata": {
    "ExecuteTime": {
     "end_time": "2021-05-30T19:09:33.807133Z",
     "start_time": "2021-05-30T19:09:33.491489Z"
    }
   },
   "outputs": [
    {
     "name": "stdout",
     "output_type": "stream",
     "text": [
      "Mean score over the test: 5260.88\n",
      "Median score over the test: 3624.0\n",
      "Std score over the test: 3925.434379224801\n",
      "Max tile over the test: 1024\n"
     ]
    },
    {
     "data": {
      "image/png": "[encoded data removed]",
      "text/plain": [
       "<Figure size 1008x288 with 2 Axes>"
      ]
     },
     "metadata": {
      "needs_background": "light"
     },
     "output_type": "display_data"
    }
   ],
   "source": [
    "plot_metrics(sort_dico(results[2]), results[1])"
   ]
  },
  {
   "cell_type": "code",
   "execution_count": null,
   "id": "e9169df7",
   "metadata": {},
   "outputs": [],
   "source": []
  }
 ],
 "metadata": {
  "kernelspec": {
   "display_name": "Python 3",
   "language": "python",
   "name": "python3"
  },
  "language_info": {
   "codemirror_mode": {
    "name": "ipython",
    "version": 3
   },
   "file_extension": ".py",
   "mimetype": "text/x-python",
   "name": "python",
   "nbconvert_exporter": "python",
   "pygments_lexer": "ipython3",
   "version": "3.8.6"
  },
  "toc": {
   "base_numbering": 1,
   "nav_menu": {},
   "number_sections": true,
   "sideBar": true,
   "skip_h1_title": false,
   "title_cell": "Table of Contents",
   "title_sidebar": "Contents",
   "toc_cell": false,
   "toc_position": {},
   "toc_section_display": true,
   "toc_window_display": false
  }
 },
 "nbformat": 4,
 "nbformat_minor": 5
}
